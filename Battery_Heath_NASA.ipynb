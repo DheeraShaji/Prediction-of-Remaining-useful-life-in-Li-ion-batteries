{
  "cells": [
    {
      "cell_type": "code",
      "execution_count": null,
      "id": "28f2e3df",
      "metadata": {
        "execution": {
          "iopub.execute_input": "2021-07-22T04:44:58.633904Z",
          "iopub.status.busy": "2021-07-22T04:44:58.632628Z",
          "iopub.status.idle": "2021-07-22T04:44:58.652037Z",
          "shell.execute_reply": "2021-07-22T04:44:58.652614Z",
          "shell.execute_reply.started": "2021-07-21T14:55:52.119771Z"
        },
        "papermill": {
          "duration": 0.051931,
          "end_time": "2021-07-22T04:44:58.652915",
          "exception": false,
          "start_time": "2021-07-22T04:44:58.600984",
          "status": "completed"
        },
        "tags": [],
        "colab": {
          "base_uri": "https://localhost:8080/"
        },
        "id": "28f2e3df",
        "outputId": "a2e69188-6d5a-4525-d6dc-789b9f0d57dd"
      },
      "outputs": [
        {
          "output_type": "stream",
          "name": "stderr",
          "text": [
            "/usr/local/lib/python3.7/dist-packages/ipykernel_launcher.py:1: UserWarning: Config option `use_jedi` not recognized by `IPCompleter`.\n",
            "  \"\"\"Entry point for launching an IPython kernel.\n"
          ]
        }
      ],
      "source": [
        "%config Completer.use_jedi = False"
      ]
    },
    {
      "cell_type": "code",
      "execution_count": null,
      "id": "0cb62f4e",
      "metadata": {
        "execution": {
          "iopub.execute_input": "2021-07-22T04:44:58.709412Z",
          "iopub.status.busy": "2021-07-22T04:44:58.708761Z",
          "iopub.status.idle": "2021-07-22T04:46:17.516608Z",
          "shell.execute_reply": "2021-07-22T04:46:17.515963Z",
          "shell.execute_reply.started": "2021-07-21T14:55:52.144381Z"
        },
        "papermill": {
          "duration": 78.83729,
          "end_time": "2021-07-22T04:46:17.516783",
          "exception": false,
          "start_time": "2021-07-22T04:44:58.679493",
          "status": "completed"
        },
        "tags": [],
        "colab": {
          "base_uri": "https://localhost:8080/"
        },
        "id": "0cb62f4e",
        "outputId": "04738675-04f4-4c73-f21b-22b4f1dde513"
      },
      "outputs": [
        {
          "output_type": "stream",
          "name": "stdout",
          "text": [
            "Name: tensorflow\n",
            "Version: 2.8.2+zzzcolab20220527125636\n",
            "Summary: TensorFlow is an open source machine learning framework for everyone.\n",
            "Home-page: https://www.tensorflow.org/\n",
            "Author: Google Inc.\n",
            "Author-email: packages@tensorflow.org\n",
            "License: Apache 2.0\n",
            "Location: /usr/local/lib/python3.7/dist-packages\n",
            "Requires: flatbuffers, gast, protobuf, typing-extensions, h5py, opt-einsum, keras, six, numpy, astunparse, libclang, setuptools, tensorflow-estimator, keras-preprocessing, google-pasta, tensorboard, absl-py, grpcio, tensorflow-io-gcs-filesystem, wrapt, termcolor\n",
            "Required-by: kapre\n",
            "[naza.zip]\n",
            "  End-of-central-directory signature not found.  Either this file is not\n",
            "  a zipfile, or it constitutes one disk of a multi-part archive.  In the\n",
            "  latter case the central directory and zipfile comment will be found on\n",
            "  the last disk(s) of this archive.\n",
            "unzip:  cannot find zipfile directory in one of naza.zip or\n",
            "        naza.zip.zip, and cannot find naza.zip.ZIP, period.\n"
          ]
        }
      ],
      "source": [
        "%matplotlib inline\n",
        "!pip show tensorflow\n",
        "!wget -cq https://ti.arc.nasa.gov/c/5 -O naza.zip\n",
        "!unzip -qqo naza.zip -d battery_data"
      ]
    },
    {
      "cell_type": "code",
      "execution_count": null,
      "id": "17122aa5",
      "metadata": {
        "execution": {
          "iopub.execute_input": "2021-07-22T04:46:17.630168Z",
          "iopub.status.busy": "2021-07-22T04:46:17.629472Z",
          "iopub.status.idle": "2021-07-22T04:46:18.992408Z",
          "shell.execute_reply": "2021-07-22T04:46:18.991834Z",
          "shell.execute_reply.started": "2021-07-21T14:56:03.29303Z"
        },
        "papermill": {
          "duration": 1.395162,
          "end_time": "2021-07-22T04:46:18.992590",
          "exception": false,
          "start_time": "2021-07-22T04:46:17.597428",
          "status": "completed"
        },
        "tags": [],
        "id": "17122aa5"
      },
      "outputs": [],
      "source": [
        "import datetime\n",
        "import numpy as np\n",
        "import pandas as pd\n",
        "from scipy.io import loadmat\n",
        "from sklearn.preprocessing import MinMaxScaler\n",
        "from sklearn.metrics import mean_squared_error\n",
        "from sklearn import metrics\n",
        "import matplotlib.pyplot as plt\n",
        "import seaborn as sns"
      ]
    },
    {
      "cell_type": "code",
      "execution_count": null,
      "id": "60a21a36",
      "metadata": {
        "execution": {
          "iopub.execute_input": "2021-07-22T04:46:19.230224Z",
          "iopub.status.busy": "2021-07-22T04:46:19.226477Z",
          "iopub.status.idle": "2021-07-22T04:46:20.537839Z",
          "shell.execute_reply": "2021-07-22T04:46:20.537155Z",
          "shell.execute_reply.started": "2021-07-21T14:56:04.585329Z"
        },
        "papermill": {
          "duration": 1.35471,
          "end_time": "2021-07-22T04:46:20.537986",
          "exception": false,
          "start_time": "2021-07-22T04:46:19.183276",
          "status": "completed"
        },
        "tags": [],
        "id": "60a21a36"
      },
      "outputs": [],
      "source": [
        "def load_data(battery):\n",
        "  mat = loadmat('battery_data/' + battery + '.mat')\n",
        "  print('Total data in dataset: ', len(mat[battery][0, 0]['cycle'][0]))\n",
        "  counter = 0\n",
        "  dataset = []\n",
        "  capacity_data = []\n",
        "  \n",
        "  for i in range(len(mat[battery][0, 0]['cycle'][0])):\n",
        "    row = mat[battery][0, 0]['cycle'][0, i]\n",
        "    if row['type'][0] == 'discharge':\n",
        "      ambient_temperature = row['ambient_temperature'][0][0]\n",
        "      date_time = datetime.datetime(int(row['time'][0][0]),\n",
        "                               int(row['time'][0][1]),\n",
        "                               int(row['time'][0][2]),\n",
        "                               int(row['time'][0][3]),\n",
        "                               int(row['time'][0][4])) + datetime.timedelta(seconds=int(row['time'][0][5]))\n",
        "      data = row['data']\n",
        "      capacity = data[0][0]['Capacity'][0][0]\n",
        "      for j in range(len(data[0][0]['Voltage_measured'][0])):\n",
        "        voltage_measured = data[0][0]['Voltage_measured'][0][j]\n",
        "        current_measured = data[0][0]['Current_measured'][0][j]\n",
        "        temperature_measured = data[0][0]['Temperature_measured'][0][j]\n",
        "        current_load = data[0][0]['Current_load'][0][j]\n",
        "        voltage_load = data[0][0]['Voltage_load'][0][j]\n",
        "        time = data[0][0]['Time'][0][j]\n",
        "        dataset.append([counter + 1, ambient_temperature, date_time, capacity,\n",
        "                        voltage_measured, current_measured,\n",
        "                        temperature_measured, current_load,\n",
        "                        voltage_load, time])\n",
        "      capacity_data.append([counter + 1, ambient_temperature, date_time, capacity])\n",
        "      counter = counter + 1\n",
        "  print(dataset[0])\n",
        "  return [pd.DataFrame(data=dataset,\n",
        "                       columns=['cycle', 'ambient_temperature', 'datetime',\n",
        "                                'capacity', 'voltage_measured',\n",
        "                                'current_measured', 'temperature_measured',\n",
        "                                'current_load', 'voltage_load', 'time']),\n",
        "          pd.DataFrame(data=capacity_data,\n",
        "                       columns=['cycle', 'ambient_temperature', 'datetime',\n",
        "                                'capacity'])]\n",
        "dataset, capacity = load_data('B0005')\n",
        "pd.set_option('display.max_columns', 10)\n",
        "print(dataset.head())\n",
        "dataset.describe()"
      ]
    },
    {
      "cell_type": "code",
      "execution_count": null,
      "id": "40ebb0d9",
      "metadata": {
        "execution": {
          "iopub.execute_input": "2021-07-22T04:46:20.658266Z",
          "iopub.status.busy": "2021-07-22T04:46:20.657439Z",
          "iopub.status.idle": "2021-07-22T04:46:20.967711Z",
          "shell.execute_reply": "2021-07-22T04:46:20.967106Z",
          "shell.execute_reply.started": "2021-07-21T14:56:05.914857Z"
        },
        "papermill": {
          "duration": 0.345743,
          "end_time": "2021-07-22T04:46:20.967861",
          "exception": false,
          "start_time": "2021-07-22T04:46:20.622118",
          "status": "completed"
        },
        "tags": [],
        "colab": {
          "base_uri": "https://localhost:8080/",
          "height": 530
        },
        "id": "40ebb0d9",
        "outputId": "c2bdc22b-42ba-4211-a51d-639bea58fd2d"
      },
      "outputs": [
        {
          "output_type": "execute_result",
          "data": {
            "text/plain": [
              "Text(0.5, 1.0, 'Discharge B0005')"
            ]
          },
          "metadata": {},
          "execution_count": 11
        },
        {
          "output_type": "display_data",
          "data": {
            "text/plain": [
              "<Figure size 864x576 with 1 Axes>"
            ],
            "image/png": "[encoded data removed]"
          },
          "metadata": {}
        }
      ],
      "source": [
        "plot_df = capacity.loc[(capacity['cycle']>=1),['cycle','capacity']]\n",
        "sns.set_style(\"darkgrid\")\n",
        "plt.figure(figsize=(12, 8))\n",
        "plt.plot(plot_df['cycle'], plot_df['capacity'])\n",
        "#Draw threshold\n",
        "plt.plot([0.,len(capacity)], [1.4, 1.4])\n",
        "plt.ylabel('Capacity')\n",
        "# make x-axis ticks legible\n",
        "adf = plt.gca().get_xaxis().get_major_formatter()\n",
        "plt.xlabel('cycle')\n",
        "plt.title('Discharge B0005')"
      ]
    },
    {
      "cell_type": "code",
      "source": [
        "capacity.head()"
      ],
      "metadata": {
        "id": "zSHq4A-wJkys",
        "outputId": "43a10288-522b-47ec-f948-5a929276af89",
        "colab": {
          "base_uri": "https://localhost:8080/",
          "height": 206
        }
      },
      "id": "zSHq4A-wJkys",
      "execution_count": null,
      "outputs": [
        {
          "output_type": "execute_result",
          "data": {
            "text/plain": [
              "   cycle  ambient_temperature            datetime  capacity\n",
              "0      1                   24 2008-04-02 15:25:41  1.856487\n",
              "1      2                   24 2008-04-02 19:43:48  1.846327\n",
              "2      3                   24 2008-04-03 00:01:06  1.835349\n",
              "3      4                   24 2008-04-03 04:16:37  1.835263\n",
              "4      5                   24 2008-04-03 08:33:25  1.834646"
            ],
            "text/html": [
              "\n",
              "  <div id=\"df-d04885d8-e96b-4d75-8182-d187545f779f\">\n",
              "    <div class=\"colab-df-container\">\n",
              "      <div>\n",
              "<style scoped>\n",
              "    .dataframe tbody tr th:only-of-type {\n",
              "        vertical-align: middle;\n",
              "    }\n",
              "\n",
              "    .dataframe tbody tr th {\n",
              "        vertical-align: top;\n",
              "    }\n",
              "\n",
              "    .dataframe thead th {\n",
              "        text-align: right;\n",
              "    }\n",
              "</style>\n",
              "<table border=\"1\" class=\"dataframe\">\n",
              "  <thead>\n",
              "    <tr style=\"text-align: right;\">\n",
              "      <th></th>\n",
              "      <th>cycle</th>\n",
              "      <th>ambient_temperature</th>\n",
              "      <th>datetime</th>\n",
              "      <th>capacity</th>\n",
              "    </tr>\n",
              "  </thead>\n",
              "  <tbody>\n",
              "    <tr>\n",
              "      <th>0</th>\n",
              "      <td>1</td>\n",
              "      <td>24</td>\n",
              "      <td>2008-04-02 15:25:41</td>\n",
              "      <td>1.856487</td>\n",
              "    </tr>\n",
              "    <tr>\n",
              "      <th>1</th>\n",
              "      <td>2</td>\n",
              "      <td>24</td>\n",
              "      <td>2008-04-02 19:43:48</td>\n",
              "      <td>1.846327</td>\n",
              "    </tr>\n",
              "    <tr>\n",
              "      <th>2</th>\n",
              "      <td>3</td>\n",
              "      <td>24</td>\n",
              "      <td>2008-04-03 00:01:06</td>\n",
              "      <td>1.835349</td>\n",
              "    </tr>\n",
              "    <tr>\n",
              "      <th>3</th>\n",
              "      <td>4</td>\n",
              "      <td>24</td>\n",
              "      <td>2008-04-03 04:16:37</td>\n",
              "      <td>1.835263</td>\n",
              "    </tr>\n",
              "    <tr>\n",
              "      <th>4</th>\n",
              "      <td>5</td>\n",
              "      <td>24</td>\n",
              "      <td>2008-04-03 08:33:25</td>\n",
              "      <td>1.834646</td>\n",
              "    </tr>\n",
              "  </tbody>\n",
              "</table>\n",
              "</div>\n",
              "      <button class=\"colab-df-convert\" onclick=\"convertToInteractive('df-d04885d8-e96b-4d75-8182-d187545f779f')\"\n",
              "              title=\"Convert this dataframe to an interactive table.\"\n",
              "              style=\"display:none;\">\n",
              "        \n",
              "  <svg xmlns=\"http://www.w3.org/2000/svg\" height=\"24px\"viewBox=\"0 0 24 24\"\n",
              "       width=\"24px\">\n",
              "    <path d=\"M0 0h24v24H0V0z\" fill=\"none\"/>\n",
              "    <path d=\"M18.56 5.44l.94 2.06.94-2.06 2.06-.94-2.06-.94-.94-2.06-.94 2.06-2.06.94zm-11 1L8.5 8.5l.94-2.06 2.06-.94-2.06-.94L8.5 2.5l-.94 2.06-2.06.94zm10 10l.94 2.06.94-2.06 2.06-.94-2.06-.94-.94-2.06-.94 2.06-2.06.94z\"/><path d=\"M17.41 7.96l-1.37-1.37c-.4-.4-.92-.59-1.43-.59-.52 0-1.04.2-1.43.59L10.3 9.45l-7.72 7.72c-.78.78-.78 2.05 0 2.83L4 21.41c.39.39.9.59 1.41.59.51 0 1.02-.2 1.41-.59l7.78-7.78 2.81-2.81c.8-.78.8-2.07 0-2.86zM5.41 20L4 18.59l7.72-7.72 1.47 1.35L5.41 20z\"/>\n",
              "  </svg>\n",
              "      </button>\n",
              "      \n",
              "  <style>\n",
              "    .colab-df-container {\n",
              "      display:flex;\n",
              "      flex-wrap:wrap;\n",
              "      gap: 12px;\n",
              "    }\n",
              "\n",
              "    .colab-df-convert {\n",
              "      background-color: #E8F0FE;\n",
              "      border: none;\n",
              "      border-radius: 50%;\n",
              "      cursor: pointer;\n",
              "      display: none;\n",
              "      fill: #1967D2;\n",
              "      height: 32px;\n",
              "      padding: 0 0 0 0;\n",
              "      width: 32px;\n",
              "    }\n",
              "\n",
              "    .colab-df-convert:hover {\n",
              "      background-color: #E2EBFA;\n",
              "      box-shadow: 0px 1px 2px rgba(60, 64, 67, 0.3), 0px 1px 3px 1px rgba(60, 64, 67, 0.15);\n",
              "      fill: #174EA6;\n",
              "    }\n",
              "\n",
              "    [theme=dark] .colab-df-convert {\n",
              "      background-color: #3B4455;\n",
              "      fill: #D2E3FC;\n",
              "    }\n",
              "\n",
              "    [theme=dark] .colab-df-convert:hover {\n",
              "      background-color: #434B5C;\n",
              "      box-shadow: 0px 1px 3px 1px rgba(0, 0, 0, 0.15);\n",
              "      filter: drop-shadow(0px 1px 2px rgba(0, 0, 0, 0.3));\n",
              "      fill: #FFFFFF;\n",
              "    }\n",
              "  </style>\n",
              "\n",
              "      <script>\n",
              "        const buttonEl =\n",
              "          document.querySelector('#df-d04885d8-e96b-4d75-8182-d187545f779f button.colab-df-convert');\n",
              "        buttonEl.style.display =\n",
              "          google.colab.kernel.accessAllowed ? 'block' : 'none';\n",
              "\n",
              "        async function convertToInteractive(key) {\n",
              "          const element = document.querySelector('#df-d04885d8-e96b-4d75-8182-d187545f779f');\n",
              "          const dataTable =\n",
              "            await google.colab.kernel.invokeFunction('convertToInteractive',\n",
              "                                                     [key], {});\n",
              "          if (!dataTable) return;\n",
              "\n",
              "          const docLinkHtml = 'Like what you see? Visit the ' +\n",
              "            '<a target=\"_blank\" href=https://colab.research.google.com/notebooks/data_table.ipynb>data table notebook</a>'\n",
              "            + ' to learn more about interactive tables.';\n",
              "          element.innerHTML = '';\n",
              "          dataTable['output_type'] = 'display_data';\n",
              "          await google.colab.output.renderOutput(dataTable, element);\n",
              "          const docLink = document.createElement('div');\n",
              "          docLink.innerHTML = docLinkHtml;\n",
              "          element.appendChild(docLink);\n",
              "        }\n",
              "      </script>\n",
              "    </div>\n",
              "  </div>\n",
              "  "
            ]
          },
          "metadata": {},
          "execution_count": 12
        }
      ]
    },
    {
      "cell_type": "code",
      "execution_count": null,
      "id": "ad513dfc",
      "metadata": {
        "execution": {
          "iopub.execute_input": "2021-07-22T04:46:21.135730Z",
          "iopub.status.busy": "2021-07-22T04:46:21.129892Z",
          "iopub.status.idle": "2021-07-22T04:46:21.159849Z",
          "shell.execute_reply": "2021-07-22T04:46:21.159126Z",
          "shell.execute_reply.started": "2021-07-21T14:56:06.21875Z"
        },
        "papermill": {
          "duration": 0.101645,
          "end_time": "2021-07-22T04:46:21.160002",
          "exception": false,
          "start_time": "2021-07-22T04:46:21.058357",
          "status": "completed"
        },
        "tags": [],
        "colab": {
          "base_uri": "https://localhost:8080/"
        },
        "id": "ad513dfc",
        "outputId": "f0e861e6-5534-470a-cc61-9b38d9a559d9"
      },
      "outputs": [
        {
          "output_type": "stream",
          "name": "stdout",
          "text": [
            "   cycle            datetime  capacity       SoH\n",
            "0      1 2008-04-02 15:25:41  1.856487  1.000000\n",
            "1      2 2008-04-02 19:43:48  1.846327  0.994527\n",
            "2      3 2008-04-03 00:01:06  1.835349  0.988614\n",
            "3      4 2008-04-03 04:16:37  1.835263  0.988567\n",
            "4      5 2008-04-03 08:33:25  1.834646  0.988235\n"
          ]
        }
      ],
      "source": [
        "attrib=['cycle', 'datetime', 'capacity']\n",
        "dis_ele = capacity[attrib]\n",
        "C = dis_ele['capacity'][0]\n",
        "for i in range(len(dis_ele)):\n",
        "    dis_ele['SoH']=(dis_ele['capacity'])/C\n",
        "print(dis_ele.head(5))"
      ]
    },
    {
      "cell_type": "code",
      "source": [
        "for i in range(1, len(dis_ele)):\n",
        "    if (dis_ele.loc[i,\"SoH\"]>dis_ele.loc[i-1,\"SoH\"]):\n",
        "      dis_ele.loc[i,\"SoH\"]=dis_ele.loc[i-1,\"SoH\"]"
      ],
      "metadata": {
        "id": "sVMKKHRij6p1"
      },
      "id": "sVMKKHRij6p1",
      "execution_count": null,
      "outputs": []
    },
    {
      "cell_type": "code",
      "execution_count": null,
      "id": "4d1b9991",
      "metadata": {
        "execution": {
          "iopub.execute_input": "2021-07-22T04:46:21.305481Z",
          "iopub.status.busy": "2021-07-22T04:46:21.288903Z",
          "iopub.status.idle": "2021-07-22T04:46:21.535452Z",
          "shell.execute_reply": "2021-07-22T04:46:21.534745Z",
          "shell.execute_reply.started": "2021-07-21T14:56:06.288338Z"
        },
        "papermill": {
          "duration": 0.284715,
          "end_time": "2021-07-22T04:46:21.535620",
          "exception": false,
          "start_time": "2021-07-22T04:46:21.250905",
          "status": "completed"
        },
        "tags": [],
        "colab": {
          "base_uri": "https://localhost:8080/",
          "height": 367
        },
        "id": "4d1b9991",
        "outputId": "7b0a03cf-ca5c-495c-c14d-7c230c8da54e"
      },
      "outputs": [
        {
          "output_type": "execute_result",
          "data": {
            "text/plain": [
              "Text(0.5, 1.0, 'Discharge B0005')"
            ]
          },
          "metadata": {},
          "execution_count": 15
        },
        {
          "output_type": "display_data",
          "data": {
            "text/plain": [
              "<Figure size 576x360 with 1 Axes>"
            ],
            "image/png": "[encoded data removed]"
          },
          "metadata": {}
        }
      ],
      "source": [
        "plot_df = dis_ele.loc[(dis_ele['cycle']>=1),['cycle','SoH']]\n",
        "sns.set_style(\"white\")\n",
        "plt.figure(figsize=(8, 5))\n",
        "plt.plot(plot_df['cycle'], plot_df['SoH'])\n",
        "#Draw threshold\n",
        "plt.plot([0.,len(capacity)], [0.70, 0.70])\n",
        "plt.ylabel('SOH')\n",
        "# make x-axis ticks legible\n",
        "adf = plt.gca().get_xaxis().get_major_formatter()\n",
        "plt.xlabel('cycle')\n",
        "plt.title('Discharge B0005')"
      ]
    },
    {
      "cell_type": "code",
      "execution_count": null,
      "id": "f20bd3ad",
      "metadata": {
        "execution": {
          "iopub.execute_input": "2021-07-22T04:46:21.692739Z",
          "iopub.status.busy": "2021-07-22T04:46:21.682242Z",
          "iopub.status.idle": "2021-07-22T04:46:22.268522Z",
          "shell.execute_reply": "2021-07-22T04:46:22.267883Z",
          "shell.execute_reply.started": "2021-07-21T14:56:06.552479Z"
        },
        "papermill": {
          "duration": 0.637334,
          "end_time": "2021-07-22T04:46:22.268685",
          "exception": false,
          "start_time": "2021-07-22T04:46:21.631351",
          "status": "completed"
        },
        "tags": [],
        "colab": {
          "base_uri": "https://localhost:8080/"
        },
        "id": "f20bd3ad",
        "outputId": "28290cc9-11dd-427b-dc56-c437dc1c0089"
      },
      "outputs": [
        {
          "output_type": "stream",
          "name": "stdout",
          "text": [
            "(50285, 7)\n",
            "(50285, 1)\n"
          ]
        }
      ],
      "source": [
        "C = dataset['capacity'][0]\n",
        "soh = []\n",
        "for i in range(len(dataset)):\n",
        "  soh.append([dataset['capacity'][i] / C])\n",
        "soh = pd.DataFrame(data=soh, columns=['SoH'])\n",
        "\n",
        "attribs=['capacity', 'voltage_measured', 'current_measured',\n",
        "         'temperature_measured', 'current_load', 'voltage_load', 'time']\n",
        "train_dataset = dataset[attribs]\n",
        "sc = MinMaxScaler(feature_range=(0,1))\n",
        "train_dataset = sc.fit_transform(train_dataset)\n",
        "print(train_dataset.shape)\n",
        "print(soh.shape)"
      ]
    },
    {
      "cell_type": "code",
      "execution_count": null,
      "id": "bd824395",
      "metadata": {
        "execution": {
          "iopub.execute_input": "2021-07-22T04:46:22.401756Z",
          "iopub.status.busy": "2021-07-22T04:46:22.400854Z",
          "iopub.status.idle": "2021-07-22T04:46:28.276559Z",
          "shell.execute_reply": "2021-07-22T04:46:28.275812Z",
          "shell.execute_reply.started": "2021-07-21T14:56:07.159332Z"
        },
        "papermill": {
          "duration": 5.912746,
          "end_time": "2021-07-22T04:46:28.276711",
          "exception": false,
          "start_time": "2021-07-22T04:46:22.363965",
          "status": "completed"
        },
        "tags": [],
        "id": "bd824395"
      },
      "outputs": [],
      "source": [
        "import tensorflow as tf\n",
        "from tensorflow.keras.models import Sequential\n",
        "from tensorflow.keras.layers import Dense\n",
        "from tensorflow.keras.layers import Dropout\n",
        "from tensorflow.keras.layers import Flatten\n",
        "from tensorflow.keras.layers import LSTM\n",
        "from tensorflow.keras.optimizers import Adam"
      ]
    },
    {
      "cell_type": "code",
      "source": [
        "dataset"
      ],
      "metadata": {
        "id": "PjoJLO4kZZmo",
        "outputId": "1ddd92f9-e608-45b8-b05c-32da7a738571",
        "colab": {
          "base_uri": "https://localhost:8080/",
          "height": 424
        }
      },
      "id": "PjoJLO4kZZmo",
      "execution_count": null,
      "outputs": [
        {
          "output_type": "execute_result",
          "data": {
            "text/plain": [
              "     cycle  capacity\n",
              "0        1  1.856487\n",
              "1        2  1.846327\n",
              "2        3  1.835349\n",
              "3        4  1.835263\n",
              "4        5  1.834646\n",
              "..     ...       ...\n",
              "163    164  1.293464\n",
              "164    165  1.288003\n",
              "165    166  1.287453\n",
              "166    167  1.309015\n",
              "167    168  1.325079\n",
              "\n",
              "[168 rows x 2 columns]"
            ],
            "text/html": [
              "\n",
              "  <div id=\"df-05f5e96a-195e-4233-8959-243c868464b5\">\n",
              "    <div class=\"colab-df-container\">\n",
              "      <div>\n",
              "<style scoped>\n",
              "    .dataframe tbody tr th:only-of-type {\n",
              "        vertical-align: middle;\n",
              "    }\n",
              "\n",
              "    .dataframe tbody tr th {\n",
              "        vertical-align: top;\n",
              "    }\n",
              "\n",
              "    .dataframe thead th {\n",
              "        text-align: right;\n",
              "    }\n",
              "</style>\n",
              "<table border=\"1\" class=\"dataframe\">\n",
              "  <thead>\n",
              "    <tr style=\"text-align: right;\">\n",
              "      <th></th>\n",
              "      <th>cycle</th>\n",
              "      <th>capacity</th>\n",
              "    </tr>\n",
              "  </thead>\n",
              "  <tbody>\n",
              "    <tr>\n",
              "      <th>0</th>\n",
              "      <td>1</td>\n",
              "      <td>1.856487</td>\n",
              "    </tr>\n",
              "    <tr>\n",
              "      <th>1</th>\n",
              "      <td>2</td>\n",
              "      <td>1.846327</td>\n",
              "    </tr>\n",
              "    <tr>\n",
              "      <th>2</th>\n",
              "      <td>3</td>\n",
              "      <td>1.835349</td>\n",
              "    </tr>\n",
              "    <tr>\n",
              "      <th>3</th>\n",
              "      <td>4</td>\n",
              "      <td>1.835263</td>\n",
              "    </tr>\n",
              "    <tr>\n",
              "      <th>4</th>\n",
              "      <td>5</td>\n",
              "      <td>1.834646</td>\n",
              "    </tr>\n",
              "    <tr>\n",
              "      <th>...</th>\n",
              "      <td>...</td>\n",
              "      <td>...</td>\n",
              "    </tr>\n",
              "    <tr>\n",
              "      <th>163</th>\n",
              "      <td>164</td>\n",
              "      <td>1.293464</td>\n",
              "    </tr>\n",
              "    <tr>\n",
              "      <th>164</th>\n",
              "      <td>165</td>\n",
              "      <td>1.288003</td>\n",
              "    </tr>\n",
              "    <tr>\n",
              "      <th>165</th>\n",
              "      <td>166</td>\n",
              "      <td>1.287453</td>\n",
              "    </tr>\n",
              "    <tr>\n",
              "      <th>166</th>\n",
              "      <td>167</td>\n",
              "      <td>1.309015</td>\n",
              "    </tr>\n",
              "    <tr>\n",
              "      <th>167</th>\n",
              "      <td>168</td>\n",
              "      <td>1.325079</td>\n",
              "    </tr>\n",
              "  </tbody>\n",
              "</table>\n",
              "<p>168 rows × 2 columns</p>\n",
              "</div>\n",
              "      <button class=\"colab-df-convert\" onclick=\"convertToInteractive('df-05f5e96a-195e-4233-8959-243c868464b5')\"\n",
              "              title=\"Convert this dataframe to an interactive table.\"\n",
              "              style=\"display:none;\">\n",
              "        \n",
              "  <svg xmlns=\"http://www.w3.org/2000/svg\" height=\"24px\"viewBox=\"0 0 24 24\"\n",
              "       width=\"24px\">\n",
              "    <path d=\"M0 0h24v24H0V0z\" fill=\"none\"/>\n",
              "    <path d=\"M18.56 5.44l.94 2.06.94-2.06 2.06-.94-2.06-.94-.94-2.06-.94 2.06-2.06.94zm-11 1L8.5 8.5l.94-2.06 2.06-.94-2.06-.94L8.5 2.5l-.94 2.06-2.06.94zm10 10l.94 2.06.94-2.06 2.06-.94-2.06-.94-.94-2.06-.94 2.06-2.06.94z\"/><path d=\"M17.41 7.96l-1.37-1.37c-.4-.4-.92-.59-1.43-.59-.52 0-1.04.2-1.43.59L10.3 9.45l-7.72 7.72c-.78.78-.78 2.05 0 2.83L4 21.41c.39.39.9.59 1.41.59.51 0 1.02-.2 1.41-.59l7.78-7.78 2.81-2.81c.8-.78.8-2.07 0-2.86zM5.41 20L4 18.59l7.72-7.72 1.47 1.35L5.41 20z\"/>\n",
              "  </svg>\n",
              "      </button>\n",
              "      \n",
              "  <style>\n",
              "    .colab-df-container {\n",
              "      display:flex;\n",
              "      flex-wrap:wrap;\n",
              "      gap: 12px;\n",
              "    }\n",
              "\n",
              "    .colab-df-convert {\n",
              "      background-color: #E8F0FE;\n",
              "      border: none;\n",
              "      border-radius: 50%;\n",
              "      cursor: pointer;\n",
              "      display: none;\n",
              "      fill: #1967D2;\n",
              "      height: 32px;\n",
              "      padding: 0 0 0 0;\n",
              "      width: 32px;\n",
              "    }\n",
              "\n",
              "    .colab-df-convert:hover {\n",
              "      background-color: #E2EBFA;\n",
              "      box-shadow: 0px 1px 2px rgba(60, 64, 67, 0.3), 0px 1px 3px 1px rgba(60, 64, 67, 0.15);\n",
              "      fill: #174EA6;\n",
              "    }\n",
              "\n",
              "    [theme=dark] .colab-df-convert {\n",
              "      background-color: #3B4455;\n",
              "      fill: #D2E3FC;\n",
              "    }\n",
              "\n",
              "    [theme=dark] .colab-df-convert:hover {\n",
              "      background-color: #434B5C;\n",
              "      box-shadow: 0px 1px 3px 1px rgba(0, 0, 0, 0.15);\n",
              "      filter: drop-shadow(0px 1px 2px rgba(0, 0, 0, 0.3));\n",
              "      fill: #FFFFFF;\n",
              "    }\n",
              "  </style>\n",
              "\n",
              "      <script>\n",
              "        const buttonEl =\n",
              "          document.querySelector('#df-05f5e96a-195e-4233-8959-243c868464b5 button.colab-df-convert');\n",
              "        buttonEl.style.display =\n",
              "          google.colab.kernel.accessAllowed ? 'block' : 'none';\n",
              "\n",
              "        async function convertToInteractive(key) {\n",
              "          const element = document.querySelector('#df-05f5e96a-195e-4233-8959-243c868464b5');\n",
              "          const dataTable =\n",
              "            await google.colab.kernel.invokeFunction('convertToInteractive',\n",
              "                                                     [key], {});\n",
              "          if (!dataTable) return;\n",
              "\n",
              "          const docLinkHtml = 'Like what you see? Visit the ' +\n",
              "            '<a target=\"_blank\" href=https://colab.research.google.com/notebooks/data_table.ipynb>data table notebook</a>'\n",
              "            + ' to learn more about interactive tables.';\n",
              "          element.innerHTML = '';\n",
              "          dataTable['output_type'] = 'display_data';\n",
              "          await google.colab.output.renderOutput(dataTable, element);\n",
              "          const docLink = document.createElement('div');\n",
              "          docLink.innerHTML = docLinkHtml;\n",
              "          element.appendChild(docLink);\n",
              "        }\n",
              "      </script>\n",
              "    </div>\n",
              "  </div>\n",
              "  "
            ]
          },
          "metadata": {},
          "execution_count": 24
        }
      ]
    },
    {
      "cell_type": "markdown",
      "source": [
        "#### Base Model"
      ],
      "metadata": {
        "id": "wfyEijBPCWJ4"
      },
      "id": "wfyEijBPCWJ4"
    },
    {
      "cell_type": "code",
      "execution_count": null,
      "id": "4c47442d",
      "metadata": {
        "execution": {
          "iopub.execute_input": "2021-07-22T04:46:28.348113Z",
          "iopub.status.busy": "2021-07-22T04:46:28.347374Z",
          "iopub.status.idle": "2021-07-22T04:46:28.477923Z",
          "shell.execute_reply": "2021-07-22T04:46:28.478471Z",
          "shell.execute_reply.started": "2021-07-21T14:56:13.084599Z"
        },
        "papermill": {
          "duration": 0.170098,
          "end_time": "2021-07-22T04:46:28.478675",
          "exception": false,
          "start_time": "2021-07-22T04:46:28.308577",
          "status": "completed"
        },
        "tags": [],
        "colab": {
          "base_uri": "https://localhost:8080/"
        },
        "id": "4c47442d",
        "outputId": "0fecf219-4d0e-4d1f-84fd-88be1275b417"
      },
      "outputs": [
        {
          "output_type": "stream",
          "name": "stdout",
          "text": [
            "Model: \"sequential_3\"\n",
            "_________________________________________________________________\n",
            " Layer (type)                Output Shape              Param #   \n",
            "=================================================================\n",
            " dense_10 (Dense)            (None, 8)                 64        \n",
            "                                                                 \n",
            " dense_11 (Dense)            (None, 8)                 72        \n",
            "                                                                 \n",
            " dense_12 (Dense)            (None, 8)                 72        \n",
            "                                                                 \n",
            " dropout_5 (Dropout)         (None, 8)                 0         \n",
            "                                                                 \n",
            " dense_13 (Dense)            (None, 1)                 9         \n",
            "                                                                 \n",
            "=================================================================\n",
            "Total params: 217\n",
            "Trainable params: 217\n",
            "Non-trainable params: 0\n",
            "_________________________________________________________________\n"
          ]
        }
      ],
      "source": [
        "def base_model():\n",
        "  model = Sequential()\n",
        "  model.add(Dense(8, activation='relu', input_dim=train_dataset.shape[1]))\n",
        "  model.add(Dense(8, activation='relu'))\n",
        "  model.add(Dense(8, activation='relu'))\n",
        "  model.add(Dropout(rate=0.25))\n",
        "  model.add(Dense(1))\n",
        "  model.summary()\n",
        "  return model\n",
        "\n",
        "model = base_model()\n",
        "model.compile(optimizer=Adam(beta_1=0.9, beta_2=0.999, epsilon=1e-08), loss='mean_absolute_error')"
      ]
    },
    {
      "cell_type": "markdown",
      "id": "38385960",
      "metadata": {
        "papermill": {
          "duration": 0.032932,
          "end_time": "2021-07-22T04:46:28.545856",
          "exception": false,
          "start_time": "2021-07-22T04:46:28.512924",
          "status": "completed"
        },
        "tags": [],
        "id": "38385960"
      },
      "source": [
        "The model is trained, 50 epochs are used for training"
      ]
    },
    {
      "cell_type": "code",
      "execution_count": null,
      "id": "442a36cd",
      "metadata": {
        "_kg_hide-input": true,
        "_kg_hide-output": true,
        "execution": {
          "iopub.execute_input": "2021-07-22T04:46:28.613768Z",
          "iopub.status.busy": "2021-07-22T04:46:28.613147Z",
          "iopub.status.idle": "2021-07-22T04:48:12.679705Z",
          "shell.execute_reply": "2021-07-22T04:48:12.679066Z",
          "shell.execute_reply.started": "2021-07-21T14:56:13.211493Z"
        },
        "papermill": {
          "duration": 104.101427,
          "end_time": "2021-07-22T04:48:12.679866",
          "exception": false,
          "start_time": "2021-07-22T04:46:28.578439",
          "status": "completed"
        },
        "tags": [],
        "id": "442a36cd",
        "colab": {
          "base_uri": "https://localhost:8080/"
        },
        "outputId": "b65d9961-b60f-43a0-9346-8ef2565047ef"
      },
      "outputs": [
        {
          "output_type": "stream",
          "name": "stdout",
          "text": [
            "Epoch 1/50\n",
            "2012/2012 [==============================] - 9s 4ms/step - loss: 0.1107\n",
            "Epoch 2/50\n",
            "2012/2012 [==============================] - 7s 3ms/step - loss: 0.0195\n",
            "Epoch 3/50\n",
            "2012/2012 [==============================] - 6s 3ms/step - loss: 0.0188\n",
            "Epoch 4/50\n",
            "2012/2012 [==============================] - 7s 4ms/step - loss: 0.0188\n",
            "Epoch 5/50\n",
            "2012/2012 [==============================] - 6s 3ms/step - loss: 0.0188\n",
            "Epoch 6/50\n",
            "2012/2012 [==============================] - 7s 3ms/step - loss: 0.0187\n",
            "Epoch 7/50\n",
            "2012/2012 [==============================] - 7s 3ms/step - loss: 0.0186\n",
            "Epoch 8/50\n",
            "2012/2012 [==============================] - 5s 3ms/step - loss: 0.0184\n",
            "Epoch 9/50\n",
            "2012/2012 [==============================] - 8s 4ms/step - loss: 0.0187\n",
            "Epoch 10/50\n",
            "2012/2012 [==============================] - 5s 3ms/step - loss: 0.0187\n",
            "Epoch 11/50\n",
            "2012/2012 [==============================] - 5s 3ms/step - loss: 0.0185\n",
            "Epoch 12/50\n",
            "2012/2012 [==============================] - 5s 2ms/step - loss: 0.0185\n",
            "Epoch 13/50\n",
            "2012/2012 [==============================] - 5s 2ms/step - loss: 0.0185\n",
            "Epoch 14/50\n",
            "2012/2012 [==============================] - 4s 2ms/step - loss: 0.0184\n",
            "Epoch 15/50\n",
            "2012/2012 [==============================] - 5s 2ms/step - loss: 0.0182\n",
            "Epoch 16/50\n",
            "2012/2012 [==============================] - 4s 2ms/step - loss: 0.0186\n",
            "Epoch 17/50\n",
            "2012/2012 [==============================] - 3s 2ms/step - loss: 0.0184\n",
            "Epoch 18/50\n",
            "2012/2012 [==============================] - 3s 2ms/step - loss: 0.0183\n",
            "Epoch 19/50\n",
            "2012/2012 [==============================] - 3s 2ms/step - loss: 0.0184\n",
            "Epoch 20/50\n",
            "2012/2012 [==============================] - 3s 2ms/step - loss: 0.0186\n",
            "Epoch 21/50\n",
            "2012/2012 [==============================] - 3s 1ms/step - loss: 0.0187\n",
            "Epoch 22/50\n",
            "2012/2012 [==============================] - 3s 2ms/step - loss: 0.0186\n",
            "Epoch 23/50\n",
            "2012/2012 [==============================] - 3s 2ms/step - loss: 0.0186\n",
            "Epoch 24/50\n",
            "2012/2012 [==============================] - 4s 2ms/step - loss: 0.0185\n",
            "Epoch 25/50\n",
            "2012/2012 [==============================] - 3s 2ms/step - loss: 0.0184\n",
            "Epoch 26/50\n",
            "2012/2012 [==============================] - 3s 2ms/step - loss: 0.0184\n",
            "Epoch 27/50\n",
            "2012/2012 [==============================] - 3s 2ms/step - loss: 0.0185\n",
            "Epoch 28/50\n",
            "2012/2012 [==============================] - 3s 2ms/step - loss: 0.0185\n",
            "Epoch 29/50\n",
            "2012/2012 [==============================] - 3s 2ms/step - loss: 0.0185\n",
            "Epoch 30/50\n",
            "2012/2012 [==============================] - 3s 2ms/step - loss: 0.0185\n",
            "Epoch 31/50\n",
            "2012/2012 [==============================] - 3s 2ms/step - loss: 0.0186\n",
            "Epoch 32/50\n",
            "2012/2012 [==============================] - 4s 2ms/step - loss: 0.0186\n",
            "Epoch 33/50\n",
            "2012/2012 [==============================] - 3s 2ms/step - loss: 0.0185\n",
            "Epoch 34/50\n",
            "2012/2012 [==============================] - 3s 2ms/step - loss: 0.0186\n",
            "Epoch 35/50\n",
            "2012/2012 [==============================] - 3s 2ms/step - loss: 0.0186\n",
            "Epoch 36/50\n",
            "2012/2012 [==============================] - 3s 2ms/step - loss: 0.0182\n",
            "Epoch 37/50\n",
            "2012/2012 [==============================] - 3s 2ms/step - loss: 0.0183\n",
            "Epoch 38/50\n",
            "2012/2012 [==============================] - 3s 1ms/step - loss: 0.0183\n",
            "Epoch 39/50\n",
            "2012/2012 [==============================] - 3s 1ms/step - loss: 0.0183\n",
            "Epoch 40/50\n",
            "2012/2012 [==============================] - 3s 2ms/step - loss: 0.0183\n",
            "Epoch 41/50\n",
            "2012/2012 [==============================] - 3s 2ms/step - loss: 0.0182\n",
            "Epoch 42/50\n",
            "2012/2012 [==============================] - 3s 1ms/step - loss: 0.0184\n",
            "Epoch 43/50\n",
            "2012/2012 [==============================] - 3s 2ms/step - loss: 0.0186\n",
            "Epoch 44/50\n",
            "2012/2012 [==============================] - 3s 2ms/step - loss: 0.0184\n",
            "Epoch 45/50\n",
            "2012/2012 [==============================] - 3s 2ms/step - loss: 0.0185\n",
            "Epoch 46/50\n",
            "2012/2012 [==============================] - 3s 1ms/step - loss: 0.0185\n",
            "Epoch 47/50\n",
            "2012/2012 [==============================] - 3s 2ms/step - loss: 0.0184\n",
            "Epoch 48/50\n",
            "2012/2012 [==============================] - 3s 1ms/step - loss: 0.0184\n",
            "Epoch 49/50\n",
            "2012/2012 [==============================] - 3s 2ms/step - loss: 0.0184\n",
            "Epoch 50/50\n",
            "2012/2012 [==============================] - 3s 2ms/step - loss: 0.0183\n"
          ]
        },
        {
          "output_type": "execute_result",
          "data": {
            "text/plain": [
              "<keras.callbacks.History at 0x7fe4dfbdd610>"
            ]
          },
          "metadata": {},
          "execution_count": 45
        }
      ],
      "source": [
        "model.fit(x=train_dataset, y=soh.to_numpy(), batch_size=25, epochs=50)"
      ]
    },
    {
      "cell_type": "markdown",
      "id": "c84e8196",
      "metadata": {
        "papermill": {
          "duration": 0.675335,
          "end_time": "2021-07-22T04:48:14.073174",
          "exception": false,
          "start_time": "2021-07-22T04:48:13.397839",
          "status": "completed"
        },
        "tags": [],
        "id": "c84e8196"
      },
      "source": [
        "Testing "
      ]
    },
    {
      "cell_type": "code",
      "execution_count": null,
      "id": "0b111770",
      "metadata": {
        "execution": {
          "iopub.execute_input": "2021-07-22T04:48:15.421689Z",
          "iopub.status.busy": "2021-07-22T04:48:15.420667Z",
          "iopub.status.idle": "2021-07-22T04:48:16.642636Z",
          "shell.execute_reply": "2021-07-22T04:48:16.642067Z",
          "shell.execute_reply.started": "2021-07-21T14:57:54.790764Z"
        },
        "papermill": {
          "duration": 1.901195,
          "end_time": "2021-07-22T04:48:16.642783",
          "exception": false,
          "start_time": "2021-07-22T04:48:14.741588",
          "status": "completed"
        },
        "tags": [],
        "id": "0b111770",
        "colab": {
          "base_uri": "https://localhost:8080/"
        },
        "outputId": "0e6c729d-ea24-47c7-9e5c-ce05205dd12a"
      },
      "outputs": [
        {
          "output_type": "stream",
          "name": "stdout",
          "text": [
            "Total data in dataset:  616\n",
            "[1, 24, datetime.datetime(2008, 4, 2, 15, 25, 41), 2.035337591005598, 4.179799607333447, -0.0023663271409738672, 24.277567510331888, -0.0006, 0.0, 0.0]\n",
            "   cycle  ambient_temperature            datetime  capacity  voltage_measured  \\\n",
            "0      1                   24 2008-04-02 15:25:41  2.035338          4.179800   \n",
            "1      1                   24 2008-04-02 15:25:41  2.035338          4.179823   \n",
            "2      1                   24 2008-04-02 15:25:41  2.035338          3.966528   \n",
            "3      1                   24 2008-04-02 15:25:41  2.035338          3.945886   \n",
            "4      1                   24 2008-04-02 15:25:41  2.035338          3.930354   \n",
            "\n",
            "   current_measured  temperature_measured  current_load  voltage_load    time  \n",
            "0         -0.002366             24.277568       -0.0006         0.000   0.000  \n",
            "1          0.000434             24.277073       -0.0006         4.195  16.781  \n",
            "2         -2.014242             24.366226       -1.9990         3.070  35.703  \n",
            "3         -2.008730             24.515123       -1.9990         3.045  53.781  \n",
            "4         -2.013381             24.676053       -1.9990         3.026  71.922  \n",
            "   cycle            datetime  capacity       SoH\n",
            "0      1 2008-04-02 15:25:41  2.035338  1.000000\n",
            "1      2 2008-04-02 19:43:48  2.025140  0.994990\n",
            "2      3 2008-04-03 00:01:06  2.013326  0.989185\n",
            "3      4 2008-04-03 04:16:37  2.013285  0.989165\n",
            "4      5 2008-04-03 08:33:25  2.000528  0.982898\n"
          ]
        }
      ],
      "source": [
        "dataset_val, capacity_val = load_data('B0006')\n",
        "attrib=['cycle', 'datetime', 'capacity']\n",
        "dis_ele = capacity_val[attrib]\n",
        "C = dis_ele['capacity'][0]\n",
        "for i in range(len(dis_ele)):\n",
        "    dis_ele['SoH']=(dis_ele['capacity']) / C\n",
        "print(dataset_val.head(5))\n",
        "print(dis_ele.head(5))"
      ]
    },
    {
      "cell_type": "code",
      "source": [
        "for i in range(1, len(dis_ele)):\n",
        "    if (dis_ele.loc[i,\"SoH\"]>dis_ele.loc[i-1,\"SoH\"]):\n",
        "      dis_ele.loc[i,\"SoH\"]=dis_ele.loc[i-1,\"SoH\"]"
      ],
      "metadata": {
        "id": "8KeTZRlsmqC1"
      },
      "id": "8KeTZRlsmqC1",
      "execution_count": null,
      "outputs": []
    },
    {
      "cell_type": "code",
      "source": [
        "plot_df = dis_ele.loc[(dis_ele['cycle']>=1),['cycle','SoH']]\n",
        "sns.set_style(\"white\")\n",
        "plt.figure(figsize=(8, 5))\n",
        "plt.plot(plot_df['cycle'], plot_df['SoH'])\n",
        "#Draw threshold\n",
        "plt.plot([0.,len(capacity)], [0.70, 0.70])\n",
        "plt.ylabel('SOH')\n",
        "# make x-axis ticks legible\n",
        "adf = plt.gca().get_xaxis().get_major_formatter()\n",
        "plt.xlabel('cycle')\n",
        "plt.title('Discharge B0006')"
      ],
      "metadata": {
        "colab": {
          "base_uri": "https://localhost:8080/",
          "height": 367
        },
        "id": "Ffp9Xe4jpI4N",
        "outputId": "feebe3c4-02cd-4fdb-fb8b-e9c0962230d5"
      },
      "id": "Ffp9Xe4jpI4N",
      "execution_count": null,
      "outputs": [
        {
          "output_type": "execute_result",
          "data": {
            "text/plain": [
              "Text(0.5, 1.0, 'Discharge B0006')"
            ]
          },
          "metadata": {},
          "execution_count": 48
        },
        {
          "output_type": "display_data",
          "data": {
            "text/plain": [
              "<Figure size 576x360 with 1 Axes>"
            ],
            "image/png": "[encoded data removed]"
          },
          "metadata": {}
        }
      ]
    },
    {
      "cell_type": "code",
      "source": [
        "capacity_val.head()"
      ],
      "metadata": {
        "colab": {
          "base_uri": "https://localhost:8080/",
          "height": 206
        },
        "id": "vSclOR8to5eM",
        "outputId": "618bc33e-1e38-4724-d841-92cefa849a15"
      },
      "id": "vSclOR8to5eM",
      "execution_count": null,
      "outputs": [
        {
          "output_type": "execute_result",
          "data": {
            "text/plain": [
              "   cycle  ambient_temperature            datetime  capacity\n",
              "0      1                   24 2008-04-02 15:25:41  2.035338\n",
              "1      2                   24 2008-04-02 19:43:48  2.025140\n",
              "2      3                   24 2008-04-03 00:01:06  2.013326\n",
              "3      4                   24 2008-04-03 04:16:37  2.013285\n",
              "4      5                   24 2008-04-03 08:33:25  2.000528"
            ],
            "text/html": [
              "\n",
              "  <div id=\"df-8c3217b1-06cb-4bb0-b5f1-7c40a393b8d0\">\n",
              "    <div class=\"colab-df-container\">\n",
              "      <div>\n",
              "<style scoped>\n",
              "    .dataframe tbody tr th:only-of-type {\n",
              "        vertical-align: middle;\n",
              "    }\n",
              "\n",
              "    .dataframe tbody tr th {\n",
              "        vertical-align: top;\n",
              "    }\n",
              "\n",
              "    .dataframe thead th {\n",
              "        text-align: right;\n",
              "    }\n",
              "</style>\n",
              "<table border=\"1\" class=\"dataframe\">\n",
              "  <thead>\n",
              "    <tr style=\"text-align: right;\">\n",
              "      <th></th>\n",
              "      <th>cycle</th>\n",
              "      <th>ambient_temperature</th>\n",
              "      <th>datetime</th>\n",
              "      <th>capacity</th>\n",
              "    </tr>\n",
              "  </thead>\n",
              "  <tbody>\n",
              "    <tr>\n",
              "      <th>0</th>\n",
              "      <td>1</td>\n",
              "      <td>24</td>\n",
              "      <td>2008-04-02 15:25:41</td>\n",
              "      <td>2.035338</td>\n",
              "    </tr>\n",
              "    <tr>\n",
              "      <th>1</th>\n",
              "      <td>2</td>\n",
              "      <td>24</td>\n",
              "      <td>2008-04-02 19:43:48</td>\n",
              "      <td>2.025140</td>\n",
              "    </tr>\n",
              "    <tr>\n",
              "      <th>2</th>\n",
              "      <td>3</td>\n",
              "      <td>24</td>\n",
              "      <td>2008-04-03 00:01:06</td>\n",
              "      <td>2.013326</td>\n",
              "    </tr>\n",
              "    <tr>\n",
              "      <th>3</th>\n",
              "      <td>4</td>\n",
              "      <td>24</td>\n",
              "      <td>2008-04-03 04:16:37</td>\n",
              "      <td>2.013285</td>\n",
              "    </tr>\n",
              "    <tr>\n",
              "      <th>4</th>\n",
              "      <td>5</td>\n",
              "      <td>24</td>\n",
              "      <td>2008-04-03 08:33:25</td>\n",
              "      <td>2.000528</td>\n",
              "    </tr>\n",
              "  </tbody>\n",
              "</table>\n",
              "</div>\n",
              "      <button class=\"colab-df-convert\" onclick=\"convertToInteractive('df-8c3217b1-06cb-4bb0-b5f1-7c40a393b8d0')\"\n",
              "              title=\"Convert this dataframe to an interactive table.\"\n",
              "              style=\"display:none;\">\n",
              "        \n",
              "  <svg xmlns=\"http://www.w3.org/2000/svg\" height=\"24px\"viewBox=\"0 0 24 24\"\n",
              "       width=\"24px\">\n",
              "    <path d=\"M0 0h24v24H0V0z\" fill=\"none\"/>\n",
              "    <path d=\"M18.56 5.44l.94 2.06.94-2.06 2.06-.94-2.06-.94-.94-2.06-.94 2.06-2.06.94zm-11 1L8.5 8.5l.94-2.06 2.06-.94-2.06-.94L8.5 2.5l-.94 2.06-2.06.94zm10 10l.94 2.06.94-2.06 2.06-.94-2.06-.94-.94-2.06-.94 2.06-2.06.94z\"/><path d=\"M17.41 7.96l-1.37-1.37c-.4-.4-.92-.59-1.43-.59-.52 0-1.04.2-1.43.59L10.3 9.45l-7.72 7.72c-.78.78-.78 2.05 0 2.83L4 21.41c.39.39.9.59 1.41.59.51 0 1.02-.2 1.41-.59l7.78-7.78 2.81-2.81c.8-.78.8-2.07 0-2.86zM5.41 20L4 18.59l7.72-7.72 1.47 1.35L5.41 20z\"/>\n",
              "  </svg>\n",
              "      </button>\n",
              "      \n",
              "  <style>\n",
              "    .colab-df-container {\n",
              "      display:flex;\n",
              "      flex-wrap:wrap;\n",
              "      gap: 12px;\n",
              "    }\n",
              "\n",
              "    .colab-df-convert {\n",
              "      background-color: #E8F0FE;\n",
              "      border: none;\n",
              "      border-radius: 50%;\n",
              "      cursor: pointer;\n",
              "      display: none;\n",
              "      fill: #1967D2;\n",
              "      height: 32px;\n",
              "      padding: 0 0 0 0;\n",
              "      width: 32px;\n",
              "    }\n",
              "\n",
              "    .colab-df-convert:hover {\n",
              "      background-color: #E2EBFA;\n",
              "      box-shadow: 0px 1px 2px rgba(60, 64, 67, 0.3), 0px 1px 3px 1px rgba(60, 64, 67, 0.15);\n",
              "      fill: #174EA6;\n",
              "    }\n",
              "\n",
              "    [theme=dark] .colab-df-convert {\n",
              "      background-color: #3B4455;\n",
              "      fill: #D2E3FC;\n",
              "    }\n",
              "\n",
              "    [theme=dark] .colab-df-convert:hover {\n",
              "      background-color: #434B5C;\n",
              "      box-shadow: 0px 1px 3px 1px rgba(0, 0, 0, 0.15);\n",
              "      filter: drop-shadow(0px 1px 2px rgba(0, 0, 0, 0.3));\n",
              "      fill: #FFFFFF;\n",
              "    }\n",
              "  </style>\n",
              "\n",
              "      <script>\n",
              "        const buttonEl =\n",
              "          document.querySelector('#df-8c3217b1-06cb-4bb0-b5f1-7c40a393b8d0 button.colab-df-convert');\n",
              "        buttonEl.style.display =\n",
              "          google.colab.kernel.accessAllowed ? 'block' : 'none';\n",
              "\n",
              "        async function convertToInteractive(key) {\n",
              "          const element = document.querySelector('#df-8c3217b1-06cb-4bb0-b5f1-7c40a393b8d0');\n",
              "          const dataTable =\n",
              "            await google.colab.kernel.invokeFunction('convertToInteractive',\n",
              "                                                     [key], {});\n",
              "          if (!dataTable) return;\n",
              "\n",
              "          const docLinkHtml = 'Like what you see? Visit the ' +\n",
              "            '<a target=\"_blank\" href=https://colab.research.google.com/notebooks/data_table.ipynb>data table notebook</a>'\n",
              "            + ' to learn more about interactive tables.';\n",
              "          element.innerHTML = '';\n",
              "          dataTable['output_type'] = 'display_data';\n",
              "          await google.colab.output.renderOutput(dataTable, element);\n",
              "          const docLink = document.createElement('div');\n",
              "          docLink.innerHTML = docLinkHtml;\n",
              "          element.appendChild(docLink);\n",
              "        }\n",
              "      </script>\n",
              "    </div>\n",
              "  </div>\n",
              "  "
            ]
          },
          "metadata": {},
          "execution_count": 49
        }
      ]
    },
    {
      "cell_type": "markdown",
      "id": "b277f8d0",
      "metadata": {
        "papermill": {
          "duration": 0.671026,
          "end_time": "2021-07-22T04:48:18.037855",
          "exception": false,
          "start_time": "2021-07-22T04:48:17.366829",
          "status": "completed"
        },
        "tags": [],
        "id": "b277f8d0"
      },
      "source": [
        "A table is created containing the real SoH and the SoH predicted by the network and the root of the mean square error is calculated."
      ]
    },
    {
      "cell_type": "code",
      "execution_count": null,
      "id": "6a035849",
      "metadata": {
        "execution": {
          "iopub.execute_input": "2021-07-22T04:48:19.393512Z",
          "iopub.status.busy": "2021-07-22T04:48:19.392417Z",
          "iopub.status.idle": "2021-07-22T04:48:20.818076Z",
          "shell.execute_reply": "2021-07-22T04:48:20.818646Z",
          "shell.execute_reply.started": "2021-07-21T14:57:55.970966Z"
        },
        "papermill": {
          "duration": 2.108201,
          "end_time": "2021-07-22T04:48:20.818857",
          "exception": false,
          "start_time": "2021-07-22T04:48:18.710656",
          "status": "completed"
        },
        "tags": [],
        "id": "6a035849",
        "outputId": "58acd833-15a2-4517-fa7f-4d998fef1de3",
        "colab": {
          "base_uri": "https://localhost:8080/"
        }
      },
      "outputs": [
        {
          "output_type": "stream",
          "name": "stdout",
          "text": [
            "(50285, 1)\n",
            "   cycle       SoH    NewSoH\n",
            "0      1  1.000000  0.987076\n",
            "1      2  0.994990  0.983795\n",
            "2      3  0.989185  0.979932\n",
            "3      4  0.989165  0.979917\n",
            "4      5  0.982898  0.975744\n",
            "5      6  0.982898  0.975744\n",
            "6      7  0.982898  0.975744\n",
            "7      8  0.967304  0.965362\n",
            "8      9  0.966997  0.965157\n",
            "9     10  0.961625  0.961579\n",
            "Root Mean Square Error:  0.0872303534618621\n"
          ]
        }
      ],
      "source": [
        "attrib=['capacity', 'voltage_measured', 'current_measured',\n",
        "        'temperature_measured', 'current_load', 'voltage_load', 'time']\n",
        "soh_pred = model.predict(sc.fit_transform(dataset_val[attrib]))\n",
        "print(soh_pred.shape)\n",
        "\n",
        "C = dataset_val['capacity'][0]\n",
        "soh = []\n",
        "for i in range(len(dataset_val)):\n",
        "  soh.append(dataset_val['capacity'][i] / C)\n",
        "new_soh = dataset_val.loc[(dataset_val['cycle'] >= 1), ['cycle']]\n",
        "new_soh['SoH'] =  soh\n",
        "for i in range(1, len(new_soh)):\n",
        "    if (new_soh.loc[i,\"SoH\"]>new_soh.loc[i-1,\"SoH\"]):\n",
        "      new_soh.loc[i,\"SoH\"]=new_soh.loc[i-1,\"SoH\"]\n",
        "new_soh['NewSoH'] = soh_pred\n",
        "for i in range(1, len(new_soh)):\n",
        "    if (new_soh.loc[i,\"NewSoH\"]>new_soh.loc[i-1,\"NewSoH\"]):\n",
        "      new_soh.loc[i,\"NewSoH\"]=new_soh.loc[i-1,\"NewSoH\"]\n",
        "new_soh = new_soh.groupby(['cycle']).mean().reset_index()\n",
        "print(new_soh.head(10))\n",
        "rms = np.sqrt(mean_squared_error(new_soh['SoH'], new_soh['NewSoH']))\n",
        "print('Root Mean Square Error: ', rms)"
      ]
    },
    {
      "cell_type": "markdown",
      "id": "2300dec7",
      "metadata": {
        "papermill": {
          "duration": 0.671506,
          "end_time": "2021-07-22T04:48:22.163751",
          "exception": false,
          "start_time": "2021-07-22T04:48:21.492245",
          "status": "completed"
        },
        "tags": [],
        "id": "2300dec7"
      },
      "source": [
        "Finally both SoH are plotted to observe their differences"
      ]
    },
    {
      "cell_type": "code",
      "execution_count": null,
      "id": "fa1f563f",
      "metadata": {
        "execution": {
          "iopub.execute_input": "2021-07-22T04:48:23.529438Z",
          "iopub.status.busy": "2021-07-22T04:48:23.528699Z",
          "iopub.status.idle": "2021-07-22T04:48:23.813697Z",
          "shell.execute_reply": "2021-07-22T04:48:23.814210Z",
          "shell.execute_reply.started": "2021-07-21T14:57:57.379784Z"
        },
        "papermill": {
          "duration": 0.980385,
          "end_time": "2021-07-22T04:48:23.814387",
          "exception": false,
          "start_time": "2021-07-22T04:48:22.834002",
          "status": "completed"
        },
        "tags": [],
        "id": "fa1f563f",
        "outputId": "d03f14ad-f242-47fd-ad6b-b89cc69cd5f2",
        "colab": {
          "base_uri": "https://localhost:8080/"
        }
      },
      "outputs": [
        {
          "output_type": "execute_result",
          "data": {
            "text/plain": [
              "Text(0.5, 1.0, 'Discharge B0006')"
            ]
          },
          "metadata": {},
          "execution_count": 54
        },
        {
          "output_type": "display_data",
          "data": {
            "text/plain": [
              "<Figure size 1152x720 with 1 Axes>"
            ],
            "image/png": "[encoded data removed]"
          },
          "metadata": {}
        }
      ],
      "source": [
        "plot_df = new_soh.loc[(new_soh['cycle']>=1),['cycle','SoH', 'NewSoH']]\n",
        "sns.set_style(\"white\")\n",
        "plt.figure(figsize=(16, 10))\n",
        "plt.plot(plot_df['cycle'], plot_df['SoH'], label='SoH')\n",
        "plt.plot(plot_df['cycle'], plot_df['NewSoH'], label='Predicted SoH')\n",
        "#Draw threshold\n",
        "#plt.plot([0.,len(capacity)], [0.70, 0.70], label='Threshold')\n",
        "plt.ylabel('SOH')\n",
        "# make x-axis ticks legible\n",
        "adf = plt.gca().get_xaxis().get_major_formatter()\n",
        "plt.xlabel('cycle')\n",
        "plt.legend()\n",
        "plt.title('Discharge B0006')"
      ]
    },
    {
      "cell_type": "code",
      "source": [
        "dataset, capacity = load_data('B0007')\n",
        "dataset.head()"
      ],
      "metadata": {
        "colab": {
          "base_uri": "https://localhost:8080/",
          "height": 241
        },
        "id": "NtRQUtemuEqP",
        "outputId": "81b87977-850e-48c5-8793-9a230e89263d"
      },
      "id": "NtRQUtemuEqP",
      "execution_count": null,
      "outputs": [
        {
          "output_type": "stream",
          "name": "stdout",
          "text": [
            "Total data in dataset:  616\n",
            "[1, 24, datetime.datetime(2008, 4, 2, 15, 25, 41), 1.89105229539079, 4.199359521791473, -0.0018658918833680202, 23.93704394613529, -0.0004, 0.0, 0.0]\n"
          ]
        },
        {
          "output_type": "execute_result",
          "data": {
            "text/plain": [
              "   cycle  ambient_temperature            datetime  capacity  voltage_measured  \\\n",
              "0      1                   24 2008-04-02 15:25:41  1.891052          4.199360   \n",
              "1      1                   24 2008-04-02 15:25:41  1.891052          4.199497   \n",
              "2      1                   24 2008-04-02 15:25:41  1.891052          3.985606   \n",
              "3      1                   24 2008-04-02 15:25:41  1.891052          3.963247   \n",
              "4      1                   24 2008-04-02 15:25:41  1.891052          3.946647   \n",
              "\n",
              "   current_measured  temperature_measured  current_load  voltage_load    time  \n",
              "0         -0.001866             23.937044       -0.0004         0.000   0.000  \n",
              "1         -0.002139             23.924074       -0.0004         4.215  16.781  \n",
              "2         -1.988778             24.004257       -2.0000         3.003  35.703  \n",
              "3         -1.992558             24.162868       -2.0000         2.987  53.781  \n",
              "4         -1.988491             24.346368       -2.0000         2.972  71.922  "
            ],
            "text/html": [
              "\n",
              "  <div id=\"df-480488d9-d60f-4d79-8908-e74c879a9c97\">\n",
              "    <div class=\"colab-df-container\">\n",
              "      <div>\n",
              "<style scoped>\n",
              "    .dataframe tbody tr th:only-of-type {\n",
              "        vertical-align: middle;\n",
              "    }\n",
              "\n",
              "    .dataframe tbody tr th {\n",
              "        vertical-align: top;\n",
              "    }\n",
              "\n",
              "    .dataframe thead th {\n",
              "        text-align: right;\n",
              "    }\n",
              "</style>\n",
              "<table border=\"1\" class=\"dataframe\">\n",
              "  <thead>\n",
              "    <tr style=\"text-align: right;\">\n",
              "      <th></th>\n",
              "      <th>cycle</th>\n",
              "      <th>ambient_temperature</th>\n",
              "      <th>datetime</th>\n",
              "      <th>capacity</th>\n",
              "      <th>voltage_measured</th>\n",
              "      <th>current_measured</th>\n",
              "      <th>temperature_measured</th>\n",
              "      <th>current_load</th>\n",
              "      <th>voltage_load</th>\n",
              "      <th>time</th>\n",
              "    </tr>\n",
              "  </thead>\n",
              "  <tbody>\n",
              "    <tr>\n",
              "      <th>0</th>\n",
              "      <td>1</td>\n",
              "      <td>24</td>\n",
              "      <td>2008-04-02 15:25:41</td>\n",
              "      <td>1.891052</td>\n",
              "      <td>4.199360</td>\n",
              "      <td>-0.001866</td>\n",
              "      <td>23.937044</td>\n",
              "      <td>-0.0004</td>\n",
              "      <td>0.000</td>\n",
              "      <td>0.000</td>\n",
              "    </tr>\n",
              "    <tr>\n",
              "      <th>1</th>\n",
              "      <td>1</td>\n",
              "      <td>24</td>\n",
              "      <td>2008-04-02 15:25:41</td>\n",
              "      <td>1.891052</td>\n",
              "      <td>4.199497</td>\n",
              "      <td>-0.002139</td>\n",
              "      <td>23.924074</td>\n",
              "      <td>-0.0004</td>\n",
              "      <td>4.215</td>\n",
              "      <td>16.781</td>\n",
              "    </tr>\n",
              "    <tr>\n",
              "      <th>2</th>\n",
              "      <td>1</td>\n",
              "      <td>24</td>\n",
              "      <td>2008-04-02 15:25:41</td>\n",
              "      <td>1.891052</td>\n",
              "      <td>3.985606</td>\n",
              "      <td>-1.988778</td>\n",
              "      <td>24.004257</td>\n",
              "      <td>-2.0000</td>\n",
              "      <td>3.003</td>\n",
              "      <td>35.703</td>\n",
              "    </tr>\n",
              "    <tr>\n",
              "      <th>3</th>\n",
              "      <td>1</td>\n",
              "      <td>24</td>\n",
              "      <td>2008-04-02 15:25:41</td>\n",
              "      <td>1.891052</td>\n",
              "      <td>3.963247</td>\n",
              "      <td>-1.992558</td>\n",
              "      <td>24.162868</td>\n",
              "      <td>-2.0000</td>\n",
              "      <td>2.987</td>\n",
              "      <td>53.781</td>\n",
              "    </tr>\n",
              "    <tr>\n",
              "      <th>4</th>\n",
              "      <td>1</td>\n",
              "      <td>24</td>\n",
              "      <td>2008-04-02 15:25:41</td>\n",
              "      <td>1.891052</td>\n",
              "      <td>3.946647</td>\n",
              "      <td>-1.988491</td>\n",
              "      <td>24.346368</td>\n",
              "      <td>-2.0000</td>\n",
              "      <td>2.972</td>\n",
              "      <td>71.922</td>\n",
              "    </tr>\n",
              "  </tbody>\n",
              "</table>\n",
              "</div>\n",
              "      <button class=\"colab-df-convert\" onclick=\"convertToInteractive('df-480488d9-d60f-4d79-8908-e74c879a9c97')\"\n",
              "              title=\"Convert this dataframe to an interactive table.\"\n",
              "              style=\"display:none;\">\n",
              "        \n",
              "  <svg xmlns=\"http://www.w3.org/2000/svg\" height=\"24px\"viewBox=\"0 0 24 24\"\n",
              "       width=\"24px\">\n",
              "    <path d=\"M0 0h24v24H0V0z\" fill=\"none\"/>\n",
              "    <path d=\"M18.56 5.44l.94 2.06.94-2.06 2.06-.94-2.06-.94-.94-2.06-.94 2.06-2.06.94zm-11 1L8.5 8.5l.94-2.06 2.06-.94-2.06-.94L8.5 2.5l-.94 2.06-2.06.94zm10 10l.94 2.06.94-2.06 2.06-.94-2.06-.94-.94-2.06-.94 2.06-2.06.94z\"/><path d=\"M17.41 7.96l-1.37-1.37c-.4-.4-.92-.59-1.43-.59-.52 0-1.04.2-1.43.59L10.3 9.45l-7.72 7.72c-.78.78-.78 2.05 0 2.83L4 21.41c.39.39.9.59 1.41.59.51 0 1.02-.2 1.41-.59l7.78-7.78 2.81-2.81c.8-.78.8-2.07 0-2.86zM5.41 20L4 18.59l7.72-7.72 1.47 1.35L5.41 20z\"/>\n",
              "  </svg>\n",
              "      </button>\n",
              "      \n",
              "  <style>\n",
              "    .colab-df-container {\n",
              "      display:flex;\n",
              "      flex-wrap:wrap;\n",
              "      gap: 12px;\n",
              "    }\n",
              "\n",
              "    .colab-df-convert {\n",
              "      background-color: #E8F0FE;\n",
              "      border: none;\n",
              "      border-radius: 50%;\n",
              "      cursor: pointer;\n",
              "      display: none;\n",
              "      fill: #1967D2;\n",
              "      height: 32px;\n",
              "      padding: 0 0 0 0;\n",
              "      width: 32px;\n",
              "    }\n",
              "\n",
              "    .colab-df-convert:hover {\n",
              "      background-color: #E2EBFA;\n",
              "      box-shadow: 0px 1px 2px rgba(60, 64, 67, 0.3), 0px 1px 3px 1px rgba(60, 64, 67, 0.15);\n",
              "      fill: #174EA6;\n",
              "    }\n",
              "\n",
              "    [theme=dark] .colab-df-convert {\n",
              "      background-color: #3B4455;\n",
              "      fill: #D2E3FC;\n",
              "    }\n",
              "\n",
              "    [theme=dark] .colab-df-convert:hover {\n",
              "      background-color: #434B5C;\n",
              "      box-shadow: 0px 1px 3px 1px rgba(0, 0, 0, 0.15);\n",
              "      filter: drop-shadow(0px 1px 2px rgba(0, 0, 0, 0.3));\n",
              "      fill: #FFFFFF;\n",
              "    }\n",
              "  </style>\n",
              "\n",
              "      <script>\n",
              "        const buttonEl =\n",
              "          document.querySelector('#df-480488d9-d60f-4d79-8908-e74c879a9c97 button.colab-df-convert');\n",
              "        buttonEl.style.display =\n",
              "          google.colab.kernel.accessAllowed ? 'block' : 'none';\n",
              "\n",
              "        async function convertToInteractive(key) {\n",
              "          const element = document.querySelector('#df-480488d9-d60f-4d79-8908-e74c879a9c97');\n",
              "          const dataTable =\n",
              "            await google.colab.kernel.invokeFunction('convertToInteractive',\n",
              "                                                     [key], {});\n",
              "          if (!dataTable) return;\n",
              "\n",
              "          const docLinkHtml = 'Like what you see? Visit the ' +\n",
              "            '<a target=\"_blank\" href=https://colab.research.google.com/notebooks/data_table.ipynb>data table notebook</a>'\n",
              "            + ' to learn more about interactive tables.';\n",
              "          element.innerHTML = '';\n",
              "          dataTable['output_type'] = 'display_data';\n",
              "          await google.colab.output.renderOutput(dataTable, element);\n",
              "          const docLink = document.createElement('div');\n",
              "          docLink.innerHTML = docLinkHtml;\n",
              "          element.appendChild(docLink);\n",
              "        }\n",
              "      </script>\n",
              "    </div>\n",
              "  </div>\n",
              "  "
            ]
          },
          "metadata": {},
          "execution_count": 20
        }
      ]
    },
    {
      "cell_type": "code",
      "source": [
        "C = dataset['capacity'][0]\n",
        "soh = []\n",
        "for i in range(len(dataset)):\n",
        "  soh.append([dataset['capacity'][i] / C])\n",
        "soh = pd.DataFrame(data=soh, columns=['SoH'])\n",
        "\n",
        "attribs=['capacity', 'voltage_measured', 'current_measured',\n",
        "         'temperature_measured', 'current_load', 'voltage_load', 'time']\n",
        "train_dataset = dataset[attribs]\n",
        "sc = MinMaxScaler(feature_range=(0,1))\n",
        "train_dataset = sc.fit_transform(train_dataset)\n",
        "print(train_dataset.shape)\n",
        "print(soh.shape)"
      ],
      "metadata": {
        "colab": {
          "base_uri": "https://localhost:8080/"
        },
        "id": "SygUxFPXxUd4",
        "outputId": "ca955304-33c8-4095-e4c3-85262dd9654d"
      },
      "id": "SygUxFPXxUd4",
      "execution_count": null,
      "outputs": [
        {
          "output_type": "stream",
          "name": "stdout",
          "text": [
            "(50285, 7)\n",
            "(50285, 1)\n"
          ]
        }
      ]
    },
    {
      "cell_type": "markdown",
      "source": [
        "#### Transfer Learning - B0007"
      ],
      "metadata": {
        "id": "G_fltFqiCip7"
      },
      "id": "G_fltFqiCip7"
    },
    {
      "cell_type": "code",
      "source": [
        "new_model = Sequential()\n",
        "\n",
        "for i in range(len(model.layers) - 1):\n",
        "    new_model.add(model.layers[i])\n",
        "\n",
        "# Freeze the layers \n",
        "# for layer in new_model.layers:\n",
        "#     layer.trainable = False  \n",
        "\n",
        "new_model.add(Dense(8, activation='relu'))\n",
        "new_model.add(Dropout(rate=0.2)) \n",
        "new_model.add(Dense(1, activation='sigmoid'))\n",
        "new_model.summary()"
      ],
      "metadata": {
        "colab": {
          "base_uri": "https://localhost:8080/"
        },
        "id": "RYPQfHAzwLBg",
        "outputId": "98c05e2c-a123-4b1a-b0bc-973c0324f847"
      },
      "id": "RYPQfHAzwLBg",
      "execution_count": null,
      "outputs": [
        {
          "output_type": "stream",
          "name": "stdout",
          "text": [
            "Model: \"sequential_1\"\n",
            "_________________________________________________________________\n",
            " Layer (type)                Output Shape              Param #   \n",
            "=================================================================\n",
            " dense (Dense)               (None, 8)                 64        \n",
            "                                                                 \n",
            " dense_1 (Dense)             (None, 8)                 72        \n",
            "                                                                 \n",
            " dense_2 (Dense)             (None, 8)                 72        \n",
            "                                                                 \n",
            " dropout (Dropout)           (None, 8)                 0         \n",
            "                                                                 \n",
            " dense_4 (Dense)             (None, 8)                 72        \n",
            "                                                                 \n",
            " dropout_1 (Dropout)         (None, 8)                 0         \n",
            "                                                                 \n",
            " dense_5 (Dense)             (None, 1)                 9         \n",
            "                                                                 \n",
            "=================================================================\n",
            "Total params: 289\n",
            "Trainable params: 289\n",
            "Non-trainable params: 0\n",
            "_________________________________________________________________\n"
          ]
        }
      ]
    },
    {
      "cell_type": "code",
      "source": [
        "new_model.compile(optimizer=Adam(beta_1=0.9, beta_2=0.999, epsilon=1e-08), loss='mean_absolute_error')"
      ],
      "metadata": {
        "id": "AhmS2B1QwuY6"
      },
      "id": "AhmS2B1QwuY6",
      "execution_count": null,
      "outputs": []
    },
    {
      "cell_type": "code",
      "source": [
        "new_model.fit(x=train_dataset, y=soh.to_numpy(), batch_size=25, epochs=50)"
      ],
      "metadata": {
        "colab": {
          "base_uri": "https://localhost:8080/"
        },
        "id": "na520SCkwuYD",
        "outputId": "22e08a5f-e7c1-46a2-c51e-476c3db8f679"
      },
      "id": "na520SCkwuYD",
      "execution_count": null,
      "outputs": [
        {
          "output_type": "stream",
          "name": "stdout",
          "text": [
            "Epoch 1/50\n",
            "2012/2012 [==============================] - 4s 2ms/step - loss: 0.0431\n",
            "Epoch 2/50\n",
            "2012/2012 [==============================] - 3s 2ms/step - loss: 0.0165\n",
            "Epoch 3/50\n",
            "2012/2012 [==============================] - 3s 2ms/step - loss: 0.0125\n",
            "Epoch 4/50\n",
            "2012/2012 [==============================] - 3s 2ms/step - loss: 0.0119\n",
            "Epoch 5/50\n",
            "2012/2012 [==============================] - 4s 2ms/step - loss: 0.0118\n",
            "Epoch 6/50\n",
            "2012/2012 [==============================] - 9s 4ms/step - loss: 0.0119\n",
            "Epoch 7/50\n",
            "2012/2012 [==============================] - 10s 5ms/step - loss: 0.0119\n",
            "Epoch 8/50\n",
            "2012/2012 [==============================] - 7s 4ms/step - loss: 0.0118\n",
            "Epoch 9/50\n",
            "2012/2012 [==============================] - 5s 3ms/step - loss: 0.0116\n",
            "Epoch 10/50\n",
            "2012/2012 [==============================] - 7s 3ms/step - loss: 0.0116\n",
            "Epoch 11/50\n",
            "2012/2012 [==============================] - 3s 2ms/step - loss: 0.0115\n",
            "Epoch 12/50\n",
            "2012/2012 [==============================] - 3s 2ms/step - loss: 0.0115\n",
            "Epoch 13/50\n",
            "2012/2012 [==============================] - 3s 2ms/step - loss: 0.0113\n",
            "Epoch 14/50\n",
            "2012/2012 [==============================] - 3s 2ms/step - loss: 0.0112\n",
            "Epoch 15/50\n",
            "2012/2012 [==============================] - 3s 2ms/step - loss: 0.0111\n",
            "Epoch 16/50\n",
            "2012/2012 [==============================] - 3s 2ms/step - loss: 0.0110\n",
            "Epoch 17/50\n",
            "2012/2012 [==============================] - 3s 2ms/step - loss: 0.0111\n",
            "Epoch 18/50\n",
            "2012/2012 [==============================] - 5s 2ms/step - loss: 0.0111\n",
            "Epoch 19/50\n",
            "2012/2012 [==============================] - 5s 2ms/step - loss: 0.0112\n",
            "Epoch 20/50\n",
            "2012/2012 [==============================] - 5s 2ms/step - loss: 0.0111\n",
            "Epoch 21/50\n",
            "2012/2012 [==============================] - 3s 2ms/step - loss: 0.0111\n",
            "Epoch 22/50\n",
            "2012/2012 [==============================] - 3s 2ms/step - loss: 0.0112\n",
            "Epoch 23/50\n",
            "2012/2012 [==============================] - 3s 2ms/step - loss: 0.0111\n",
            "Epoch 24/50\n",
            "2012/2012 [==============================] - 3s 2ms/step - loss: 0.0111\n",
            "Epoch 25/50\n",
            "2012/2012 [==============================] - 3s 2ms/step - loss: 0.0112\n",
            "Epoch 26/50\n",
            "2012/2012 [==============================] - 3s 2ms/step - loss: 0.0111\n",
            "Epoch 27/50\n",
            "2012/2012 [==============================] - 3s 2ms/step - loss: 0.0110\n",
            "Epoch 28/50\n",
            "2012/2012 [==============================] - 3s 2ms/step - loss: 0.0110\n",
            "Epoch 29/50\n",
            "2012/2012 [==============================] - 3s 2ms/step - loss: 0.0110\n",
            "Epoch 30/50\n",
            "2012/2012 [==============================] - 3s 2ms/step - loss: 0.0109\n",
            "Epoch 31/50\n",
            "2012/2012 [==============================] - 3s 2ms/step - loss: 0.0110\n",
            "Epoch 32/50\n",
            "2012/2012 [==============================] - 4s 2ms/step - loss: 0.0110\n",
            "Epoch 33/50\n",
            "2012/2012 [==============================] - 3s 2ms/step - loss: 0.0110\n",
            "Epoch 34/50\n",
            "2012/2012 [==============================] - 3s 2ms/step - loss: 0.0109\n",
            "Epoch 35/50\n",
            "2012/2012 [==============================] - 3s 2ms/step - loss: 0.0109\n",
            "Epoch 36/50\n",
            "2012/2012 [==============================] - 3s 2ms/step - loss: 0.0109\n",
            "Epoch 37/50\n",
            "2012/2012 [==============================] - 3s 2ms/step - loss: 0.0110\n",
            "Epoch 38/50\n",
            "2012/2012 [==============================] - 3s 2ms/step - loss: 0.0110\n",
            "Epoch 39/50\n",
            "2012/2012 [==============================] - 3s 2ms/step - loss: 0.0109\n",
            "Epoch 40/50\n",
            "2012/2012 [==============================] - 3s 2ms/step - loss: 0.0110\n",
            "Epoch 41/50\n",
            "2012/2012 [==============================] - 3s 2ms/step - loss: 0.0109\n",
            "Epoch 42/50\n",
            "2012/2012 [==============================] - 3s 2ms/step - loss: 0.0110\n",
            "Epoch 43/50\n",
            "2012/2012 [==============================] - 3s 2ms/step - loss: 0.0109\n",
            "Epoch 44/50\n",
            "2012/2012 [==============================] - 3s 2ms/step - loss: 0.0109\n",
            "Epoch 45/50\n",
            "2012/2012 [==============================] - 3s 2ms/step - loss: 0.0108\n",
            "Epoch 46/50\n",
            "2012/2012 [==============================] - 3s 2ms/step - loss: 0.0109\n",
            "Epoch 47/50\n",
            "2012/2012 [==============================] - 3s 2ms/step - loss: 0.0109\n",
            "Epoch 48/50\n",
            "2012/2012 [==============================] - 3s 2ms/step - loss: 0.0108\n",
            "Epoch 49/50\n",
            "2012/2012 [==============================] - 3s 2ms/step - loss: 0.0108\n",
            "Epoch 50/50\n",
            "2012/2012 [==============================] - 3s 2ms/step - loss: 0.0110\n"
          ]
        },
        {
          "output_type": "execute_result",
          "data": {
            "text/plain": [
              "<keras.callbacks.History at 0x7fe4dfe758d0>"
            ]
          },
          "metadata": {},
          "execution_count": 24
        }
      ]
    },
    {
      "cell_type": "code",
      "source": [
        "dataset_val, capacity_val = load_data('B0006')\n",
        "attrib=['cycle', 'datetime', 'capacity']\n",
        "dis_ele = capacity_val[attrib]\n",
        "C = dis_ele['capacity'][0]\n",
        "for i in range(len(dis_ele)):\n",
        "    dis_ele['SoH']=(dis_ele['capacity']) / C\n",
        "for i in range(1, len(dis_ele)):\n",
        "    if (dis_ele.loc[i,\"SoH\"]>dis_ele.loc[i-1,\"SoH\"]):\n",
        "      dis_ele.loc[i,\"SoH\"]=dis_ele.loc[i-1,\"SoH\"]\n",
        "print(dataset_val.head(5))\n",
        "print(dis_ele.head(5))\n"
      ],
      "metadata": {
        "colab": {
          "base_uri": "https://localhost:8080/"
        },
        "id": "iKEdYahhwuSB",
        "outputId": "687a7cd7-a37b-4341-8637-c774ce17cbbf"
      },
      "id": "iKEdYahhwuSB",
      "execution_count": null,
      "outputs": [
        {
          "output_type": "stream",
          "name": "stdout",
          "text": [
            "Total data in dataset:  616\n",
            "[1, 24, datetime.datetime(2008, 4, 2, 15, 25, 41), 2.035337591005598, 4.179799607333447, -0.0023663271409738672, 24.277567510331888, -0.0006, 0.0, 0.0]\n",
            "   cycle  ambient_temperature            datetime  capacity  voltage_measured  \\\n",
            "0      1                   24 2008-04-02 15:25:41  2.035338          4.179800   \n",
            "1      1                   24 2008-04-02 15:25:41  2.035338          4.179823   \n",
            "2      1                   24 2008-04-02 15:25:41  2.035338          3.966528   \n",
            "3      1                   24 2008-04-02 15:25:41  2.035338          3.945886   \n",
            "4      1                   24 2008-04-02 15:25:41  2.035338          3.930354   \n",
            "\n",
            "   current_measured  temperature_measured  current_load  voltage_load    time  \n",
            "0         -0.002366             24.277568       -0.0006         0.000   0.000  \n",
            "1          0.000434             24.277073       -0.0006         4.195  16.781  \n",
            "2         -2.014242             24.366226       -1.9990         3.070  35.703  \n",
            "3         -2.008730             24.515123       -1.9990         3.045  53.781  \n",
            "4         -2.013381             24.676053       -1.9990         3.026  71.922  \n",
            "   cycle            datetime  capacity       SoH\n",
            "0      1 2008-04-02 15:25:41  2.035338  1.000000\n",
            "1      2 2008-04-02 19:43:48  2.025140  0.994990\n",
            "2      3 2008-04-03 00:01:06  2.013326  0.989185\n",
            "3      4 2008-04-03 04:16:37  2.013285  0.989165\n",
            "4      5 2008-04-03 08:33:25  2.000528  0.982898\n"
          ]
        }
      ]
    },
    {
      "cell_type": "code",
      "source": [
        "attrib=['capacity', 'voltage_measured', 'current_measured',\n",
        "        'temperature_measured', 'current_load', 'voltage_load', 'time']\n",
        "soh_pred = new_model.predict(sc.fit_transform(dataset_val[attrib]))\n",
        "print(soh_pred.shape)\n",
        "\n",
        "C = dataset_val['capacity'][0]\n",
        "soh = []\n",
        "for i in range(len(dataset_val)):\n",
        "  soh.append(dataset_val['capacity'][i] / C)\n",
        "new_soh = dataset_val.loc[(dataset_val['cycle'] >= 1), ['cycle']]\n",
        "new_soh['SoH'] =  soh\n",
        "for i in range(1, len(new_soh)):\n",
        "    if (new_soh.loc[i,\"SoH\"]>new_soh.loc[i-1,\"SoH\"]):\n",
        "      new_soh.loc[i,\"SoH\"]=new_soh.loc[i-1,\"SoH\"]\n",
        "new_soh['NewSoH'] = soh_pred\n",
        "for i in range(1, len(new_soh)):\n",
        "    if (new_soh.loc[i,\"NewSoH\"]>new_soh.loc[i-1,\"NewSoH\"]):\n",
        "      new_soh.loc[i,\"NewSoH\"]=new_soh.loc[i-1,\"NewSoH\"]\n",
        "new_soh = new_soh.groupby(['cycle']).mean().reset_index()\n",
        "print(new_soh.head(10))\n",
        "rms = np.sqrt(mean_squared_error(new_soh['SoH'], new_soh['NewSoH']))\n",
        "print('Root Mean Square Error: ', rms)"
      ],
      "metadata": {
        "colab": {
          "base_uri": "https://localhost:8080/"
        },
        "id": "_AMbpkRCwuRH",
        "outputId": "fc5fe102-b77e-4f5d-bd25-9ea1f8ed7c01"
      },
      "id": "_AMbpkRCwuRH",
      "execution_count": null,
      "outputs": [
        {
          "output_type": "stream",
          "name": "stdout",
          "text": [
            "(50285, 1)\n",
            "   cycle       SoH    NewSoH\n",
            "0      1  1.000000  0.999355\n",
            "1      2  0.994990  0.998942\n",
            "2      3  0.989185  0.998192\n",
            "3      4  0.989165  0.998188\n",
            "4      5  0.982898  0.996851\n",
            "5      6  0.982898  0.996844\n",
            "6      7  0.982898  0.996844\n",
            "7      8  0.967304  0.987391\n",
            "8      9  0.966997  0.987153\n",
            "9     10  0.961625  0.979577\n",
            "Root Mean Square Error:  0.11802342405193773\n"
          ]
        }
      ]
    },
    {
      "cell_type": "code",
      "source": [
        "plot_df = new_soh.loc[(new_soh['cycle']>=1),['cycle','SoH', 'NewSoH']]\n",
        "sns.set_style(\"white\")\n",
        "plt.figure(figsize=(16, 10))\n",
        "plt.plot(plot_df['cycle'], plot_df['SoH'], label='SoH')\n",
        "plt.plot(plot_df['cycle'], plot_df['NewSoH'], label='Predicted SoH')\n",
        "#Draw threshold\n",
        "#plt.plot([0.,len(capacity)], [0.70, 0.70], label='Threshold')\n",
        "plt.ylabel('SOH')\n",
        "# make x-axis ticks legible\n",
        "adf = plt.gca().get_xaxis().get_major_formatter()\n",
        "plt.xlabel('cycle')\n",
        "plt.legend()\n",
        "plt.title('Discharge B0006')"
      ],
      "metadata": {
        "colab": {
          "base_uri": "https://localhost:8080/",
          "height": 638
        },
        "id": "x2-Y86FKuH3f",
        "outputId": "d9e77c41-8110-4fe6-b2f7-917c42363173"
      },
      "id": "x2-Y86FKuH3f",
      "execution_count": null,
      "outputs": [
        {
          "output_type": "execute_result",
          "data": {
            "text/plain": [
              "Text(0.5, 1.0, 'Discharge B0006')"
            ]
          },
          "metadata": {},
          "execution_count": 27
        },
        {
          "output_type": "display_data",
          "data": {
            "text/plain": [
              "<Figure size 1152x720 with 1 Axes>"
            ],
            "image/png": "[encoded data removed]"
          },
          "metadata": {}
        }
      ]
    },
    {
      "cell_type": "markdown",
      "source": [
        "#### Transfer Learning - B0018"
      ],
      "metadata": {
        "id": "EmNhc747CrYO"
      },
      "id": "EmNhc747CrYO"
    },
    {
      "cell_type": "code",
      "source": [
        "dataset, capacity = load_data('B0018')\n",
        "dataset.head()"
      ],
      "metadata": {
        "colab": {
          "base_uri": "https://localhost:8080/",
          "height": 241
        },
        "id": "nnMDSsmV5Fgt",
        "outputId": "4e9b2a50-e63d-455f-872b-350c2d9f7d5c"
      },
      "id": "nnMDSsmV5Fgt",
      "execution_count": null,
      "outputs": [
        {
          "output_type": "stream",
          "name": "stdout",
          "text": [
            "Total data in dataset:  319\n",
            "[1, 24, datetime.datetime(2008, 7, 7, 15, 15, 28), 1.8550045207910817, 4.188108651124536, 0.00013066734156636677, 23.8195202516044, 0.0006, 0.0, 0.0]\n"
          ]
        },
        {
          "output_type": "execute_result",
          "data": {
            "text/plain": [
              "   cycle  ambient_temperature            datetime  capacity  voltage_measured  \\\n",
              "0      1                   24 2008-07-07 15:15:28  1.855005          4.188109   \n",
              "1      1                   24 2008-07-07 15:15:28  1.855005          4.188196   \n",
              "2      1                   24 2008-07-07 15:15:28  1.855005          3.977432   \n",
              "3      1                   24 2008-07-07 15:15:28  1.855005          3.961974   \n",
              "4      1                   24 2008-07-07 15:15:28  1.855005          3.949835   \n",
              "\n",
              "   current_measured  temperature_measured  current_load  voltage_load    time  \n",
              "0          0.000131             23.819520        0.0006         0.000   0.000  \n",
              "1          0.001459             23.828807        0.0006         4.203   9.422  \n",
              "2         -2.005672             23.844944        1.9988         3.029  19.578  \n",
              "3         -2.012206             23.925577        1.9988         3.026  29.016  \n",
              "4         -2.012005             24.010628        1.9988         3.015  38.485  "
            ],
            "text/html": [
              "\n",
              "  <div id=\"df-0471b50d-5809-4a0c-8357-cd9424e7c7f6\">\n",
              "    <div class=\"colab-df-container\">\n",
              "      <div>\n",
              "<style scoped>\n",
              "    .dataframe tbody tr th:only-of-type {\n",
              "        vertical-align: middle;\n",
              "    }\n",
              "\n",
              "    .dataframe tbody tr th {\n",
              "        vertical-align: top;\n",
              "    }\n",
              "\n",
              "    .dataframe thead th {\n",
              "        text-align: right;\n",
              "    }\n",
              "</style>\n",
              "<table border=\"1\" class=\"dataframe\">\n",
              "  <thead>\n",
              "    <tr style=\"text-align: right;\">\n",
              "      <th></th>\n",
              "      <th>cycle</th>\n",
              "      <th>ambient_temperature</th>\n",
              "      <th>datetime</th>\n",
              "      <th>capacity</th>\n",
              "      <th>voltage_measured</th>\n",
              "      <th>current_measured</th>\n",
              "      <th>temperature_measured</th>\n",
              "      <th>current_load</th>\n",
              "      <th>voltage_load</th>\n",
              "      <th>time</th>\n",
              "    </tr>\n",
              "  </thead>\n",
              "  <tbody>\n",
              "    <tr>\n",
              "      <th>0</th>\n",
              "      <td>1</td>\n",
              "      <td>24</td>\n",
              "      <td>2008-07-07 15:15:28</td>\n",
              "      <td>1.855005</td>\n",
              "      <td>4.188109</td>\n",
              "      <td>0.000131</td>\n",
              "      <td>23.819520</td>\n",
              "      <td>0.0006</td>\n",
              "      <td>0.000</td>\n",
              "      <td>0.000</td>\n",
              "    </tr>\n",
              "    <tr>\n",
              "      <th>1</th>\n",
              "      <td>1</td>\n",
              "      <td>24</td>\n",
              "      <td>2008-07-07 15:15:28</td>\n",
              "      <td>1.855005</td>\n",
              "      <td>4.188196</td>\n",
              "      <td>0.001459</td>\n",
              "      <td>23.828807</td>\n",
              "      <td>0.0006</td>\n",
              "      <td>4.203</td>\n",
              "      <td>9.422</td>\n",
              "    </tr>\n",
              "    <tr>\n",
              "      <th>2</th>\n",
              "      <td>1</td>\n",
              "      <td>24</td>\n",
              "      <td>2008-07-07 15:15:28</td>\n",
              "      <td>1.855005</td>\n",
              "      <td>3.977432</td>\n",
              "      <td>-2.005672</td>\n",
              "      <td>23.844944</td>\n",
              "      <td>1.9988</td>\n",
              "      <td>3.029</td>\n",
              "      <td>19.578</td>\n",
              "    </tr>\n",
              "    <tr>\n",
              "      <th>3</th>\n",
              "      <td>1</td>\n",
              "      <td>24</td>\n",
              "      <td>2008-07-07 15:15:28</td>\n",
              "      <td>1.855005</td>\n",
              "      <td>3.961974</td>\n",
              "      <td>-2.012206</td>\n",
              "      <td>23.925577</td>\n",
              "      <td>1.9988</td>\n",
              "      <td>3.026</td>\n",
              "      <td>29.016</td>\n",
              "    </tr>\n",
              "    <tr>\n",
              "      <th>4</th>\n",
              "      <td>1</td>\n",
              "      <td>24</td>\n",
              "      <td>2008-07-07 15:15:28</td>\n",
              "      <td>1.855005</td>\n",
              "      <td>3.949835</td>\n",
              "      <td>-2.012005</td>\n",
              "      <td>24.010628</td>\n",
              "      <td>1.9988</td>\n",
              "      <td>3.015</td>\n",
              "      <td>38.485</td>\n",
              "    </tr>\n",
              "  </tbody>\n",
              "</table>\n",
              "</div>\n",
              "      <button class=\"colab-df-convert\" onclick=\"convertToInteractive('df-0471b50d-5809-4a0c-8357-cd9424e7c7f6')\"\n",
              "              title=\"Convert this dataframe to an interactive table.\"\n",
              "              style=\"display:none;\">\n",
              "        \n",
              "  <svg xmlns=\"http://www.w3.org/2000/svg\" height=\"24px\"viewBox=\"0 0 24 24\"\n",
              "       width=\"24px\">\n",
              "    <path d=\"M0 0h24v24H0V0z\" fill=\"none\"/>\n",
              "    <path d=\"M18.56 5.44l.94 2.06.94-2.06 2.06-.94-2.06-.94-.94-2.06-.94 2.06-2.06.94zm-11 1L8.5 8.5l.94-2.06 2.06-.94-2.06-.94L8.5 2.5l-.94 2.06-2.06.94zm10 10l.94 2.06.94-2.06 2.06-.94-2.06-.94-.94-2.06-.94 2.06-2.06.94z\"/><path d=\"M17.41 7.96l-1.37-1.37c-.4-.4-.92-.59-1.43-.59-.52 0-1.04.2-1.43.59L10.3 9.45l-7.72 7.72c-.78.78-.78 2.05 0 2.83L4 21.41c.39.39.9.59 1.41.59.51 0 1.02-.2 1.41-.59l7.78-7.78 2.81-2.81c.8-.78.8-2.07 0-2.86zM5.41 20L4 18.59l7.72-7.72 1.47 1.35L5.41 20z\"/>\n",
              "  </svg>\n",
              "      </button>\n",
              "      \n",
              "  <style>\n",
              "    .colab-df-container {\n",
              "      display:flex;\n",
              "      flex-wrap:wrap;\n",
              "      gap: 12px;\n",
              "    }\n",
              "\n",
              "    .colab-df-convert {\n",
              "      background-color: #E8F0FE;\n",
              "      border: none;\n",
              "      border-radius: 50%;\n",
              "      cursor: pointer;\n",
              "      display: none;\n",
              "      fill: #1967D2;\n",
              "      height: 32px;\n",
              "      padding: 0 0 0 0;\n",
              "      width: 32px;\n",
              "    }\n",
              "\n",
              "    .colab-df-convert:hover {\n",
              "      background-color: #E2EBFA;\n",
              "      box-shadow: 0px 1px 2px rgba(60, 64, 67, 0.3), 0px 1px 3px 1px rgba(60, 64, 67, 0.15);\n",
              "      fill: #174EA6;\n",
              "    }\n",
              "\n",
              "    [theme=dark] .colab-df-convert {\n",
              "      background-color: #3B4455;\n",
              "      fill: #D2E3FC;\n",
              "    }\n",
              "\n",
              "    [theme=dark] .colab-df-convert:hover {\n",
              "      background-color: #434B5C;\n",
              "      box-shadow: 0px 1px 3px 1px rgba(0, 0, 0, 0.15);\n",
              "      filter: drop-shadow(0px 1px 2px rgba(0, 0, 0, 0.3));\n",
              "      fill: #FFFFFF;\n",
              "    }\n",
              "  </style>\n",
              "\n",
              "      <script>\n",
              "        const buttonEl =\n",
              "          document.querySelector('#df-0471b50d-5809-4a0c-8357-cd9424e7c7f6 button.colab-df-convert');\n",
              "        buttonEl.style.display =\n",
              "          google.colab.kernel.accessAllowed ? 'block' : 'none';\n",
              "\n",
              "        async function convertToInteractive(key) {\n",
              "          const element = document.querySelector('#df-0471b50d-5809-4a0c-8357-cd9424e7c7f6');\n",
              "          const dataTable =\n",
              "            await google.colab.kernel.invokeFunction('convertToInteractive',\n",
              "                                                     [key], {});\n",
              "          if (!dataTable) return;\n",
              "\n",
              "          const docLinkHtml = 'Like what you see? Visit the ' +\n",
              "            '<a target=\"_blank\" href=https://colab.research.google.com/notebooks/data_table.ipynb>data table notebook</a>'\n",
              "            + ' to learn more about interactive tables.';\n",
              "          element.innerHTML = '';\n",
              "          dataTable['output_type'] = 'display_data';\n",
              "          await google.colab.output.renderOutput(dataTable, element);\n",
              "          const docLink = document.createElement('div');\n",
              "          docLink.innerHTML = docLinkHtml;\n",
              "          element.appendChild(docLink);\n",
              "        }\n",
              "      </script>\n",
              "    </div>\n",
              "  </div>\n",
              "  "
            ]
          },
          "metadata": {},
          "execution_count": 28
        }
      ]
    },
    {
      "cell_type": "code",
      "source": [
        "new_model_1 = Sequential()\n",
        "\n",
        "for i in range(len(model.layers) - 1):\n",
        "    new_model_1.add(model.layers[i])\n",
        "\n",
        "# Freeze the layers \n",
        "# for layer in new_model.layers:\n",
        "#     layer.trainable = False  \n",
        "\n",
        "\n",
        "new_model_1.add(Dense(6, activation='relu'))\n",
        "new_model_1.add(Dropout(rate=0.3)) \n",
        "new_model_1.add(Dropout(rate=0.25))\n",
        "new_model_1.add(Dense(9, activation='relu'))\n",
        "new_model_1.add(Dense(8, activation='relu'))\n",
        "new_model_1.add(Dropout(rate=0.25))\n",
        "new_model_1.add(Dense(1, activation='sigmoid'))\n",
        "new_model_1.summary()"
      ],
      "metadata": {
        "colab": {
          "base_uri": "https://localhost:8080/"
        },
        "id": "kx0e6IxB198i",
        "outputId": "239859e6-34c6-4116-bb42-921616b139d1"
      },
      "id": "kx0e6IxB198i",
      "execution_count": null,
      "outputs": [
        {
          "output_type": "stream",
          "name": "stdout",
          "text": [
            "Model: \"sequential_2\"\n",
            "_________________________________________________________________\n",
            " Layer (type)                Output Shape              Param #   \n",
            "=================================================================\n",
            " dense (Dense)               (None, 8)                 64        \n",
            "                                                                 \n",
            " dense_1 (Dense)             (None, 8)                 72        \n",
            "                                                                 \n",
            " dense_2 (Dense)             (None, 8)                 72        \n",
            "                                                                 \n",
            " dropout (Dropout)           (None, 8)                 0         \n",
            "                                                                 \n",
            " dense_6 (Dense)             (None, 6)                 54        \n",
            "                                                                 \n",
            " dropout_2 (Dropout)         (None, 6)                 0         \n",
            "                                                                 \n",
            " dropout_3 (Dropout)         (None, 6)                 0         \n",
            "                                                                 \n",
            " dense_7 (Dense)             (None, 9)                 63        \n",
            "                                                                 \n",
            " dense_8 (Dense)             (None, 8)                 80        \n",
            "                                                                 \n",
            " dropout_4 (Dropout)         (None, 8)                 0         \n",
            "                                                                 \n",
            " dense_9 (Dense)             (None, 1)                 9         \n",
            "                                                                 \n",
            "=================================================================\n",
            "Total params: 414\n",
            "Trainable params: 414\n",
            "Non-trainable params: 0\n",
            "_________________________________________________________________\n"
          ]
        }
      ]
    },
    {
      "cell_type": "code",
      "source": [
        "new_model_1.compile(optimizer=Adam(beta_1=0.9, beta_2=0.999, epsilon=1e-08), loss='mean_absolute_error')\n",
        "new_model_1.fit(x=train_dataset, y=np.array(soh), batch_size=25, epochs=50)"
      ],
      "metadata": {
        "colab": {
          "base_uri": "https://localhost:8080/"
        },
        "id": "CAEB1vi72sJM",
        "outputId": "a53a7c10-f465-4105-92d0-76c30e3fc49d"
      },
      "id": "CAEB1vi72sJM",
      "execution_count": null,
      "outputs": [
        {
          "output_type": "stream",
          "name": "stdout",
          "text": [
            "Epoch 1/50\n",
            "2012/2012 [==============================] - 4s 2ms/step - loss: 0.0535\n",
            "Epoch 2/50\n",
            "2012/2012 [==============================] - 6s 3ms/step - loss: 0.0304\n",
            "Epoch 3/50\n",
            "2012/2012 [==============================] - 7s 3ms/step - loss: 0.0280\n",
            "Epoch 4/50\n",
            "2012/2012 [==============================] - 9s 5ms/step - loss: 0.0277\n",
            "Epoch 5/50\n",
            "2012/2012 [==============================] - 8s 4ms/step - loss: 0.0272\n",
            "Epoch 6/50\n",
            "2012/2012 [==============================] - 7s 4ms/step - loss: 0.0273\n",
            "Epoch 7/50\n",
            "2012/2012 [==============================] - 7s 4ms/step - loss: 0.0270\n",
            "Epoch 8/50\n",
            "2012/2012 [==============================] - 7s 3ms/step - loss: 0.0266\n",
            "Epoch 9/50\n",
            "2012/2012 [==============================] - 5s 3ms/step - loss: 0.0266\n",
            "Epoch 10/50\n",
            "2012/2012 [==============================] - 4s 2ms/step - loss: 0.0263\n",
            "Epoch 11/50\n",
            "2012/2012 [==============================] - 3s 2ms/step - loss: 0.0262\n",
            "Epoch 12/50\n",
            "2012/2012 [==============================] - 3s 2ms/step - loss: 0.0260\n",
            "Epoch 13/50\n",
            "2012/2012 [==============================] - 3s 2ms/step - loss: 0.0264\n",
            "Epoch 14/50\n",
            "2012/2012 [==============================] - 3s 2ms/step - loss: 0.0263\n",
            "Epoch 15/50\n",
            "2012/2012 [==============================] - 3s 2ms/step - loss: 0.0259\n",
            "Epoch 16/50\n",
            "2012/2012 [==============================] - 3s 2ms/step - loss: 0.0255\n",
            "Epoch 17/50\n",
            "2012/2012 [==============================] - 3s 2ms/step - loss: 0.0256\n",
            "Epoch 18/50\n",
            "2012/2012 [==============================] - 3s 2ms/step - loss: 0.0250\n",
            "Epoch 19/50\n",
            "2012/2012 [==============================] - 3s 2ms/step - loss: 0.0251\n",
            "Epoch 20/50\n",
            "2012/2012 [==============================] - 3s 2ms/step - loss: 0.0253\n",
            "Epoch 21/50\n",
            "2012/2012 [==============================] - 3s 2ms/step - loss: 0.0252\n",
            "Epoch 22/50\n",
            "2012/2012 [==============================] - 3s 2ms/step - loss: 0.0255\n",
            "Epoch 23/50\n",
            "2012/2012 [==============================] - 3s 2ms/step - loss: 0.0251\n",
            "Epoch 24/50\n",
            "2012/2012 [==============================] - 4s 2ms/step - loss: 0.0253\n",
            "Epoch 25/50\n",
            "2012/2012 [==============================] - 4s 2ms/step - loss: 0.0249\n",
            "Epoch 26/50\n",
            "2012/2012 [==============================] - 3s 2ms/step - loss: 0.0248\n",
            "Epoch 27/50\n",
            "2012/2012 [==============================] - 3s 2ms/step - loss: 0.0253\n",
            "Epoch 28/50\n",
            "2012/2012 [==============================] - 3s 2ms/step - loss: 0.0250\n",
            "Epoch 29/50\n",
            "2012/2012 [==============================] - 3s 2ms/step - loss: 0.0248\n",
            "Epoch 30/50\n",
            "2012/2012 [==============================] - 3s 2ms/step - loss: 0.0250\n",
            "Epoch 31/50\n",
            "2012/2012 [==============================] - 3s 2ms/step - loss: 0.0251\n",
            "Epoch 32/50\n",
            "2012/2012 [==============================] - 3s 2ms/step - loss: 0.0250\n",
            "Epoch 33/50\n",
            "2012/2012 [==============================] - 3s 2ms/step - loss: 0.0249\n",
            "Epoch 34/50\n",
            "2012/2012 [==============================] - 3s 2ms/step - loss: 0.0246\n",
            "Epoch 35/50\n",
            "2012/2012 [==============================] - 3s 2ms/step - loss: 0.0248\n",
            "Epoch 36/50\n",
            "2012/2012 [==============================] - 4s 2ms/step - loss: 0.0246\n",
            "Epoch 37/50\n",
            "2012/2012 [==============================] - 3s 2ms/step - loss: 0.0244\n",
            "Epoch 38/50\n",
            "2012/2012 [==============================] - 3s 2ms/step - loss: 0.0246\n",
            "Epoch 39/50\n",
            "2012/2012 [==============================] - 3s 2ms/step - loss: 0.0244\n",
            "Epoch 40/50\n",
            "2012/2012 [==============================] - 3s 2ms/step - loss: 0.0245\n",
            "Epoch 41/50\n",
            "2012/2012 [==============================] - 4s 2ms/step - loss: 0.0242\n",
            "Epoch 42/50\n",
            "2012/2012 [==============================] - 3s 2ms/step - loss: 0.0244\n",
            "Epoch 43/50\n",
            "2012/2012 [==============================] - 3s 2ms/step - loss: 0.0245\n",
            "Epoch 44/50\n",
            "2012/2012 [==============================] - 3s 2ms/step - loss: 0.0243\n",
            "Epoch 45/50\n",
            "2012/2012 [==============================] - 3s 2ms/step - loss: 0.0243\n",
            "Epoch 46/50\n",
            "2012/2012 [==============================] - 3s 2ms/step - loss: 0.0242\n",
            "Epoch 47/50\n",
            "2012/2012 [==============================] - 3s 2ms/step - loss: 0.0241\n",
            "Epoch 48/50\n",
            "2012/2012 [==============================] - 3s 2ms/step - loss: 0.0244\n",
            "Epoch 49/50\n",
            "2012/2012 [==============================] - 3s 2ms/step - loss: 0.0244\n",
            "Epoch 50/50\n",
            "2012/2012 [==============================] - 3s 2ms/step - loss: 0.0240\n"
          ]
        },
        {
          "output_type": "execute_result",
          "data": {
            "text/plain": [
              "<keras.callbacks.History at 0x7fe4dc4fa750>"
            ]
          },
          "metadata": {},
          "execution_count": 30
        }
      ]
    },
    {
      "cell_type": "code",
      "source": [
        "dataset_val, capacity_val = load_data('B0006')\n",
        "attrib=['cycle', 'datetime', 'capacity']\n",
        "dis_ele = capacity_val[attrib]\n",
        "C = dis_ele['capacity'][0]\n",
        "for i in range(len(dis_ele)):\n",
        "    dis_ele['SoH']=(dis_ele['capacity']) / C\n",
        "for i in range(1, len(new_soh)):\n",
        "    if (dis_ele.loc[i,\"SoH\"]>dis_ele.loc[i-1,\"SoH\"]):\n",
        "      dis_ele.loc[i,\"SoH\"]=dis_ele.loc[i-1,\"SoH\"]\n",
        "print(dataset_val.head(5))\n",
        "print(dis_ele.head(5))"
      ],
      "metadata": {
        "colab": {
          "base_uri": "https://localhost:8080/"
        },
        "id": "WAtI3HNQ22b5",
        "outputId": "1863aa7f-85e8-4710-ec2c-642117d0ce2b"
      },
      "id": "WAtI3HNQ22b5",
      "execution_count": null,
      "outputs": [
        {
          "output_type": "stream",
          "name": "stdout",
          "text": [
            "Total data in dataset:  616\n",
            "[1, 24, datetime.datetime(2008, 4, 2, 15, 25, 41), 2.035337591005598, 4.179799607333447, -0.0023663271409738672, 24.277567510331888, -0.0006, 0.0, 0.0]\n",
            "   cycle  ambient_temperature            datetime  capacity  voltage_measured  \\\n",
            "0      1                   24 2008-04-02 15:25:41  2.035338          4.179800   \n",
            "1      1                   24 2008-04-02 15:25:41  2.035338          4.179823   \n",
            "2      1                   24 2008-04-02 15:25:41  2.035338          3.966528   \n",
            "3      1                   24 2008-04-02 15:25:41  2.035338          3.945886   \n",
            "4      1                   24 2008-04-02 15:25:41  2.035338          3.930354   \n",
            "\n",
            "   current_measured  temperature_measured  current_load  voltage_load    time  \n",
            "0         -0.002366             24.277568       -0.0006         0.000   0.000  \n",
            "1          0.000434             24.277073       -0.0006         4.195  16.781  \n",
            "2         -2.014242             24.366226       -1.9990         3.070  35.703  \n",
            "3         -2.008730             24.515123       -1.9990         3.045  53.781  \n",
            "4         -2.013381             24.676053       -1.9990         3.026  71.922  \n",
            "   cycle            datetime  capacity       SoH\n",
            "0      1 2008-04-02 15:25:41  2.035338  1.000000\n",
            "1      2 2008-04-02 19:43:48  2.025140  0.994990\n",
            "2      3 2008-04-03 00:01:06  2.013326  0.989185\n",
            "3      4 2008-04-03 04:16:37  2.013285  0.989165\n",
            "4      5 2008-04-03 08:33:25  2.000528  0.982898\n"
          ]
        }
      ]
    },
    {
      "cell_type": "code",
      "source": [
        "attrib=['capacity', 'voltage_measured', 'current_measured',\n",
        "        'temperature_measured', 'current_load', 'voltage_load', 'time']\n",
        "soh_pred = new_model_1.predict(sc.fit_transform(dataset_val[attrib]))\n",
        "print(soh_pred.shape)\n",
        "\n",
        "C = dataset_val['capacity'][0]\n",
        "soh = []\n",
        "for i in range(len(dataset_val)):\n",
        "  soh.append(dataset_val['capacity'][i] / C)\n",
        "new_soh = dataset_val.loc[(dataset_val['cycle'] >= 1), ['cycle']]\n",
        "new_soh['SoH'] =  soh\n",
        "for i in range(1, len(new_soh)):\n",
        "    if (new_soh.loc[i,\"SoH\"]>new_soh.loc[i-1,\"SoH\"]):\n",
        "      new_soh.loc[i,\"SoH\"]=new_soh.loc[i-1,\"SoH\"]\n",
        "new_soh['NewSoH'] = soh_pred\n",
        "for i in range(1, len(new_soh)):\n",
        "    if (new_soh.loc[i,\"NewSoH\"]>new_soh.loc[i-1,\"NewSoH\"]):\n",
        "      new_soh.loc[i,\"NewSoH\"]=new_soh.loc[i-1,\"NewSoH\"]\n",
        "new_soh = new_soh.groupby(['cycle']).mean().reset_index()\n",
        "print(new_soh.head(10))\n",
        "rms = np.sqrt(mean_squared_error(new_soh['SoH'], new_soh['NewSoH']))\n",
        "print('Root Mean Square Error: ', rms)"
      ],
      "metadata": {
        "colab": {
          "base_uri": "https://localhost:8080/"
        },
        "id": "hC3QOoHo22g9",
        "outputId": "b421a497-798b-4f63-d1e6-e7be5123d38c"
      },
      "id": "hC3QOoHo22g9",
      "execution_count": null,
      "outputs": [
        {
          "output_type": "stream",
          "name": "stdout",
          "text": [
            "(50285, 1)\n",
            "   cycle       SoH    NewSoH\n",
            "0      1  1.000000  0.903828\n",
            "1      2  0.994990  0.899832\n",
            "2      3  0.989185  0.888169\n",
            "3      4  0.989165  0.887626\n",
            "4      5  0.982898  0.870745\n",
            "5      6  0.982898  0.870570\n",
            "6      7  0.982898  0.870570\n",
            "7      8  0.967304  0.819495\n",
            "8      9  0.966997  0.817448\n",
            "9     10  0.961625  0.795705\n",
            "Root Mean Square Error:  0.08518824612637904\n"
          ]
        }
      ]
    },
    {
      "cell_type": "code",
      "source": [
        "plot_df = new_soh.loc[(new_soh['cycle']>=1),['cycle','SoH', 'NewSoH']]\n",
        "sns.set_style(\"white\")\n",
        "plt.figure(figsize=(16, 10))\n",
        "plt.plot(plot_df['cycle'], plot_df['SoH'], label='SoH')\n",
        "plt.plot(plot_df['cycle'], plot_df['NewSoH'], label='Predicted SoH')\n",
        "#Draw threshold\n",
        "#plt.plot([0.,len(capacity)], [0.70, 0.70], label='Threshold')\n",
        "plt.ylabel('SOH')\n",
        "# make x-axis ticks legible\n",
        "adf = plt.gca().get_xaxis().get_major_formatter()\n",
        "plt.xlabel('cycle')\n",
        "plt.legend()\n",
        "plt.title('Discharge B0006')"
      ],
      "metadata": {
        "colab": {
          "base_uri": "https://localhost:8080/",
          "height": 638
        },
        "id": "iF2bX7Xc2_o_",
        "outputId": "2aba7eaf-dd53-4a5a-e962-0037ef7890f4"
      },
      "id": "iF2bX7Xc2_o_",
      "execution_count": null,
      "outputs": [
        {
          "output_type": "execute_result",
          "data": {
            "text/plain": [
              "Text(0.5, 1.0, 'Discharge B0006')"
            ]
          },
          "metadata": {},
          "execution_count": 33
        },
        {
          "output_type": "display_data",
          "data": {
            "text/plain": [
              "<Figure size 1152x720 with 1 Axes>"
            ],
            "image/png": "[encoded data removed]"
          },
          "metadata": {}
        }
      ]
    },
    {
      "cell_type": "markdown",
      "id": "cc44cd89",
      "metadata": {
        "papermill": {
          "duration": 0.677676,
          "end_time": "2021-07-22T04:48:26.558756",
          "exception": false,
          "start_time": "2021-07-22T04:48:25.881080",
          "status": "completed"
        },
        "tags": [],
        "id": "cc44cd89"
      },
      "source": [
        "# RUL estimation\n"
      ]
    },
    {
      "cell_type": "code",
      "execution_count": null,
      "id": "856b0b0c",
      "metadata": {
        "execution": {
          "iopub.execute_input": "2021-07-22T04:48:27.942312Z",
          "iopub.status.busy": "2021-07-22T04:48:27.941532Z",
          "iopub.status.idle": "2021-07-22T04:48:29.262524Z",
          "shell.execute_reply": "2021-07-22T04:48:29.261912Z",
          "shell.execute_reply.started": "2021-07-21T14:57:57.684156Z"
        },
        "papermill": {
          "duration": 2.0057,
          "end_time": "2021-07-22T04:48:29.262689",
          "exception": false,
          "start_time": "2021-07-22T04:48:27.256989",
          "status": "completed"
        },
        "tags": [],
        "id": "856b0b0c",
        "outputId": "d1dfa558-9492-401c-e65f-12e7770409db",
        "colab": {
          "base_uri": "https://localhost:8080/"
        }
      },
      "outputs": [
        {
          "output_type": "stream",
          "name": "stdout",
          "text": [
            "Total data in dataset:  616\n",
            "[1, 24, datetime.datetime(2008, 4, 2, 15, 25, 41), 1.8564874208181574, 4.191491807505295, -0.004901589207462691, 24.330033885570543, -0.0006, 0.0, 0.0]\n",
            "     cycle  capacity\n",
            "0        1  1.856487\n",
            "1        2  1.846327\n",
            "2        3  1.835349\n",
            "3        4  1.835263\n",
            "4        5  1.834646\n",
            "..     ...       ...\n",
            "163    164  1.293464\n",
            "164    165  1.288003\n",
            "165    166  1.287453\n",
            "166    167  1.309015\n",
            "167    168  1.325079\n",
            "\n",
            "[168 rows x 2 columns]\n"
          ]
        }
      ],
      "source": [
        "dataset_val, capacity_val = load_data('B0005')\n",
        "attrib=['cycle', 'datetime', 'capacity']\n",
        "dis_ele = capacity_val[attrib]\n",
        "rows=['cycle','capacity']\n",
        "dataset=dis_ele[rows]\n",
        "print(dataset)\n",
        "data_train=dataset[(dataset['cycle']<50)]\n",
        "data_set_train=data_train.iloc[:,1:2].values\n",
        "data_test=dataset[(dataset['cycle']>=50)]\n",
        "data_set_test=data_test.iloc[:,1:2].values\n",
        "\n",
        "sc=MinMaxScaler(feature_range=(0,1))\n",
        "data_set_train=sc.fit_transform(data_set_train)\n",
        "data_set_test=sc.transform(data_set_test)\n",
        "\n",
        "X_train=[]\n",
        "y_train=[]\n",
        "#take the last 10t to predict 10t+1\n",
        "for i in range(10,49):\n",
        "    X_train.append(data_set_train[i-10:i,0])\n",
        "    y_train.append(data_set_train[i,0])\n",
        "X_train,y_train=np.array(X_train),np.array(y_train)\n",
        " \n",
        "X_train=np.reshape(X_train,(X_train.shape[0],X_train.shape[1],1))"
      ]
    },
    {
      "cell_type": "code",
      "source": [
        "data_set_train"
      ],
      "metadata": {
        "id": "Rj_LKPD3N1E2",
        "outputId": "f50c257c-6d44-4136-bf59-2ca31d3804f4",
        "colab": {
          "base_uri": "https://localhost:8080/"
        }
      },
      "id": "Rj_LKPD3N1E2",
      "execution_count": null,
      "outputs": [
        {
          "output_type": "execute_result",
          "data": {
            "text/plain": [
              "array([[1.        ],\n",
              "       [0.91561044],\n",
              "       [0.8244276 ],\n",
              "       [0.82370776],\n",
              "       [0.81858284],\n",
              "       [0.82702292],\n",
              "       [0.82274107],\n",
              "       [0.74475387],\n",
              "       [0.73658968],\n",
              "       [0.73525587],\n",
              "       [0.73530807],\n",
              "       [0.64878019],\n",
              "       [0.64504437],\n",
              "       [0.64245569],\n",
              "       [0.55239887],\n",
              "       [0.5483198 ],\n",
              "       [0.55224518],\n",
              "       [0.55630523],\n",
              "       [0.55389079],\n",
              "       [0.92141416],\n",
              "       [0.92466441],\n",
              "       [0.83130679],\n",
              "       [0.74495286],\n",
              "       [0.73941195],\n",
              "       [0.74329796],\n",
              "       [0.64736147],\n",
              "       [0.65349179],\n",
              "       [0.64684867],\n",
              "       [0.55379145],\n",
              "       [0.56468362],\n",
              "       [0.96108786],\n",
              "       [0.78584371],\n",
              "       [0.69614198],\n",
              "       [0.60813125],\n",
              "       [0.56910955],\n",
              "       [0.52564601],\n",
              "       [0.43483049],\n",
              "       [0.38898028],\n",
              "       [0.30684029],\n",
              "       [0.30687384],\n",
              "       [0.26396841],\n",
              "       [0.21781209],\n",
              "       [0.26185191],\n",
              "       [0.22074648],\n",
              "       [0.1298974 ],\n",
              "       [0.04782759],\n",
              "       [0.        ],\n",
              "       [0.47786164],\n",
              "       [0.39118944]])"
            ]
          },
          "metadata": {},
          "execution_count": 15
        }
      ]
    },
    {
      "cell_type": "markdown",
      "source": [
        "#### Base model"
      ],
      "metadata": {
        "id": "92Gi8dBVGTgp"
      },
      "id": "92Gi8dBVGTgp"
    },
    {
      "cell_type": "code",
      "execution_count": null,
      "id": "8a144880",
      "metadata": {
        "execution": {
          "iopub.execute_input": "2021-07-22T04:48:31.982130Z",
          "iopub.status.busy": "2021-07-22T04:48:31.981387Z",
          "iopub.status.idle": "2021-07-22T04:48:33.064373Z",
          "shell.execute_reply": "2021-07-22T04:48:33.063796Z",
          "shell.execute_reply.started": "2021-07-21T14:57:58.998379Z"
        },
        "papermill": {
          "duration": 1.766531,
          "end_time": "2021-07-22T04:48:33.064517",
          "exception": false,
          "start_time": "2021-07-22T04:48:31.297986",
          "status": "completed"
        },
        "tags": [],
        "id": "8a144880",
        "outputId": "3587f208-10cd-4861-af20-3a5cb54d56a5",
        "colab": {
          "base_uri": "https://localhost:8080/"
        }
      },
      "outputs": [
        {
          "output_type": "stream",
          "name": "stdout",
          "text": [
            "Model: \"sequential\"\n",
            "_________________________________________________________________\n",
            " Layer (type)                Output Shape              Param #   \n",
            "=================================================================\n",
            " lstm (LSTM)                 (None, 10, 200)           161600    \n",
            "                                                                 \n",
            " dropout (Dropout)           (None, 10, 200)           0         \n",
            "                                                                 \n",
            " lstm_1 (LSTM)               (None, 10, 200)           320800    \n",
            "                                                                 \n",
            " dropout_1 (Dropout)         (None, 10, 200)           0         \n",
            "                                                                 \n",
            " lstm_2 (LSTM)               (None, 10, 200)           320800    \n",
            "                                                                 \n",
            " dropout_2 (Dropout)         (None, 10, 200)           0         \n",
            "                                                                 \n",
            " lstm_3 (LSTM)               (None, 200)               320800    \n",
            "                                                                 \n",
            " dropout_3 (Dropout)         (None, 200)               0         \n",
            "                                                                 \n",
            " dense (Dense)               (None, 1)                 201       \n",
            "                                                                 \n",
            "=================================================================\n",
            "Total params: 1,124,201\n",
            "Trainable params: 1,124,201\n",
            "Non-trainable params: 0\n",
            "_________________________________________________________________\n"
          ]
        }
      ],
      "source": [
        "def base_model():\n",
        "  regress = Sequential()\n",
        "  regress.add(LSTM(units=200, return_sequences=True, input_shape=(X_train.shape[1],1)))\n",
        "  regress.add(Dropout(0.3))\n",
        "  regress.add(LSTM(units=200, return_sequences=True))\n",
        "  regress.add(Dropout(0.3))\n",
        "  regress.add(LSTM(units=200, return_sequences=True))\n",
        "  regress.add(Dropout(0.3))\n",
        "  regress.add(LSTM(units=200))\n",
        "  regress.add(Dropout(0.3))\n",
        "  regress.add(Dense(units=1))\n",
        "  regress.summary()\n",
        "  return regress\n",
        "\n",
        "model = base_model()\n",
        "model.compile(optimizer='adam',loss='mean_squared_error')"
      ]
    },
    {
      "cell_type": "code",
      "execution_count": null,
      "id": "091b7174",
      "metadata": {
        "execution": {
          "iopub.execute_input": "2021-07-22T04:48:34.430939Z",
          "iopub.status.busy": "2021-07-22T04:48:34.428027Z",
          "iopub.status.idle": "2021-07-22T04:49:07.528092Z",
          "shell.execute_reply": "2021-07-22T04:49:07.527435Z",
          "shell.execute_reply.started": "2021-07-21T14:58:00.03382Z"
        },
        "papermill": {
          "duration": 33.784392,
          "end_time": "2021-07-22T04:49:07.528269",
          "exception": false,
          "start_time": "2021-07-22T04:48:33.743877",
          "status": "completed"
        },
        "tags": [],
        "id": "091b7174",
        "outputId": "a26d76fc-ddd5-4d06-cbb4-34c54e474c04",
        "colab": {
          "base_uri": "https://localhost:8080/"
        }
      },
      "outputs": [
        {
          "output_type": "stream",
          "name": "stdout",
          "text": [
            "Epoch 1/200\n",
            "2/2 [==============================] - 8s 94ms/step - loss: 0.3121\n",
            "Epoch 2/200\n",
            "2/2 [==============================] - 0s 90ms/step - loss: 0.1272\n",
            "Epoch 3/200\n",
            "2/2 [==============================] - 0s 86ms/step - loss: 0.0968\n",
            "Epoch 4/200\n",
            "2/2 [==============================] - 0s 86ms/step - loss: 0.0588\n",
            "Epoch 5/200\n",
            "2/2 [==============================] - 0s 94ms/step - loss: 0.0792\n",
            "Epoch 6/200\n",
            "2/2 [==============================] - 0s 96ms/step - loss: 0.0583\n",
            "Epoch 7/200\n",
            "2/2 [==============================] - 0s 97ms/step - loss: 0.0528\n",
            "Epoch 8/200\n",
            "2/2 [==============================] - 0s 98ms/step - loss: 0.0700\n",
            "Epoch 9/200\n",
            "2/2 [==============================] - 0s 97ms/step - loss: 0.0425\n",
            "Epoch 10/200\n",
            "2/2 [==============================] - 0s 94ms/step - loss: 0.0468\n",
            "Epoch 11/200\n",
            "2/2 [==============================] - 0s 96ms/step - loss: 0.0580\n",
            "Epoch 12/200\n",
            "2/2 [==============================] - 0s 102ms/step - loss: 0.0501\n",
            "Epoch 13/200\n",
            "2/2 [==============================] - 0s 98ms/step - loss: 0.0425\n",
            "Epoch 14/200\n",
            "2/2 [==============================] - 0s 95ms/step - loss: 0.0406\n",
            "Epoch 15/200\n",
            "2/2 [==============================] - 0s 221ms/step - loss: 0.0478\n",
            "Epoch 16/200\n",
            "2/2 [==============================] - 0s 111ms/step - loss: 0.0429\n",
            "Epoch 17/200\n",
            "2/2 [==============================] - 0s 95ms/step - loss: 0.0462\n",
            "Epoch 18/200\n",
            "2/2 [==============================] - 0s 202ms/step - loss: 0.0467\n",
            "Epoch 19/200\n",
            "2/2 [==============================] - 0s 212ms/step - loss: 0.0422\n",
            "Epoch 20/200\n",
            "2/2 [==============================] - 0s 95ms/step - loss: 0.0441\n",
            "Epoch 21/200\n",
            "2/2 [==============================] - 0s 82ms/step - loss: 0.0417\n",
            "Epoch 22/200\n",
            "2/2 [==============================] - 0s 90ms/step - loss: 0.0375\n",
            "Epoch 23/200\n",
            "2/2 [==============================] - 0s 212ms/step - loss: 0.0431\n",
            "Epoch 24/200\n",
            "2/2 [==============================] - 0s 96ms/step - loss: 0.0472\n",
            "Epoch 25/200\n",
            "2/2 [==============================] - 0s 99ms/step - loss: 0.0444\n",
            "Epoch 26/200\n",
            "2/2 [==============================] - 0s 91ms/step - loss: 0.0453\n",
            "Epoch 27/200\n",
            "2/2 [==============================] - 0s 93ms/step - loss: 0.0420\n",
            "Epoch 28/200\n",
            "2/2 [==============================] - 0s 93ms/step - loss: 0.0416\n",
            "Epoch 29/200\n",
            "2/2 [==============================] - 0s 90ms/step - loss: 0.0400\n",
            "Epoch 30/200\n",
            "2/2 [==============================] - 0s 92ms/step - loss: 0.0381\n",
            "Epoch 31/200\n",
            "2/2 [==============================] - 0s 93ms/step - loss: 0.0409\n",
            "Epoch 32/200\n",
            "2/2 [==============================] - 0s 91ms/step - loss: 0.0408\n",
            "Epoch 33/200\n",
            "2/2 [==============================] - 0s 95ms/step - loss: 0.0438\n",
            "Epoch 34/200\n",
            "2/2 [==============================] - 0s 94ms/step - loss: 0.0391\n",
            "Epoch 35/200\n",
            "2/2 [==============================] - 0s 91ms/step - loss: 0.0390\n",
            "Epoch 36/200\n",
            "2/2 [==============================] - 0s 91ms/step - loss: 0.0414\n",
            "Epoch 37/200\n",
            "2/2 [==============================] - 0s 97ms/step - loss: 0.0348\n",
            "Epoch 38/200\n",
            "2/2 [==============================] - 0s 89ms/step - loss: 0.0397\n",
            "Epoch 39/200\n",
            "2/2 [==============================] - 0s 91ms/step - loss: 0.0377\n",
            "Epoch 40/200\n",
            "2/2 [==============================] - 0s 89ms/step - loss: 0.0377\n",
            "Epoch 41/200\n",
            "2/2 [==============================] - 0s 93ms/step - loss: 0.0409\n",
            "Epoch 42/200\n",
            "2/2 [==============================] - 0s 90ms/step - loss: 0.0390\n",
            "Epoch 43/200\n",
            "2/2 [==============================] - 0s 91ms/step - loss: 0.0386\n",
            "Epoch 44/200\n",
            "2/2 [==============================] - 0s 95ms/step - loss: 0.0348\n",
            "Epoch 45/200\n",
            "2/2 [==============================] - 0s 92ms/step - loss: 0.0377\n",
            "Epoch 46/200\n",
            "2/2 [==============================] - 0s 92ms/step - loss: 0.0448\n",
            "Epoch 47/200\n",
            "2/2 [==============================] - 0s 91ms/step - loss: 0.0386\n",
            "Epoch 48/200\n",
            "2/2 [==============================] - 0s 92ms/step - loss: 0.0365\n",
            "Epoch 49/200\n",
            "2/2 [==============================] - 0s 95ms/step - loss: 0.0372\n",
            "Epoch 50/200\n",
            "2/2 [==============================] - 0s 97ms/step - loss: 0.0386\n",
            "Epoch 51/200\n",
            "2/2 [==============================] - 0s 94ms/step - loss: 0.0374\n",
            "Epoch 52/200\n",
            "2/2 [==============================] - 0s 90ms/step - loss: 0.0398\n",
            "Epoch 53/200\n",
            "2/2 [==============================] - 0s 90ms/step - loss: 0.0409\n",
            "Epoch 54/200\n",
            "2/2 [==============================] - 0s 99ms/step - loss: 0.0403\n",
            "Epoch 55/200\n",
            "2/2 [==============================] - 0s 95ms/step - loss: 0.0373\n",
            "Epoch 56/200\n",
            "2/2 [==============================] - 0s 87ms/step - loss: 0.0406\n",
            "Epoch 57/200\n",
            "2/2 [==============================] - 0s 99ms/step - loss: 0.0419\n",
            "Epoch 58/200\n",
            "2/2 [==============================] - 0s 88ms/step - loss: 0.0385\n",
            "Epoch 59/200\n",
            "2/2 [==============================] - 0s 88ms/step - loss: 0.0430\n",
            "Epoch 60/200\n",
            "2/2 [==============================] - 0s 82ms/step - loss: 0.0356\n",
            "Epoch 61/200\n",
            "2/2 [==============================] - 0s 87ms/step - loss: 0.0471\n",
            "Epoch 62/200\n",
            "2/2 [==============================] - 0s 97ms/step - loss: 0.0342\n",
            "Epoch 63/200\n",
            "2/2 [==============================] - 0s 81ms/step - loss: 0.0430\n",
            "Epoch 64/200\n",
            "2/2 [==============================] - 0s 85ms/step - loss: 0.0430\n",
            "Epoch 65/200\n",
            "2/2 [==============================] - 0s 83ms/step - loss: 0.0439\n",
            "Epoch 66/200\n",
            "2/2 [==============================] - 0s 82ms/step - loss: 0.0354\n",
            "Epoch 67/200\n",
            "2/2 [==============================] - 0s 105ms/step - loss: 0.0398\n",
            "Epoch 68/200\n",
            "2/2 [==============================] - 0s 82ms/step - loss: 0.0402\n",
            "Epoch 69/200\n",
            "2/2 [==============================] - 0s 84ms/step - loss: 0.0363\n",
            "Epoch 70/200\n",
            "2/2 [==============================] - 0s 85ms/step - loss: 0.0439\n",
            "Epoch 71/200\n",
            "2/2 [==============================] - 0s 79ms/step - loss: 0.0330\n",
            "Epoch 72/200\n",
            "2/2 [==============================] - 0s 85ms/step - loss: 0.0411\n",
            "Epoch 73/200\n",
            "2/2 [==============================] - 0s 83ms/step - loss: 0.0427\n",
            "Epoch 74/200\n",
            "2/2 [==============================] - 0s 81ms/step - loss: 0.0361\n",
            "Epoch 75/200\n",
            "2/2 [==============================] - 0s 82ms/step - loss: 0.0450\n",
            "Epoch 76/200\n",
            "2/2 [==============================] - 0s 99ms/step - loss: 0.0363\n",
            "Epoch 77/200\n",
            "2/2 [==============================] - 0s 92ms/step - loss: 0.0368\n",
            "Epoch 78/200\n",
            "2/2 [==============================] - 0s 94ms/step - loss: 0.0390\n",
            "Epoch 79/200\n",
            "2/2 [==============================] - 0s 91ms/step - loss: 0.0352\n",
            "Epoch 80/200\n",
            "2/2 [==============================] - 0s 93ms/step - loss: 0.0451\n",
            "Epoch 81/200\n",
            "2/2 [==============================] - 0s 95ms/step - loss: 0.0354\n",
            "Epoch 82/200\n",
            "2/2 [==============================] - 0s 96ms/step - loss: 0.0371\n",
            "Epoch 83/200\n",
            "2/2 [==============================] - 0s 94ms/step - loss: 0.0334\n",
            "Epoch 84/200\n",
            "2/2 [==============================] - 0s 98ms/step - loss: 0.0350\n",
            "Epoch 85/200\n",
            "2/2 [==============================] - 0s 105ms/step - loss: 0.0380\n",
            "Epoch 86/200\n",
            "2/2 [==============================] - 0s 90ms/step - loss: 0.0335\n",
            "Epoch 87/200\n",
            "2/2 [==============================] - 0s 138ms/step - loss: 0.0379\n",
            "Epoch 88/200\n",
            "2/2 [==============================] - 0s 186ms/step - loss: 0.0333\n",
            "Epoch 89/200\n",
            "2/2 [==============================] - 0s 180ms/step - loss: 0.0347\n",
            "Epoch 90/200\n",
            "2/2 [==============================] - 0s 120ms/step - loss: 0.0299\n",
            "Epoch 91/200\n",
            "2/2 [==============================] - 0s 97ms/step - loss: 0.0372\n",
            "Epoch 92/200\n",
            "2/2 [==============================] - 0s 81ms/step - loss: 0.0354\n",
            "Epoch 93/200\n",
            "2/2 [==============================] - 0s 84ms/step - loss: 0.0292\n",
            "Epoch 94/200\n",
            "2/2 [==============================] - 0s 87ms/step - loss: 0.0340\n",
            "Epoch 95/200\n",
            "2/2 [==============================] - 0s 81ms/step - loss: 0.0345\n",
            "Epoch 96/200\n",
            "2/2 [==============================] - 0s 94ms/step - loss: 0.0391\n",
            "Epoch 97/200\n",
            "2/2 [==============================] - 0s 84ms/step - loss: 0.0328\n",
            "Epoch 98/200\n",
            "2/2 [==============================] - 0s 83ms/step - loss: 0.0346\n",
            "Epoch 99/200\n",
            "2/2 [==============================] - 0s 84ms/step - loss: 0.0370\n",
            "Epoch 100/200\n",
            "2/2 [==============================] - 0s 83ms/step - loss: 0.0315\n",
            "Epoch 101/200\n",
            "2/2 [==============================] - 0s 86ms/step - loss: 0.0355\n",
            "Epoch 102/200\n",
            "2/2 [==============================] - 0s 86ms/step - loss: 0.0340\n",
            "Epoch 103/200\n",
            "2/2 [==============================] - 0s 87ms/step - loss: 0.0382\n",
            "Epoch 104/200\n",
            "2/2 [==============================] - 0s 95ms/step - loss: 0.0313\n",
            "Epoch 105/200\n",
            "2/2 [==============================] - 0s 95ms/step - loss: 0.0349\n",
            "Epoch 106/200\n",
            "2/2 [==============================] - 0s 93ms/step - loss: 0.0344\n",
            "Epoch 107/200\n",
            "2/2 [==============================] - 0s 101ms/step - loss: 0.0287\n",
            "Epoch 108/200\n",
            "2/2 [==============================] - 0s 100ms/step - loss: 0.0334\n",
            "Epoch 109/200\n",
            "2/2 [==============================] - 0s 100ms/step - loss: 0.0344\n",
            "Epoch 110/200\n",
            "2/2 [==============================] - 0s 99ms/step - loss: 0.0295\n",
            "Epoch 111/200\n",
            "2/2 [==============================] - 0s 96ms/step - loss: 0.0302\n",
            "Epoch 112/200\n",
            "2/2 [==============================] - 0s 92ms/step - loss: 0.0330\n",
            "Epoch 113/200\n",
            "2/2 [==============================] - 0s 92ms/step - loss: 0.0276\n",
            "Epoch 114/200\n",
            "2/2 [==============================] - 0s 98ms/step - loss: 0.0339\n",
            "Epoch 115/200\n",
            "2/2 [==============================] - 0s 95ms/step - loss: 0.0317\n",
            "Epoch 116/200\n",
            "2/2 [==============================] - 0s 106ms/step - loss: 0.0349\n",
            "Epoch 117/200\n",
            "2/2 [==============================] - 0s 97ms/step - loss: 0.0292\n",
            "Epoch 118/200\n",
            "2/2 [==============================] - 0s 97ms/step - loss: 0.0299\n",
            "Epoch 119/200\n",
            "2/2 [==============================] - 0s 95ms/step - loss: 0.0373\n",
            "Epoch 120/200\n",
            "2/2 [==============================] - 0s 98ms/step - loss: 0.0328\n",
            "Epoch 121/200\n",
            "2/2 [==============================] - 0s 110ms/step - loss: 0.0317\n",
            "Epoch 122/200\n",
            "2/2 [==============================] - 0s 104ms/step - loss: 0.0345\n",
            "Epoch 123/200\n",
            "2/2 [==============================] - 0s 85ms/step - loss: 0.0297\n",
            "Epoch 124/200\n",
            "2/2 [==============================] - 0s 81ms/step - loss: 0.0333\n",
            "Epoch 125/200\n",
            "2/2 [==============================] - 0s 80ms/step - loss: 0.0321\n",
            "Epoch 126/200\n",
            "2/2 [==============================] - 0s 80ms/step - loss: 0.0282\n",
            "Epoch 127/200\n",
            "2/2 [==============================] - 0s 81ms/step - loss: 0.0279\n",
            "Epoch 128/200\n",
            "2/2 [==============================] - 0s 91ms/step - loss: 0.0283\n",
            "Epoch 129/200\n",
            "2/2 [==============================] - 0s 95ms/step - loss: 0.0288\n",
            "Epoch 130/200\n",
            "2/2 [==============================] - 0s 94ms/step - loss: 0.0263\n",
            "Epoch 131/200\n",
            "2/2 [==============================] - 0s 95ms/step - loss: 0.0298\n",
            "Epoch 132/200\n",
            "2/2 [==============================] - 0s 97ms/step - loss: 0.0307\n",
            "Epoch 133/200\n",
            "2/2 [==============================] - 0s 115ms/step - loss: 0.0304\n",
            "Epoch 134/200\n",
            "2/2 [==============================] - 0s 103ms/step - loss: 0.0286\n",
            "Epoch 135/200\n",
            "2/2 [==============================] - 0s 84ms/step - loss: 0.0346\n",
            "Epoch 136/200\n",
            "2/2 [==============================] - 0s 82ms/step - loss: 0.0343\n",
            "Epoch 137/200\n",
            "2/2 [==============================] - 0s 88ms/step - loss: 0.0334\n",
            "Epoch 138/200\n",
            "2/2 [==============================] - 0s 89ms/step - loss: 0.0351\n",
            "Epoch 139/200\n",
            "2/2 [==============================] - 0s 82ms/step - loss: 0.0286\n",
            "Epoch 140/200\n",
            "2/2 [==============================] - 0s 86ms/step - loss: 0.0266\n",
            "Epoch 141/200\n",
            "2/2 [==============================] - 0s 94ms/step - loss: 0.0295\n",
            "Epoch 142/200\n",
            "2/2 [==============================] - 0s 95ms/step - loss: 0.0332\n",
            "Epoch 143/200\n",
            "2/2 [==============================] - 0s 83ms/step - loss: 0.0349\n",
            "Epoch 144/200\n",
            "2/2 [==============================] - 0s 101ms/step - loss: 0.0276\n",
            "Epoch 145/200\n",
            "2/2 [==============================] - 0s 99ms/step - loss: 0.0301\n",
            "Epoch 146/200\n",
            "2/2 [==============================] - 0s 97ms/step - loss: 0.0274\n",
            "Epoch 147/200\n",
            "2/2 [==============================] - 0s 95ms/step - loss: 0.0320\n",
            "Epoch 148/200\n",
            "2/2 [==============================] - 0s 95ms/step - loss: 0.0318\n",
            "Epoch 149/200\n",
            "2/2 [==============================] - 0s 89ms/step - loss: 0.0313\n",
            "Epoch 150/200\n",
            "2/2 [==============================] - 0s 88ms/step - loss: 0.0303\n",
            "Epoch 151/200\n",
            "2/2 [==============================] - 0s 94ms/step - loss: 0.0330\n",
            "Epoch 152/200\n",
            "2/2 [==============================] - 0s 89ms/step - loss: 0.0275\n",
            "Epoch 153/200\n",
            "2/2 [==============================] - 0s 95ms/step - loss: 0.0299\n",
            "Epoch 154/200\n",
            "2/2 [==============================] - 0s 85ms/step - loss: 0.0238\n",
            "Epoch 155/200\n",
            "2/2 [==============================] - 0s 85ms/step - loss: 0.0307\n",
            "Epoch 156/200\n",
            "2/2 [==============================] - 0s 89ms/step - loss: 0.0295\n",
            "Epoch 157/200\n",
            "2/2 [==============================] - 0s 88ms/step - loss: 0.0295\n",
            "Epoch 158/200\n",
            "2/2 [==============================] - 0s 85ms/step - loss: 0.0295\n",
            "Epoch 159/200\n",
            "2/2 [==============================] - 0s 88ms/step - loss: 0.0229\n",
            "Epoch 160/200\n",
            "2/2 [==============================] - 0s 85ms/step - loss: 0.0269\n",
            "Epoch 161/200\n",
            "2/2 [==============================] - 0s 90ms/step - loss: 0.0276\n",
            "Epoch 162/200\n",
            "2/2 [==============================] - 0s 89ms/step - loss: 0.0225\n",
            "Epoch 163/200\n",
            "2/2 [==============================] - 0s 85ms/step - loss: 0.0261\n",
            "Epoch 164/200\n",
            "2/2 [==============================] - 0s 99ms/step - loss: 0.0223\n",
            "Epoch 165/200\n",
            "2/2 [==============================] - 0s 95ms/step - loss: 0.0241\n",
            "Epoch 166/200\n",
            "2/2 [==============================] - 0s 93ms/step - loss: 0.0259\n",
            "Epoch 167/200\n",
            "2/2 [==============================] - 0s 94ms/step - loss: 0.0268\n",
            "Epoch 168/200\n",
            "2/2 [==============================] - 0s 104ms/step - loss: 0.0268\n",
            "Epoch 169/200\n",
            "2/2 [==============================] - 0s 95ms/step - loss: 0.0224\n",
            "Epoch 170/200\n",
            "2/2 [==============================] - 0s 88ms/step - loss: 0.0244\n",
            "Epoch 171/200\n",
            "2/2 [==============================] - 0s 93ms/step - loss: 0.0245\n",
            "Epoch 172/200\n",
            "2/2 [==============================] - 0s 91ms/step - loss: 0.0252\n",
            "Epoch 173/200\n",
            "2/2 [==============================] - 0s 93ms/step - loss: 0.0260\n",
            "Epoch 174/200\n",
            "2/2 [==============================] - 0s 89ms/step - loss: 0.0244\n",
            "Epoch 175/200\n",
            "2/2 [==============================] - 0s 83ms/step - loss: 0.0276\n",
            "Epoch 176/200\n",
            "2/2 [==============================] - 0s 99ms/step - loss: 0.0238\n",
            "Epoch 177/200\n",
            "2/2 [==============================] - 0s 87ms/step - loss: 0.0242\n",
            "Epoch 178/200\n",
            "2/2 [==============================] - 0s 88ms/step - loss: 0.0219\n",
            "Epoch 179/200\n",
            "2/2 [==============================] - 0s 84ms/step - loss: 0.0247\n",
            "Epoch 180/200\n",
            "2/2 [==============================] - 0s 87ms/step - loss: 0.0234\n",
            "Epoch 181/200\n",
            "2/2 [==============================] - 0s 83ms/step - loss: 0.0234\n",
            "Epoch 182/200\n",
            "2/2 [==============================] - 0s 81ms/step - loss: 0.0246\n",
            "Epoch 183/200\n",
            "2/2 [==============================] - 0s 91ms/step - loss: 0.0242\n",
            "Epoch 184/200\n",
            "2/2 [==============================] - 0s 89ms/step - loss: 0.0259\n",
            "Epoch 185/200\n",
            "2/2 [==============================] - 0s 89ms/step - loss: 0.0243\n",
            "Epoch 186/200\n",
            "2/2 [==============================] - 0s 91ms/step - loss: 0.0257\n",
            "Epoch 187/200\n",
            "2/2 [==============================] - 0s 96ms/step - loss: 0.0262\n",
            "Epoch 188/200\n",
            "2/2 [==============================] - 0s 108ms/step - loss: 0.0234\n",
            "Epoch 189/200\n",
            "2/2 [==============================] - 0s 86ms/step - loss: 0.0233\n",
            "Epoch 190/200\n",
            "2/2 [==============================] - 0s 85ms/step - loss: 0.0310\n",
            "Epoch 191/200\n",
            "2/2 [==============================] - 0s 81ms/step - loss: 0.0280\n",
            "Epoch 192/200\n",
            "2/2 [==============================] - 0s 87ms/step - loss: 0.0331\n",
            "Epoch 193/200\n",
            "2/2 [==============================] - 0s 80ms/step - loss: 0.0239\n",
            "Epoch 194/200\n",
            "2/2 [==============================] - 0s 89ms/step - loss: 0.0244\n",
            "Epoch 195/200\n",
            "2/2 [==============================] - 0s 91ms/step - loss: 0.0212\n",
            "Epoch 196/200\n",
            "2/2 [==============================] - 0s 93ms/step - loss: 0.0282\n",
            "Epoch 197/200\n",
            "2/2 [==============================] - 0s 98ms/step - loss: 0.0238\n",
            "Epoch 198/200\n",
            "2/2 [==============================] - 0s 99ms/step - loss: 0.0240\n",
            "Epoch 199/200\n",
            "2/2 [==============================] - 0s 97ms/step - loss: 0.0182\n",
            "Epoch 200/200\n",
            "2/2 [==============================] - 0s 92ms/step - loss: 0.0298\n"
          ]
        },
        {
          "output_type": "execute_result",
          "data": {
            "text/plain": [
              "<keras.callbacks.History at 0x7feac681f7d0>"
            ]
          },
          "metadata": {},
          "execution_count": 20
        }
      ],
      "source": [
        "model.fit(X_train,y_train,epochs=200,batch_size=25)"
      ]
    },
    {
      "cell_type": "code",
      "execution_count": null,
      "id": "aa54e988",
      "metadata": {
        "execution": {
          "iopub.execute_input": "2021-07-22T04:49:09.417806Z",
          "iopub.status.busy": "2021-07-22T04:49:09.417127Z",
          "iopub.status.idle": "2021-07-22T04:49:09.419668Z",
          "shell.execute_reply": "2021-07-22T04:49:09.420294Z",
          "shell.execute_reply.started": "2021-07-21T14:58:30.906209Z"
        },
        "papermill": {
          "duration": 0.974012,
          "end_time": "2021-07-22T04:49:09.420479",
          "exception": false,
          "start_time": "2021-07-22T04:49:08.446467",
          "status": "completed"
        },
        "tags": [],
        "id": "aa54e988",
        "colab": {
          "base_uri": "https://localhost:8080/"
        },
        "outputId": "c56f142e-a04d-4cab-b2fb-2cee51af60b8"
      },
      "outputs": [
        {
          "output_type": "stream",
          "name": "stdout",
          "text": [
            "119\n"
          ]
        }
      ],
      "source": [
        "print(len(data_test))\n",
        "data_total=pd.concat((data_train['capacity'], data_test['capacity']),axis=0)\n",
        "inputs=data_total[len(data_total)-len(data_test)-10:].values\n",
        "inputs=inputs.reshape(-1,1)\n",
        "inputs=sc.transform(inputs)"
      ]
    },
    {
      "cell_type": "code",
      "execution_count": null,
      "id": "9fd9e588",
      "metadata": {
        "execution": {
          "iopub.execute_input": "2021-07-22T04:49:11.319283Z",
          "iopub.status.busy": "2021-07-22T04:49:11.318526Z",
          "iopub.status.idle": "2021-07-22T04:49:12.833648Z",
          "shell.execute_reply": "2021-07-22T04:49:12.833020Z",
          "shell.execute_reply.started": "2021-07-21T14:58:30.917153Z"
        },
        "papermill": {
          "duration": 2.488307,
          "end_time": "2021-07-22T04:49:12.833801",
          "exception": false,
          "start_time": "2021-07-22T04:49:10.345494",
          "status": "completed"
        },
        "tags": [],
        "id": "9fd9e588",
        "colab": {
          "base_uri": "https://localhost:8080/"
        },
        "outputId": "33a0c31f-02d1-4552-dc4c-25bb3741c970"
      },
      "outputs": [
        {
          "output_type": "stream",
          "name": "stdout",
          "text": [
            "(119, 1)\n",
            "Test RMSE: 0.058\n"
          ]
        },
        {
          "output_type": "execute_result",
          "data": {
            "text/plain": [
              "0.8139511340103143"
            ]
          },
          "metadata": {},
          "execution_count": 22
        }
      ],
      "source": [
        "X_test=[]\n",
        "for i in range(10,129):\n",
        "    X_test.append(inputs[i-10:i,0])\n",
        "X_test=np.array(X_test)\n",
        "X_test=np.reshape(X_test,(X_test.shape[0],X_test.shape[1],1))\n",
        "pred=model.predict(X_test)\n",
        "print(pred.shape)\n",
        "pred=sc.inverse_transform(pred)\n",
        "pred=pred[:,0]\n",
        "tests=data_test.iloc[:,1:2]\n",
        "rmse = np.sqrt(mean_squared_error(tests, pred))\n",
        "print('Test RMSE: %.3f' % rmse)\n",
        "metrics.r2_score(tests,pred)"
      ]
    },
    {
      "cell_type": "code",
      "source": [
        "tests"
      ],
      "metadata": {
        "colab": {
          "base_uri": "https://localhost:8080/",
          "height": 424
        },
        "id": "cSfrFt_YWsNp",
        "outputId": "c4b72a13-1795-433a-c193-65ffe46d4bd2"
      },
      "id": "cSfrFt_YWsNp",
      "execution_count": null,
      "outputs": [
        {
          "output_type": "execute_result",
          "data": {
            "text/plain": [
              "     capacity\n",
              "49   1.767364\n",
              "50   1.757018\n",
              "51   1.746871\n",
              "52   1.741717\n",
              "53   1.736423\n",
              "..        ...\n",
              "163  1.293464\n",
              "164  1.288003\n",
              "165  1.287453\n",
              "166  1.309015\n",
              "167  1.325079\n",
              "\n",
              "[119 rows x 1 columns]"
            ],
            "text/html": [
              "\n",
              "  <div id=\"df-06f9d6a8-bcc8-4d91-8b8b-788ff732b48a\">\n",
              "    <div class=\"colab-df-container\">\n",
              "      <div>\n",
              "<style scoped>\n",
              "    .dataframe tbody tr th:only-of-type {\n",
              "        vertical-align: middle;\n",
              "    }\n",
              "\n",
              "    .dataframe tbody tr th {\n",
              "        vertical-align: top;\n",
              "    }\n",
              "\n",
              "    .dataframe thead th {\n",
              "        text-align: right;\n",
              "    }\n",
              "</style>\n",
              "<table border=\"1\" class=\"dataframe\">\n",
              "  <thead>\n",
              "    <tr style=\"text-align: right;\">\n",
              "      <th></th>\n",
              "      <th>capacity</th>\n",
              "    </tr>\n",
              "  </thead>\n",
              "  <tbody>\n",
              "    <tr>\n",
              "      <th>49</th>\n",
              "      <td>1.767364</td>\n",
              "    </tr>\n",
              "    <tr>\n",
              "      <th>50</th>\n",
              "      <td>1.757018</td>\n",
              "    </tr>\n",
              "    <tr>\n",
              "      <th>51</th>\n",
              "      <td>1.746871</td>\n",
              "    </tr>\n",
              "    <tr>\n",
              "      <th>52</th>\n",
              "      <td>1.741717</td>\n",
              "    </tr>\n",
              "    <tr>\n",
              "      <th>53</th>\n",
              "      <td>1.736423</td>\n",
              "    </tr>\n",
              "    <tr>\n",
              "      <th>...</th>\n",
              "      <td>...</td>\n",
              "    </tr>\n",
              "    <tr>\n",
              "      <th>163</th>\n",
              "      <td>1.293464</td>\n",
              "    </tr>\n",
              "    <tr>\n",
              "      <th>164</th>\n",
              "      <td>1.288003</td>\n",
              "    </tr>\n",
              "    <tr>\n",
              "      <th>165</th>\n",
              "      <td>1.287453</td>\n",
              "    </tr>\n",
              "    <tr>\n",
              "      <th>166</th>\n",
              "      <td>1.309015</td>\n",
              "    </tr>\n",
              "    <tr>\n",
              "      <th>167</th>\n",
              "      <td>1.325079</td>\n",
              "    </tr>\n",
              "  </tbody>\n",
              "</table>\n",
              "<p>119 rows × 1 columns</p>\n",
              "</div>\n",
              "      <button class=\"colab-df-convert\" onclick=\"convertToInteractive('df-06f9d6a8-bcc8-4d91-8b8b-788ff732b48a')\"\n",
              "              title=\"Convert this dataframe to an interactive table.\"\n",
              "              style=\"display:none;\">\n",
              "        \n",
              "  <svg xmlns=\"http://www.w3.org/2000/svg\" height=\"24px\"viewBox=\"0 0 24 24\"\n",
              "       width=\"24px\">\n",
              "    <path d=\"M0 0h24v24H0V0z\" fill=\"none\"/>\n",
              "    <path d=\"M18.56 5.44l.94 2.06.94-2.06 2.06-.94-2.06-.94-.94-2.06-.94 2.06-2.06.94zm-11 1L8.5 8.5l.94-2.06 2.06-.94-2.06-.94L8.5 2.5l-.94 2.06-2.06.94zm10 10l.94 2.06.94-2.06 2.06-.94-2.06-.94-.94-2.06-.94 2.06-2.06.94z\"/><path d=\"M17.41 7.96l-1.37-1.37c-.4-.4-.92-.59-1.43-.59-.52 0-1.04.2-1.43.59L10.3 9.45l-7.72 7.72c-.78.78-.78 2.05 0 2.83L4 21.41c.39.39.9.59 1.41.59.51 0 1.02-.2 1.41-.59l7.78-7.78 2.81-2.81c.8-.78.8-2.07 0-2.86zM5.41 20L4 18.59l7.72-7.72 1.47 1.35L5.41 20z\"/>\n",
              "  </svg>\n",
              "      </button>\n",
              "      \n",
              "  <style>\n",
              "    .colab-df-container {\n",
              "      display:flex;\n",
              "      flex-wrap:wrap;\n",
              "      gap: 12px;\n",
              "    }\n",
              "\n",
              "    .colab-df-convert {\n",
              "      background-color: #E8F0FE;\n",
              "      border: none;\n",
              "      border-radius: 50%;\n",
              "      cursor: pointer;\n",
              "      display: none;\n",
              "      fill: #1967D2;\n",
              "      height: 32px;\n",
              "      padding: 0 0 0 0;\n",
              "      width: 32px;\n",
              "    }\n",
              "\n",
              "    .colab-df-convert:hover {\n",
              "      background-color: #E2EBFA;\n",
              "      box-shadow: 0px 1px 2px rgba(60, 64, 67, 0.3), 0px 1px 3px 1px rgba(60, 64, 67, 0.15);\n",
              "      fill: #174EA6;\n",
              "    }\n",
              "\n",
              "    [theme=dark] .colab-df-convert {\n",
              "      background-color: #3B4455;\n",
              "      fill: #D2E3FC;\n",
              "    }\n",
              "\n",
              "    [theme=dark] .colab-df-convert:hover {\n",
              "      background-color: #434B5C;\n",
              "      box-shadow: 0px 1px 3px 1px rgba(0, 0, 0, 0.15);\n",
              "      filter: drop-shadow(0px 1px 2px rgba(0, 0, 0, 0.3));\n",
              "      fill: #FFFFFF;\n",
              "    }\n",
              "  </style>\n",
              "\n",
              "      <script>\n",
              "        const buttonEl =\n",
              "          document.querySelector('#df-06f9d6a8-bcc8-4d91-8b8b-788ff732b48a button.colab-df-convert');\n",
              "        buttonEl.style.display =\n",
              "          google.colab.kernel.accessAllowed ? 'block' : 'none';\n",
              "\n",
              "        async function convertToInteractive(key) {\n",
              "          const element = document.querySelector('#df-06f9d6a8-bcc8-4d91-8b8b-788ff732b48a');\n",
              "          const dataTable =\n",
              "            await google.colab.kernel.invokeFunction('convertToInteractive',\n",
              "                                                     [key], {});\n",
              "          if (!dataTable) return;\n",
              "\n",
              "          const docLinkHtml = 'Like what you see? Visit the ' +\n",
              "            '<a target=\"_blank\" href=https://colab.research.google.com/notebooks/data_table.ipynb>data table notebook</a>'\n",
              "            + ' to learn more about interactive tables.';\n",
              "          element.innerHTML = '';\n",
              "          dataTable['output_type'] = 'display_data';\n",
              "          await google.colab.output.renderOutput(dataTable, element);\n",
              "          const docLink = document.createElement('div');\n",
              "          docLink.innerHTML = docLinkHtml;\n",
              "          element.appendChild(docLink);\n",
              "        }\n",
              "      </script>\n",
              "    </div>\n",
              "  </div>\n",
              "  "
            ]
          },
          "metadata": {},
          "execution_count": 23
        }
      ]
    },
    {
      "cell_type": "markdown",
      "id": "d48d6d20",
      "metadata": {
        "papermill": {
          "duration": 0.912008,
          "end_time": "2021-07-22T04:49:14.657428",
          "exception": false,
          "start_time": "2021-07-22T04:49:13.745420",
          "status": "completed"
        },
        "tags": [],
        "id": "d48d6d20"
      },
      "source": [
        "As can be seen, the mean RMSE is 0.05 (5%), which is very close to the values observed in the literature using this type of network."
      ]
    },
    {
      "cell_type": "code",
      "execution_count": null,
      "id": "4de57b00",
      "metadata": {
        "execution": {
          "iopub.execute_input": "2021-07-22T04:49:16.497961Z",
          "iopub.status.busy": "2021-07-22T04:49:16.497149Z",
          "iopub.status.idle": "2021-07-22T04:49:16.877130Z",
          "shell.execute_reply": "2021-07-22T04:49:16.876386Z",
          "shell.execute_reply.started": "2021-07-21T14:58:32.382252Z"
        },
        "papermill": {
          "duration": 1.30042,
          "end_time": "2021-07-22T04:49:16.877281",
          "exception": false,
          "start_time": "2021-07-22T04:49:15.576861",
          "status": "completed"
        },
        "tags": [],
        "id": "4de57b00",
        "colab": {
          "base_uri": "https://localhost:8080/",
          "height": 742
        },
        "outputId": "e89bf56f-a6af-4de0-e301-86973120250c"
      },
      "outputs": [
        {
          "output_type": "stream",
          "name": "stderr",
          "text": [
            "/usr/local/lib/python3.7/dist-packages/ipykernel_launcher.py:2: SettingWithCopyWarning: \n",
            "A value is trying to be set on a copy of a slice from a DataFrame.\n",
            "Try using .loc[row_indexer,col_indexer] = value instead\n",
            "\n",
            "See the caveats in the documentation: https://pandas.pydata.org/pandas-docs/stable/user_guide/indexing.html#returning-a-view-versus-a-copy\n",
            "  \n"
          ]
        },
        {
          "output_type": "execute_result",
          "data": {
            "text/plain": [
              "Text(0.5, 1.0, 'Discharge B0005 (prediction) start in cycle 50 -RULe=-8, window-size=10')"
            ]
          },
          "metadata": {},
          "execution_count": 35
        },
        {
          "output_type": "display_data",
          "data": {
            "text/plain": [
              "<Figure size 1152x720 with 1 Axes>"
            ],
            "image/png": "[encoded data removed]"
          },
          "metadata": {}
        }
      ],
      "source": [
        "ln = len(data_train)\n",
        "data_test['pre']=pred\n",
        "plot_df = dataset.loc[(dataset['cycle']>=1),['cycle','capacity']]\n",
        "plot_per = data_test.loc[(data_test['cycle']>=ln),['cycle','pre']]\n",
        "plt.figure(figsize=(16, 10))\n",
        "plt.plot(plot_df['cycle'], plot_df['capacity'], label=\"Actual data\", color='blue')\n",
        "plt.plot(plot_per['cycle'],plot_per['pre'],label=\"Prediction data\", color='red')\n",
        "#Draw threshold\n",
        "plt.plot([0.,168], [1.38, 1.38],dashes=[6, 2], label=\"treshold\")\n",
        "plt.ylabel('Capacity')\n",
        "# make x-axis ticks legible\n",
        "adf = plt.gca().get_xaxis().get_major_formatter()\n",
        "plt.xlabel('cycle')\n",
        "plt.legend()\n",
        "plt.title('Discharge B0005 (prediction) start in cycle 50 -RULe=-8, window-size=10')"
      ]
    },
    {
      "cell_type": "code",
      "execution_count": null,
      "id": "b70bde80",
      "metadata": {
        "execution": {
          "iopub.execute_input": "2021-07-22T04:49:20.629070Z",
          "iopub.status.busy": "2021-07-22T04:49:20.628162Z",
          "iopub.status.idle": "2021-07-22T04:49:20.631010Z",
          "shell.execute_reply": "2021-07-22T04:49:20.631515Z",
          "shell.execute_reply.started": "2021-07-21T14:58:32.719138Z"
        },
        "papermill": {
          "duration": 0.935392,
          "end_time": "2021-07-22T04:49:20.631706",
          "exception": false,
          "start_time": "2021-07-22T04:49:19.696314",
          "status": "completed"
        },
        "tags": [],
        "id": "b70bde80",
        "colab": {
          "base_uri": "https://localhost:8080/"
        },
        "outputId": "3d903e9d-9071-4f7f-d93b-922075f394ea"
      },
      "outputs": [
        {
          "output_type": "stream",
          "name": "stdout",
          "text": [
            "The Actual fail at cycle number: 128\n",
            "The prediction fail at cycle number: 140\n",
            "The error of RUL= 12 Cycle(s)\n"
          ]
        }
      ],
      "source": [
        "pred=0\n",
        "Afil=0\n",
        "Pfil=0\n",
        "a=data_test['capacity'].values\n",
        "b=data_test['pre'].values\n",
        "j=0\n",
        "k=0\n",
        "for i in range(len(a)):\n",
        "    actual=a[i]\n",
        "    \n",
        "    if actual<=1.38:\n",
        "        j=i\n",
        "        Afil=j\n",
        "        break\n",
        "for i in range(len(a)):\n",
        "    pred=b[i]\n",
        "    if pred< 1.38:\n",
        "        k=i\n",
        "        Pfil=k\n",
        "        break\n",
        "print(\"The Actual fail at cycle number: \"+ str(Afil+ln))\n",
        "print(\"The prediction fail at cycle number: \"+ str(Pfil+ln))\n",
        "RULerror=Pfil-Afil\n",
        "print(\"The error of RUL= \"+ str(RULerror)+ \" Cycle(s)\")"
      ]
    },
    {
      "cell_type": "markdown",
      "source": [
        "#### Transfer Learning "
      ],
      "metadata": {
        "id": "v5BzMoJRD5io"
      },
      "id": "v5BzMoJRD5io"
    },
    {
      "cell_type": "code",
      "source": [
        "new_model_1 = Sequential()\n",
        "\n",
        "for i in range(len(model.layers) - 1):\n",
        "    new_model_1.add(model.layers[i])\n",
        "\n",
        "# Freeze the layers \n",
        "# for layer in new_model.layers:\n",
        "#     layer.trainable = False  \n",
        "\n",
        "\n",
        "new_model_1.add(Dense(6, activation='relu'))\n",
        "new_model_1.add(Dropout(rate=0.3)) \n",
        "new_model_1.add(Dropout(rate=0.25))\n",
        "new_model_1.add(Dense(9, activation='relu'))\n",
        "new_model_1.add(Dropout(0.3))\n",
        "new_model_1.add(Dense(1, activation='sigmoid'))\n",
        "new_model_1.summary()"
      ],
      "metadata": {
        "id": "O281dCuVRxZc",
        "colab": {
          "base_uri": "https://localhost:8080/"
        },
        "outputId": "b187aba1-c23a-4333-d44b-fc33126b254c"
      },
      "id": "O281dCuVRxZc",
      "execution_count": null,
      "outputs": [
        {
          "output_type": "stream",
          "name": "stdout",
          "text": [
            "Model: \"sequential_8\"\n",
            "_________________________________________________________________\n",
            " Layer (type)                Output Shape              Param #   \n",
            "=================================================================\n",
            " lstm (LSTM)                 (None, 10, 200)           161600    \n",
            "                                                                 \n",
            " dropout_8 (Dropout)         (None, 10, 200)           0         \n",
            "                                                                 \n",
            " lstm_1 (LSTM)               (None, 10, 200)           320800    \n",
            "                                                                 \n",
            " dropout_9 (Dropout)         (None, 10, 200)           0         \n",
            "                                                                 \n",
            " lstm_2 (LSTM)               (None, 10, 200)           320800    \n",
            "                                                                 \n",
            " dropout_10 (Dropout)        (None, 10, 200)           0         \n",
            "                                                                 \n",
            " lstm_3 (LSTM)               (None, 200)               320800    \n",
            "                                                                 \n",
            " dropout_11 (Dropout)        (None, 200)               0         \n",
            "                                                                 \n",
            " dense_19 (Dense)            (None, 6)                 1206      \n",
            "                                                                 \n",
            " dropout_17 (Dropout)        (None, 6)                 0         \n",
            "                                                                 \n",
            " dropout_18 (Dropout)        (None, 6)                 0         \n",
            "                                                                 \n",
            " dense_20 (Dense)            (None, 9)                 63        \n",
            "                                                                 \n",
            " dropout_19 (Dropout)        (None, 9)                 0         \n",
            "                                                                 \n",
            " dense_21 (Dense)            (None, 1)                 10        \n",
            "                                                                 \n",
            "=================================================================\n",
            "Total params: 1,125,279\n",
            "Trainable params: 1,125,279\n",
            "Non-trainable params: 0\n",
            "_________________________________________________________________\n"
          ]
        }
      ]
    },
    {
      "cell_type": "code",
      "source": [
        "model.fit(X_train,y_train,epochs=200,batch_size=20)"
      ],
      "metadata": {
        "colab": {
          "base_uri": "https://localhost:8080/"
        },
        "id": "YbOky6APEbmz",
        "outputId": "11c0a336-ecc1-484c-f6e6-1d639df4cf32"
      },
      "id": "YbOky6APEbmz",
      "execution_count": null,
      "outputs": [
        {
          "output_type": "stream",
          "name": "stdout",
          "text": [
            "Epoch 1/200\n",
            "2/2 [==============================] - 0s 114ms/step - loss: 0.0258\n",
            "Epoch 2/200\n",
            "2/2 [==============================] - 0s 145ms/step - loss: 0.0256\n",
            "Epoch 3/200\n",
            "2/2 [==============================] - 0s 162ms/step - loss: 0.0301\n",
            "Epoch 4/200\n",
            "2/2 [==============================] - 0s 148ms/step - loss: 0.0212\n",
            "Epoch 5/200\n",
            "2/2 [==============================] - 0s 166ms/step - loss: 0.0248\n",
            "Epoch 6/200\n",
            "2/2 [==============================] - 0s 140ms/step - loss: 0.0238\n",
            "Epoch 7/200\n",
            "2/2 [==============================] - 0s 173ms/step - loss: 0.0243\n",
            "Epoch 8/200\n",
            "2/2 [==============================] - 0s 135ms/step - loss: 0.0236\n",
            "Epoch 9/200\n",
            "2/2 [==============================] - 0s 159ms/step - loss: 0.0272\n",
            "Epoch 10/200\n",
            "2/2 [==============================] - 0s 142ms/step - loss: 0.0228\n",
            "Epoch 11/200\n",
            "2/2 [==============================] - 0s 160ms/step - loss: 0.0218\n",
            "Epoch 12/200\n",
            "2/2 [==============================] - 0s 146ms/step - loss: 0.0249\n",
            "Epoch 13/200\n",
            "2/2 [==============================] - 0s 142ms/step - loss: 0.0228\n",
            "Epoch 14/200\n",
            "2/2 [==============================] - 0s 133ms/step - loss: 0.0238\n",
            "Epoch 15/200\n",
            "2/2 [==============================] - 0s 149ms/step - loss: 0.0222\n",
            "Epoch 16/200\n",
            "2/2 [==============================] - 0s 199ms/step - loss: 0.0233\n",
            "Epoch 17/200\n",
            "2/2 [==============================] - 0s 150ms/step - loss: 0.0255\n",
            "Epoch 18/200\n",
            "2/2 [==============================] - 0s 152ms/step - loss: 0.0244\n",
            "Epoch 19/200\n",
            "2/2 [==============================] - 0s 162ms/step - loss: 0.0220\n",
            "Epoch 20/200\n",
            "2/2 [==============================] - 0s 132ms/step - loss: 0.0239\n",
            "Epoch 21/200\n",
            "2/2 [==============================] - 0s 162ms/step - loss: 0.0241\n",
            "Epoch 22/200\n",
            "2/2 [==============================] - 0s 133ms/step - loss: 0.0225\n",
            "Epoch 23/200\n",
            "2/2 [==============================] - 0s 147ms/step - loss: 0.0241\n",
            "Epoch 24/200\n",
            "2/2 [==============================] - 0s 169ms/step - loss: 0.0230\n",
            "Epoch 25/200\n",
            "2/2 [==============================] - 0s 136ms/step - loss: 0.0324\n",
            "Epoch 26/200\n",
            "2/2 [==============================] - 0s 237ms/step - loss: 0.0243\n",
            "Epoch 27/200\n",
            "2/2 [==============================] - 0s 189ms/step - loss: 0.0210\n",
            "Epoch 28/200\n",
            "2/2 [==============================] - 0s 155ms/step - loss: 0.0241\n",
            "Epoch 29/200\n",
            "2/2 [==============================] - 0s 170ms/step - loss: 0.0198\n",
            "Epoch 30/200\n",
            "2/2 [==============================] - 0s 223ms/step - loss: 0.0198\n",
            "Epoch 31/200\n",
            "2/2 [==============================] - 0s 202ms/step - loss: 0.0230\n",
            "Epoch 32/200\n",
            "2/2 [==============================] - 0s 186ms/step - loss: 0.0220\n",
            "Epoch 33/200\n",
            "2/2 [==============================] - 0s 137ms/step - loss: 0.0249\n",
            "Epoch 34/200\n",
            "2/2 [==============================] - 0s 169ms/step - loss: 0.0183\n",
            "Epoch 35/200\n",
            "2/2 [==============================] - 0s 155ms/step - loss: 0.0215\n",
            "Epoch 36/200\n",
            "2/2 [==============================] - 0s 164ms/step - loss: 0.0197\n",
            "Epoch 37/200\n",
            "2/2 [==============================] - 0s 150ms/step - loss: 0.0260\n",
            "Epoch 38/200\n",
            "2/2 [==============================] - 0s 178ms/step - loss: 0.0225\n",
            "Epoch 39/200\n",
            "2/2 [==============================] - 0s 154ms/step - loss: 0.0233\n",
            "Epoch 40/200\n",
            "2/2 [==============================] - 0s 149ms/step - loss: 0.0214\n",
            "Epoch 41/200\n",
            "2/2 [==============================] - 0s 164ms/step - loss: 0.0217\n",
            "Epoch 42/200\n",
            "2/2 [==============================] - 0s 202ms/step - loss: 0.0231\n",
            "Epoch 43/200\n",
            "2/2 [==============================] - 0s 141ms/step - loss: 0.0270\n",
            "Epoch 44/200\n",
            "2/2 [==============================] - 0s 136ms/step - loss: 0.0243\n",
            "Epoch 45/200\n",
            "2/2 [==============================] - 0s 174ms/step - loss: 0.0203\n",
            "Epoch 46/200\n",
            "2/2 [==============================] - 0s 136ms/step - loss: 0.0232\n",
            "Epoch 47/200\n",
            "2/2 [==============================] - 0s 130ms/step - loss: 0.0237\n",
            "Epoch 48/200\n",
            "2/2 [==============================] - 0s 157ms/step - loss: 0.0187\n",
            "Epoch 49/200\n",
            "2/2 [==============================] - 0s 147ms/step - loss: 0.0259\n",
            "Epoch 50/200\n",
            "2/2 [==============================] - 0s 211ms/step - loss: 0.0245\n",
            "Epoch 51/200\n",
            "2/2 [==============================] - 1s 284ms/step - loss: 0.0228\n",
            "Epoch 52/200\n",
            "2/2 [==============================] - 1s 264ms/step - loss: 0.0230\n",
            "Epoch 53/200\n",
            "2/2 [==============================] - 0s 166ms/step - loss: 0.0243\n",
            "Epoch 54/200\n",
            "2/2 [==============================] - 0s 144ms/step - loss: 0.0211\n",
            "Epoch 55/200\n",
            "2/2 [==============================] - 0s 128ms/step - loss: 0.0208\n",
            "Epoch 56/200\n",
            "2/2 [==============================] - 0s 165ms/step - loss: 0.0252\n",
            "Epoch 57/200\n",
            "2/2 [==============================] - 0s 166ms/step - loss: 0.0210\n",
            "Epoch 58/200\n",
            "2/2 [==============================] - 0s 142ms/step - loss: 0.0190\n",
            "Epoch 59/200\n",
            "2/2 [==============================] - 0s 128ms/step - loss: 0.0238\n",
            "Epoch 60/200\n",
            "2/2 [==============================] - 0s 134ms/step - loss: 0.0180\n",
            "Epoch 61/200\n",
            "2/2 [==============================] - 0s 135ms/step - loss: 0.0184\n",
            "Epoch 62/200\n",
            "2/2 [==============================] - 0s 128ms/step - loss: 0.0232\n",
            "Epoch 63/200\n",
            "2/2 [==============================] - 0s 166ms/step - loss: 0.0254\n",
            "Epoch 64/200\n",
            "2/2 [==============================] - 0s 129ms/step - loss: 0.0217\n",
            "Epoch 65/200\n",
            "2/2 [==============================] - 0s 144ms/step - loss: 0.0234\n",
            "Epoch 66/200\n",
            "2/2 [==============================] - 0s 129ms/step - loss: 0.0192\n",
            "Epoch 67/200\n",
            "2/2 [==============================] - 0s 141ms/step - loss: 0.0236\n",
            "Epoch 68/200\n",
            "2/2 [==============================] - 0s 123ms/step - loss: 0.0239\n",
            "Epoch 69/200\n",
            "2/2 [==============================] - 0s 132ms/step - loss: 0.0219\n",
            "Epoch 70/200\n",
            "2/2 [==============================] - 0s 127ms/step - loss: 0.0240\n",
            "Epoch 71/200\n",
            "2/2 [==============================] - 0s 154ms/step - loss: 0.0219\n",
            "Epoch 72/200\n",
            "2/2 [==============================] - 0s 136ms/step - loss: 0.0231\n",
            "Epoch 73/200\n",
            "2/2 [==============================] - 0s 122ms/step - loss: 0.0254\n",
            "Epoch 74/200\n",
            "2/2 [==============================] - 0s 131ms/step - loss: 0.0218\n",
            "Epoch 75/200\n",
            "2/2 [==============================] - 0s 139ms/step - loss: 0.0215\n",
            "Epoch 76/200\n",
            "2/2 [==============================] - 0s 129ms/step - loss: 0.0238\n",
            "Epoch 77/200\n",
            "2/2 [==============================] - 0s 148ms/step - loss: 0.0176\n",
            "Epoch 78/200\n",
            "2/2 [==============================] - 0s 153ms/step - loss: 0.0185\n",
            "Epoch 79/200\n",
            "2/2 [==============================] - 0s 126ms/step - loss: 0.0193\n",
            "Epoch 80/200\n",
            "2/2 [==============================] - 0s 123ms/step - loss: 0.0212\n",
            "Epoch 81/200\n",
            "2/2 [==============================] - 0s 137ms/step - loss: 0.0255\n",
            "Epoch 82/200\n",
            "2/2 [==============================] - 0s 151ms/step - loss: 0.0223\n",
            "Epoch 83/200\n",
            "2/2 [==============================] - 0s 137ms/step - loss: 0.0197\n",
            "Epoch 84/200\n",
            "2/2 [==============================] - 0s 257ms/step - loss: 0.0230\n",
            "Epoch 85/200\n",
            "2/2 [==============================] - 0s 182ms/step - loss: 0.0215\n",
            "Epoch 86/200\n",
            "2/2 [==============================] - 0s 170ms/step - loss: 0.0185\n",
            "Epoch 87/200\n",
            "2/2 [==============================] - 0s 183ms/step - loss: 0.0200\n",
            "Epoch 88/200\n",
            "2/2 [==============================] - 0s 169ms/step - loss: 0.0180\n",
            "Epoch 89/200\n",
            "2/2 [==============================] - 0s 151ms/step - loss: 0.0170\n",
            "Epoch 90/200\n",
            "2/2 [==============================] - 0s 185ms/step - loss: 0.0227\n",
            "Epoch 91/200\n",
            "2/2 [==============================] - 0s 136ms/step - loss: 0.0196\n",
            "Epoch 92/200\n",
            "2/2 [==============================] - 0s 142ms/step - loss: 0.0206\n",
            "Epoch 93/200\n",
            "2/2 [==============================] - 0s 129ms/step - loss: 0.0195\n",
            "Epoch 94/200\n",
            "2/2 [==============================] - 0s 142ms/step - loss: 0.0211\n",
            "Epoch 95/200\n",
            "2/2 [==============================] - 0s 135ms/step - loss: 0.0197\n",
            "Epoch 96/200\n",
            "2/2 [==============================] - 0s 146ms/step - loss: 0.0183\n",
            "Epoch 97/200\n",
            "2/2 [==============================] - 0s 158ms/step - loss: 0.0227\n",
            "Epoch 98/200\n",
            "2/2 [==============================] - 0s 149ms/step - loss: 0.0188\n",
            "Epoch 99/200\n",
            "2/2 [==============================] - 0s 140ms/step - loss: 0.0232\n",
            "Epoch 100/200\n",
            "2/2 [==============================] - 0s 108ms/step - loss: 0.0202\n",
            "Epoch 101/200\n",
            "2/2 [==============================] - 0s 142ms/step - loss: 0.0195\n",
            "Epoch 102/200\n",
            "2/2 [==============================] - 0s 141ms/step - loss: 0.0190\n",
            "Epoch 103/200\n",
            "2/2 [==============================] - 0s 139ms/step - loss: 0.0175\n",
            "Epoch 104/200\n",
            "2/2 [==============================] - 0s 158ms/step - loss: 0.0239\n",
            "Epoch 105/200\n",
            "2/2 [==============================] - 0s 132ms/step - loss: 0.0248\n",
            "Epoch 106/200\n",
            "2/2 [==============================] - 0s 120ms/step - loss: 0.0235\n",
            "Epoch 107/200\n",
            "2/2 [==============================] - 0s 143ms/step - loss: 0.0217\n",
            "Epoch 108/200\n",
            "2/2 [==============================] - 0s 168ms/step - loss: 0.0185\n",
            "Epoch 109/200\n",
            "2/2 [==============================] - 0s 140ms/step - loss: 0.0204\n",
            "Epoch 110/200\n",
            "2/2 [==============================] - 0s 129ms/step - loss: 0.0245\n",
            "Epoch 111/200\n",
            "2/2 [==============================] - 0s 152ms/step - loss: 0.0176\n",
            "Epoch 112/200\n",
            "2/2 [==============================] - 0s 137ms/step - loss: 0.0230\n",
            "Epoch 113/200\n",
            "2/2 [==============================] - 0s 130ms/step - loss: 0.0202\n",
            "Epoch 114/200\n",
            "2/2 [==============================] - 0s 138ms/step - loss: 0.0241\n",
            "Epoch 115/200\n",
            "2/2 [==============================] - 0s 137ms/step - loss: 0.0190\n",
            "Epoch 116/200\n",
            "2/2 [==============================] - 0s 148ms/step - loss: 0.0188\n",
            "Epoch 117/200\n",
            "2/2 [==============================] - 0s 136ms/step - loss: 0.0214\n",
            "Epoch 118/200\n",
            "2/2 [==============================] - 0s 176ms/step - loss: 0.0184\n",
            "Epoch 119/200\n",
            "2/2 [==============================] - 0s 149ms/step - loss: 0.0189\n",
            "Epoch 120/200\n",
            "2/2 [==============================] - 0s 152ms/step - loss: 0.0175\n",
            "Epoch 121/200\n",
            "2/2 [==============================] - 0s 131ms/step - loss: 0.0191\n",
            "Epoch 122/200\n",
            "2/2 [==============================] - 0s 151ms/step - loss: 0.0228\n",
            "Epoch 123/200\n",
            "2/2 [==============================] - 0s 127ms/step - loss: 0.0244\n",
            "Epoch 124/200\n",
            "2/2 [==============================] - 0s 133ms/step - loss: 0.0224\n",
            "Epoch 125/200\n",
            "2/2 [==============================] - 0s 131ms/step - loss: 0.0223\n",
            "Epoch 126/200\n",
            "2/2 [==============================] - 0s 138ms/step - loss: 0.0219\n",
            "Epoch 127/200\n",
            "2/2 [==============================] - 0s 144ms/step - loss: 0.0211\n",
            "Epoch 128/200\n",
            "2/2 [==============================] - 0s 126ms/step - loss: 0.0202\n",
            "Epoch 129/200\n",
            "2/2 [==============================] - 0s 167ms/step - loss: 0.0203\n",
            "Epoch 130/200\n",
            "2/2 [==============================] - 0s 168ms/step - loss: 0.0213\n",
            "Epoch 131/200\n",
            "2/2 [==============================] - 0s 176ms/step - loss: 0.0169\n",
            "Epoch 132/200\n",
            "2/2 [==============================] - 0s 144ms/step - loss: 0.0196\n",
            "Epoch 133/200\n",
            "2/2 [==============================] - 0s 141ms/step - loss: 0.0214\n",
            "Epoch 134/200\n",
            "2/2 [==============================] - 0s 102ms/step - loss: 0.0201\n",
            "Epoch 135/200\n",
            "2/2 [==============================] - 0s 95ms/step - loss: 0.0197\n",
            "Epoch 136/200\n",
            "2/2 [==============================] - 0s 96ms/step - loss: 0.0231\n",
            "Epoch 137/200\n",
            "2/2 [==============================] - 0s 99ms/step - loss: 0.0158\n",
            "Epoch 138/200\n",
            "2/2 [==============================] - 0s 97ms/step - loss: 0.0191\n",
            "Epoch 139/200\n",
            "2/2 [==============================] - 0s 101ms/step - loss: 0.0202\n",
            "Epoch 140/200\n",
            "2/2 [==============================] - 0s 101ms/step - loss: 0.0170\n",
            "Epoch 141/200\n",
            "2/2 [==============================] - 0s 107ms/step - loss: 0.0240\n",
            "Epoch 142/200\n",
            "2/2 [==============================] - 0s 108ms/step - loss: 0.0206\n",
            "Epoch 143/200\n",
            "2/2 [==============================] - 0s 157ms/step - loss: 0.0221\n",
            "Epoch 144/200\n",
            "2/2 [==============================] - 0s 153ms/step - loss: 0.0187\n",
            "Epoch 145/200\n",
            "2/2 [==============================] - 0s 173ms/step - loss: 0.0190\n",
            "Epoch 146/200\n",
            "2/2 [==============================] - 0s 168ms/step - loss: 0.0179\n",
            "Epoch 147/200\n",
            "2/2 [==============================] - 0s 146ms/step - loss: 0.0190\n",
            "Epoch 148/200\n",
            "2/2 [==============================] - 0s 152ms/step - loss: 0.0218\n",
            "Epoch 149/200\n",
            "2/2 [==============================] - 0s 152ms/step - loss: 0.0213\n",
            "Epoch 150/200\n",
            "2/2 [==============================] - 0s 135ms/step - loss: 0.0196\n",
            "Epoch 151/200\n",
            "2/2 [==============================] - 0s 173ms/step - loss: 0.0216\n",
            "Epoch 152/200\n",
            "2/2 [==============================] - 0s 158ms/step - loss: 0.0185\n",
            "Epoch 153/200\n",
            "2/2 [==============================] - 0s 176ms/step - loss: 0.0191\n",
            "Epoch 154/200\n",
            "2/2 [==============================] - 0s 158ms/step - loss: 0.0176\n",
            "Epoch 155/200\n",
            "2/2 [==============================] - 0s 198ms/step - loss: 0.0193\n",
            "Epoch 156/200\n",
            "2/2 [==============================] - 0s 145ms/step - loss: 0.0191\n",
            "Epoch 157/200\n",
            "2/2 [==============================] - 0s 154ms/step - loss: 0.0198\n",
            "Epoch 158/200\n",
            "2/2 [==============================] - 0s 159ms/step - loss: 0.0157\n",
            "Epoch 159/200\n",
            "2/2 [==============================] - 0s 150ms/step - loss: 0.0192\n",
            "Epoch 160/200\n",
            "2/2 [==============================] - 0s 147ms/step - loss: 0.0172\n",
            "Epoch 161/200\n",
            "2/2 [==============================] - 0s 155ms/step - loss: 0.0218\n",
            "Epoch 162/200\n",
            "2/2 [==============================] - 0s 147ms/step - loss: 0.0229\n",
            "Epoch 163/200\n",
            "2/2 [==============================] - 0s 94ms/step - loss: 0.0160\n",
            "Epoch 164/200\n",
            "2/2 [==============================] - 0s 94ms/step - loss: 0.0184\n",
            "Epoch 165/200\n",
            "2/2 [==============================] - 0s 94ms/step - loss: 0.0184\n",
            "Epoch 166/200\n",
            "2/2 [==============================] - 0s 94ms/step - loss: 0.0160\n",
            "Epoch 167/200\n",
            "2/2 [==============================] - 0s 101ms/step - loss: 0.0183\n",
            "Epoch 168/200\n",
            "2/2 [==============================] - 0s 96ms/step - loss: 0.0199\n",
            "Epoch 169/200\n",
            "2/2 [==============================] - 0s 101ms/step - loss: 0.0178\n",
            "Epoch 170/200\n",
            "2/2 [==============================] - 0s 94ms/step - loss: 0.0200\n",
            "Epoch 171/200\n",
            "2/2 [==============================] - 0s 90ms/step - loss: 0.0204\n",
            "Epoch 172/200\n",
            "2/2 [==============================] - 0s 97ms/step - loss: 0.0177\n",
            "Epoch 173/200\n",
            "2/2 [==============================] - 0s 100ms/step - loss: 0.0185\n",
            "Epoch 174/200\n",
            "2/2 [==============================] - 0s 97ms/step - loss: 0.0221\n",
            "Epoch 175/200\n",
            "2/2 [==============================] - 0s 94ms/step - loss: 0.0168\n",
            "Epoch 176/200\n",
            "2/2 [==============================] - 0s 103ms/step - loss: 0.0206\n",
            "Epoch 177/200\n",
            "2/2 [==============================] - 0s 103ms/step - loss: 0.0189\n",
            "Epoch 178/200\n",
            "2/2 [==============================] - 0s 93ms/step - loss: 0.0173\n",
            "Epoch 179/200\n",
            "2/2 [==============================] - 0s 109ms/step - loss: 0.0167\n",
            "Epoch 180/200\n",
            "2/2 [==============================] - 0s 97ms/step - loss: 0.0204\n",
            "Epoch 181/200\n",
            "2/2 [==============================] - 0s 93ms/step - loss: 0.0213\n",
            "Epoch 182/200\n",
            "2/2 [==============================] - 0s 97ms/step - loss: 0.0211\n",
            "Epoch 183/200\n",
            "2/2 [==============================] - 0s 102ms/step - loss: 0.0166\n",
            "Epoch 184/200\n",
            "2/2 [==============================] - 0s 99ms/step - loss: 0.0231\n",
            "Epoch 185/200\n",
            "2/2 [==============================] - 0s 93ms/step - loss: 0.0175\n",
            "Epoch 186/200\n",
            "2/2 [==============================] - 0s 102ms/step - loss: 0.0182\n",
            "Epoch 187/200\n",
            "2/2 [==============================] - 0s 102ms/step - loss: 0.0175\n",
            "Epoch 188/200\n",
            "2/2 [==============================] - 0s 98ms/step - loss: 0.0197\n",
            "Epoch 189/200\n",
            "2/2 [==============================] - 0s 99ms/step - loss: 0.0207\n",
            "Epoch 190/200\n",
            "2/2 [==============================] - 0s 91ms/step - loss: 0.0226\n",
            "Epoch 191/200\n",
            "2/2 [==============================] - 0s 93ms/step - loss: 0.0228\n",
            "Epoch 192/200\n",
            "2/2 [==============================] - 0s 99ms/step - loss: 0.0204\n",
            "Epoch 193/200\n",
            "2/2 [==============================] - 0s 100ms/step - loss: 0.0166\n",
            "Epoch 194/200\n",
            "2/2 [==============================] - 0s 97ms/step - loss: 0.0170\n",
            "Epoch 195/200\n",
            "2/2 [==============================] - 0s 101ms/step - loss: 0.0192\n",
            "Epoch 196/200\n",
            "2/2 [==============================] - 0s 98ms/step - loss: 0.0185\n",
            "Epoch 197/200\n",
            "2/2 [==============================] - 0s 95ms/step - loss: 0.0169\n",
            "Epoch 198/200\n",
            "2/2 [==============================] - 0s 98ms/step - loss: 0.0188\n",
            "Epoch 199/200\n",
            "2/2 [==============================] - 0s 96ms/step - loss: 0.0194\n",
            "Epoch 200/200\n",
            "2/2 [==============================] - 0s 123ms/step - loss: 0.0188\n"
          ]
        },
        {
          "output_type": "execute_result",
          "data": {
            "text/plain": [
              "<keras.callbacks.History at 0x7f9c47cf5310>"
            ]
          },
          "metadata": {},
          "execution_count": 40
        }
      ]
    },
    {
      "cell_type": "code",
      "source": [
        "print(len(data_test))\n",
        "data_total=pd.concat((data_train['capacity'], data_test['capacity']),axis=0)\n",
        "inputs=data_total[len(data_total)-len(data_test)-10:].values\n",
        "inputs=inputs.reshape(-1,1)\n",
        "inputs=sc.transform(inputs)"
      ],
      "metadata": {
        "colab": {
          "base_uri": "https://localhost:8080/"
        },
        "id": "y-FKyzNJElz1",
        "outputId": "ba8c6771-2a8b-4abd-a11c-4fdb1a04e4d4"
      },
      "id": "y-FKyzNJElz1",
      "execution_count": null,
      "outputs": [
        {
          "output_type": "stream",
          "name": "stdout",
          "text": [
            "119\n"
          ]
        }
      ]
    },
    {
      "cell_type": "code",
      "source": [
        "X_test=[]\n",
        "for i in range(10,129):\n",
        "    X_test.append(inputs[i-10:i,0])\n",
        "X_test=np.array(X_test)\n",
        "X_test=np.reshape(X_test,(X_test.shape[0],X_test.shape[1],1))\n",
        "pred=model.predict(X_test)\n",
        "print(pred.shape)\n",
        "pred=sc.inverse_transform(pred)\n",
        "pred=pred[:,0]\n",
        "tests=data_test.iloc[:,1:2]\n",
        "rmse = np.sqrt(mean_squared_error(tests, pred))\n",
        "print('Test RMSE: %.3f' % rmse)\n",
        "metrics.r2_score(tests,pred)"
      ],
      "metadata": {
        "colab": {
          "base_uri": "https://localhost:8080/"
        },
        "id": "22fezoBeEpmA",
        "outputId": "c21b9dc9-7c08-4b21-db94-373dbd009741"
      },
      "id": "22fezoBeEpmA",
      "execution_count": null,
      "outputs": [
        {
          "output_type": "stream",
          "name": "stdout",
          "text": [
            "(119, 1)\n",
            "Test RMSE: 0.229\n"
          ]
        },
        {
          "output_type": "execute_result",
          "data": {
            "text/plain": [
              "-1.8629644491105406"
            ]
          },
          "metadata": {},
          "execution_count": 42
        }
      ]
    },
    {
      "cell_type": "code",
      "source": [
        "ln = len(data_train)\n",
        "data_test['pre']=pred\n",
        "plot_df = dataset.loc[(dataset['cycle']>=1),['cycle','capacity']]\n",
        "plot_per = data_test.loc[(data_test['cycle']>=ln),['cycle','pre']]\n",
        "plt.figure(figsize=(16, 10))\n",
        "plt.plot(plot_df['cycle'], plot_df['capacity'], label=\"Actual data\", color='blue')\n",
        "plt.plot(plot_per['cycle'],plot_per['pre'],label=\"Prediction data\", color='red')\n",
        "#Draw threshold\n",
        "plt.plot([0.,168], [1.38, 1.38],dashes=[6, 2], label=\"treshold\")\n",
        "plt.ylabel('Capacity')\n",
        "# make x-axis ticks legible\n",
        "adf = plt.gca().get_xaxis().get_major_formatter()\n",
        "plt.xlabel('cycle')\n",
        "plt.legend()\n",
        "plt.title('Discharge B0005 (prediction) start in cycle 50 -RULe=-8, window-size=10')"
      ],
      "metadata": {
        "colab": {
          "base_uri": "https://localhost:8080/",
          "height": 742
        },
        "id": "oa7SRqrvE2mQ",
        "outputId": "fcc839aa-36df-4b9d-a2c1-419caf05e8c8"
      },
      "id": "oa7SRqrvE2mQ",
      "execution_count": null,
      "outputs": [
        {
          "output_type": "stream",
          "name": "stderr",
          "text": [
            "/usr/local/lib/python3.7/dist-packages/ipykernel_launcher.py:2: SettingWithCopyWarning: \n",
            "A value is trying to be set on a copy of a slice from a DataFrame.\n",
            "Try using .loc[row_indexer,col_indexer] = value instead\n",
            "\n",
            "See the caveats in the documentation: https://pandas.pydata.org/pandas-docs/stable/user_guide/indexing.html#returning-a-view-versus-a-copy\n",
            "  \n"
          ]
        },
        {
          "output_type": "execute_result",
          "data": {
            "text/plain": [
              "Text(0.5, 1.0, 'Discharge B0005 (prediction) start in cycle 50 -RULe=-8, window-size=10')"
            ]
          },
          "metadata": {},
          "execution_count": 43
        },
        {
          "output_type": "display_data",
          "data": {
            "text/plain": [
              "<Figure size 1152x720 with 1 Axes>"
            ],
            "image/png": "[encoded data removed]"
          },
          "metadata": {}
        }
      ]
    },
    {
      "cell_type": "code",
      "source": [
        "pred=0\n",
        "Afil=0\n",
        "Pfil=0\n",
        "a=data_test['capacity'].values\n",
        "b=data_test['pre'].values\n",
        "j=0\n",
        "k=0\n",
        "for i in range(len(a)):\n",
        "    actual=a[i]\n",
        "    \n",
        "    if actual<=1.38:\n",
        "        j=i\n",
        "        Afil=j\n",
        "        break\n",
        "for i in range(len(a)):\n",
        "    pred=b[i]\n",
        "    if pred< 1.38:\n",
        "        k=i\n",
        "        Pfil=k\n",
        "        break\n",
        "print(\"The Actual fail at cycle number: \"+ str(Afil+ln))\n",
        "print(\"The prediction fail at cycle number: \"+ str(Pfil+ln))\n",
        "RULerror=Pfil-Afil\n",
        "print(\"The error of RUL= \"+ str(RULerror)+ \" Cycle(s)\")"
      ],
      "metadata": {
        "colab": {
          "base_uri": "https://localhost:8080/"
        },
        "id": "SGriCZWAE3FP",
        "outputId": "b27436b6-d85c-422d-ea7e-4dca196c4db0"
      },
      "id": "SGriCZWAE3FP",
      "execution_count": null,
      "outputs": [
        {
          "output_type": "stream",
          "name": "stdout",
          "text": [
            "The Actual fail at cycle number: 128\n",
            "The prediction fail at cycle number: 131\n",
            "The error of RUL= 3 Cycle(s)\n"
          ]
        }
      ]
    }
  ],
  "metadata": {
    "kernelspec": {
      "display_name": "Python 3",
      "language": "python",
      "name": "python3"
    },
    "language_info": {
      "codemirror_mode": {
        "name": "ipython",
        "version": 3
      },
      "file_extension": ".py",
      "mimetype": "text/x-python",
      "name": "python",
      "nbconvert_exporter": "python",
      "pygments_lexer": "ipython3",
      "version": "3.7.10"
    },
    "papermill": {
      "default_parameters": {},
      "duration": 274.33584,
      "end_time": "2021-07-22T04:49:24.036616",
      "environment_variables": {},
      "exception": null,
      "input_path": "__notebook__.ipynb",
      "output_path": "__notebook__.ipynb",
      "parameters": {},
      "start_time": "2021-07-22T04:44:49.700776",
      "version": "2.3.3"
    },
    "colab": {
      "name": "Battery_Heath_NASAt.ipynb",
      "provenance": [],
      "collapsed_sections": [
        "cc44cd89",
        "92Gi8dBVGTgp",
        "v5BzMoJRD5io"
      ]
    }
  },
  "nbformat": 4,
  "nbformat_minor": 5
}